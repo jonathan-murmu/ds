{
 "cells": [
  {
   "cell_type": "markdown",
   "metadata": {},
   "source": [
    "Analytically Stable\n",
    "You are given with a number .  A 4 digit number is said to be \"Analytically Stable\", if the four digits of the number are of the form, , where . \n",
    "\n",
    "Your task is to pick 4 digit subsequences of the given number , such that the 4 digit number formed by them is Analytically Stable. \n",
    "\n",
    "Output the number of such sub-sequences. As answer may be too large, output the answer mod .\n",
    "\n",
    "Input\n",
    "The first line of input contains an integer , denoting the number of test cases. \n",
    "The first line of each test case contains a number .\n",
    "\n",
    "Output\n",
    "For each test case output the number of Analytically Stable sub-sequences mod .\n",
    "\n",
    "Constraints\n",
    "Explanation\n",
    "Test Case #1:\n",
    "\n",
    "There are 3 ways of achieving number: 1122 which is \"Analytically Stable\". Therefore the answer is 3.\n",
    "\n",
    "Test Case #2:\n",
    "\n",
    "There are 3 ways of achieving number: 5566, 1 way of achieving number: 1122, and 1 way of achieving number: 3344. Therefore the answer is 5.\n",
    "\n",
    "Note: Your code should be able to convert the sample input into the sample output. However, this is not enough to pass the challenge, because the code will be run on multiple test cases. Therefore, your code must solve this problem statement."
   ]
  },
  {
   "cell_type": "code",
   "execution_count": 2,
   "metadata": {
    "collapsed": true
   },
   "outputs": [],
   "source": [
    "import operator as op\n",
    "from functools import reduce"
   ]
  },
  {
   "cell_type": "code",
   "execution_count": 3,
   "metadata": {
    "collapsed": true
   },
   "outputs": [],
   "source": [
    "def solve (N):\n",
    "    # Write your code here\n",
    "    per = {}\n",
    "    for n in N:\n",
    "        n = int(n)\n",
    "        if n in per:\n",
    "            per[n][0] = per[n][0] +str(n)\n",
    "            per[n][1] += 1\n",
    "            #per[n] = per[n]+str(n)\n",
    "            if (n - 1) in per and len(per[n-1][0]) >= 2:\n",
    "                per[n-1][0] = per[n-1][0]+str(n)\n",
    "                if per[n-1][2] and per[n][1] >=2:\n",
    "                    per[n-1][3] = True\n",
    "            if per[n][1] >= 2:\n",
    "                per[n][2] = True\n",
    "        else:\n",
    "            per[n] = ['{0}'.format(n), 1, False, False]\n",
    "            if (n - 1) in per and len(per[n-1][0]) >= 2:\n",
    "                per[n-1][0] = per[n-1][0]+str(n)\n",
    "            \n",
    "    print(per)\n",
    "    _sum = 0\n",
    "    # print(per)\n",
    "    for n in per:\n",
    "        n = int(n)\n",
    "        if n +1 in per and per[n][2] and per[n][3]:\n",
    "            # print(ncr(per[n][1], 2),ncr(per[n+1][1], 2))\n",
    "            res = ncr(per[n][1], 2) * ncr(per[n+1][1], 2)\n",
    "            print(res, n)\n",
    "            _sum += res\n",
    "        \n",
    "    return int(_sum)\n"
   ]
  },
  {
   "cell_type": "code",
   "execution_count": 4,
   "metadata": {
    "collapsed": true
   },
   "outputs": [],
   "source": [
    "def ncr(n, r):\n",
    "    r = min(r, n-r)\n",
    "    number = reduce(op.mul, range(n, n-r, -1), 1)\n",
    "    denom = reduce(op.mul, range(1, r+1), 1)\n",
    "    return number / denom"
   ]
  },
  {
   "cell_type": "code",
   "execution_count": 5,
   "metadata": {},
   "outputs": [
    {
     "name": "stdout",
     "output_type": "stream",
     "text": [
      "{1: ['11222', 2, True, True], 5: ['55', 2, True, False], 7: ['7', 1, False, False], 3: ['333', 3, True, False], 2: ['222', 3, True, False]}\n",
      "3.0 1\n"
     ]
    },
    {
     "data": {
      "text/plain": [
       "3"
      ]
     },
     "execution_count": 5,
     "metadata": {},
     "output_type": "execute_result"
    }
   ],
   "source": [
    "solve('15157323322')"
   ]
  },
  {
   "cell_type": "code",
   "execution_count": 6,
   "metadata": {},
   "outputs": [
    {
     "name": "stdout",
     "output_type": "stream",
     "text": [
      "{1: ['1122', 2, True, True], 3: ['3344', 2, True, True], 5: ['55566', 3, True, True], 2: ['22', 2, True, False], 4: ['44', 2, True, False], 6: ['66', 2, True, False]}\n",
      "1.0 1\n",
      "1.0 3\n",
      "3.0 5\n"
     ]
    },
    {
     "data": {
      "text/plain": [
       "5"
      ]
     },
     "execution_count": 6,
     "metadata": {},
     "output_type": "execute_result"
    }
   ],
   "source": [
    "solve('1351355246246')"
   ]
  },
  {
   "cell_type": "code",
   "execution_count": null,
   "metadata": {
    "collapsed": true
   },
   "outputs": [],
   "source": []
  }
 ],
 "metadata": {
  "kernelspec": {
   "display_name": "Python 3",
   "language": "python",
   "name": "python3"
  },
  "language_info": {
   "codemirror_mode": {
    "name": "ipython",
    "version": 3
   },
   "file_extension": ".py",
   "mimetype": "text/x-python",
   "name": "python",
   "nbconvert_exporter": "python",
   "pygments_lexer": "ipython3",
   "version": "3.6.1"
  }
 },
 "nbformat": 4,
 "nbformat_minor": 2
}
