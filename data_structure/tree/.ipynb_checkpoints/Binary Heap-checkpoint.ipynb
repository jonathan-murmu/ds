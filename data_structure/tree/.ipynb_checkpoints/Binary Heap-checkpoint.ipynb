{
 "cells": [
  {
   "cell_type": "markdown",
   "metadata": {},
   "source": [
    "# Binary Heap"
   ]
  },
  {
   "cell_type": "code",
   "execution_count": 213,
   "metadata": {},
   "outputs": [],
   "source": [
    "class MinHeap(object):\n",
    "    \"\"\"Recursive Binary Heap.\"\"\"\n",
    "    def __init__(self):\n",
    "        self.min_heap = []\n",
    "        self.current_size = 0\n",
    "    \n",
    "    def insert(self, key):\n",
    "        \"\"\"Insert the element at the last, then perk up\"\"\"\n",
    "        self.min_heap.append(key)\n",
    "        self.current_size += 1\n",
    "        if self.current_size != 1:\n",
    "            self.perkup(self.current_size - 1) # -1 because indexing starts with 0\n",
    "    \n",
    "    def perkup(self, i):\n",
    "        print('i=', i)\n",
    "        print('current_size=', self.current_size)\n",
    "        print('heap=', self.min_heap)\n",
    "        if i == 0:\n",
    "            return\n",
    "        \n",
    "        parent_index = (i-1)//2\n",
    "\n",
    "        if self.min_heap[parent_index] > self.min_heap[i]:\n",
    "            # swap\n",
    "            self.min_heap[i], self.min_heap[parent_index] = self.min_heap[parent_index], self.min_heap[i]\n",
    "            \n",
    "            return self.perkup(parent_index)\n",
    "    \n",
    "    def remove(self):\n",
    "        \"\"\"Remove the root element. Then put the last element at the top and then perk down.\"\"\"\n",
    "        if self.current_size != 1:\n",
    "            retval = self.min_heap[0]  # the first element is the root.\n",
    "            self.min_heap[0] = self.min_heap.pop()\n",
    "            self.current_size -= 1\n",
    "            self.perkdown(0)\n",
    "        else:\n",
    "            retval = self.min_heap.pop()\n",
    "        return retval\n",
    "    def perkdown(self, i):\n",
    "        print('curret size=',self.current_size)\n",
    "        print('i=',i)\n",
    "        print(self.min_heap)\n",
    "        \n",
    "        left_child_index = (2*i) + 1\n",
    "        right_child_index = (2*i) + 2\n",
    "        \n",
    "        if self.current_size == 0 or left_child_index >= self.current_size or right_child_index >= self.current_size:\n",
    "            return\n",
    "        \n",
    "        if self.min_heap[left_child_index] < self.min_heap[i]:\n",
    "            # swap left child\n",
    "            print('swaping left child')\n",
    "            self.min_heap[left_child_index], self.min_heap[i] = self.min_heap[i], self.min_heap[left_child_index]\n",
    "            \n",
    "            self.perkdown(left_child_index)\n",
    "    \n",
    "        if self.min_heap[right_child_index] < self.min_heap[i]:\n",
    "            # swap right child\n",
    "            print('swaping right child')\n",
    "            self.min_heap[right_child_index], self.min_heap[i] = self.min_heap[i], self.min_heap[right_child_index]\n",
    "            \n",
    "            self.perkdown(right_child_index)\n",
    "            \n",
    "            \n",
    "    "
   ]
  },
  {
   "cell_type": "code",
   "execution_count": 214,
   "metadata": {
    "collapsed": true
   },
   "outputs": [],
   "source": [
    "min_heap = MinHeap()"
   ]
  },
  {
   "cell_type": "code",
   "execution_count": 215,
   "metadata": {},
   "outputs": [
    {
     "name": "stdout",
     "output_type": "stream",
     "text": [
      "i= 1\n",
      "current_size= 2\n",
      "heap= [5, 27]\n",
      "i= 2\n",
      "current_size= 3\n",
      "heap= [5, 27, 9]\n",
      "i= 3\n",
      "current_size= 4\n",
      "heap= [5, 27, 9, 11]\n",
      "i= 1\n",
      "current_size= 4\n",
      "heap= [5, 11, 9, 27]\n",
      "i= 4\n",
      "current_size= 5\n",
      "heap= [5, 11, 9, 27, 17]\n",
      "i= 5\n",
      "current_size= 6\n",
      "heap= [5, 11, 9, 27, 17, 33]\n",
      "i= 6\n",
      "current_size= 7\n",
      "heap= [5, 11, 9, 27, 17, 33, 14]\n",
      "i= 7\n",
      "current_size= 8\n",
      "heap= [5, 11, 9, 27, 17, 33, 14, 18]\n",
      "i= 3\n",
      "current_size= 8\n",
      "heap= [5, 11, 9, 18, 17, 33, 14, 27]\n",
      "i= 8\n",
      "current_size= 9\n",
      "heap= [5, 11, 9, 18, 17, 33, 14, 27, 21]\n",
      "i= 9\n",
      "current_size= 10\n",
      "heap= [5, 11, 9, 18, 17, 33, 14, 27, 21, 19]\n"
     ]
    },
    {
     "data": {
      "text/plain": [
       "[5, 11, 9, 18, 17, 33, 14, 27, 21, 19]"
      ]
     },
     "execution_count": 215,
     "metadata": {},
     "output_type": "execute_result"
    }
   ],
   "source": [
    "for i in [5, 27, 9, 11, 17, 33, 14, 18, 21, 19]:\n",
    "    min_heap.insert(i)\n",
    "min_heap.min_heap"
   ]
  },
  {
   "cell_type": "code",
   "execution_count": 216,
   "metadata": {},
   "outputs": [
    {
     "name": "stdout",
     "output_type": "stream",
     "text": [
      "curret size= 9\n",
      "i= 0\n",
      "[19, 11, 9, 18, 17, 33, 14, 27, 21]\n",
      "swaping left child\n",
      "curret size= 9\n",
      "i= 1\n",
      "[11, 19, 9, 18, 17, 33, 14, 27, 21]\n",
      "swaping left child\n",
      "curret size= 9\n",
      "i= 3\n",
      "[11, 18, 9, 19, 17, 33, 14, 27, 21]\n",
      "swaping right child\n",
      "curret size= 9\n",
      "i= 4\n",
      "[11, 17, 9, 19, 18, 33, 14, 27, 21]\n",
      "swaping right child\n",
      "curret size= 9\n",
      "i= 2\n",
      "[9, 17, 11, 19, 18, 33, 14, 27, 21]\n"
     ]
    },
    {
     "data": {
      "text/plain": [
       "5"
      ]
     },
     "execution_count": 216,
     "metadata": {},
     "output_type": "execute_result"
    }
   ],
   "source": [
    "min_heap.remove()"
   ]
  },
  {
   "cell_type": "code",
   "execution_count": 217,
   "metadata": {},
   "outputs": [
    {
     "data": {
      "text/plain": [
       "[9, 17, 11, 19, 18, 33, 14, 27, 21]"
      ]
     },
     "execution_count": 217,
     "metadata": {},
     "output_type": "execute_result"
    }
   ],
   "source": [
    "min_heap.min_heap"
   ]
  },
  {
   "cell_type": "markdown",
   "metadata": {},
   "source": [
    "# Binary Heap Interative"
   ]
  },
  {
   "cell_type": "code",
   "execution_count": 218,
   "metadata": {
    "collapsed": true
   },
   "outputs": [],
   "source": [
    "class BinHeap:\n",
    "    def __init__(self):\n",
    "        self.heapList = [0]\n",
    "        self.currentSize = 0\n",
    "\n",
    "\n",
    "    def percUp(self,i):\n",
    "        \n",
    "        while i // 2 > 0:\n",
    "            \n",
    "            if self.heapList[i] < self.heapList[i // 2]:\n",
    "                \n",
    "            \n",
    "                tmp = self.heapList[i // 2]\n",
    "                self.heapList[i // 2] = self.heapList[i]\n",
    "                self.heapList[i] = tmp\n",
    "            i = i // 2\n",
    "\n",
    "    def insert(self,k):\n",
    "        \n",
    "        self.heapList.append(k)\n",
    "        self.currentSize = self.currentSize + 1\n",
    "        self.percUp(self.currentSize)\n",
    "\n",
    "    def percDown(self,i):\n",
    "        \n",
    "        while (i * 2) <= self.currentSize:\n",
    "            \n",
    "            mc = self.minChild(i)\n",
    "            if self.heapList[i] > self.heapList[mc]:\n",
    "                \n",
    "                tmp = self.heapList[i]\n",
    "                self.heapList[i] = self.heapList[mc]\n",
    "                self.heapList[mc] = tmp\n",
    "            i = mc\n",
    "\n",
    "    def minChild(self,i):\n",
    "        \n",
    "        if i * 2 + 1 > self.currentSize:\n",
    "            \n",
    "            return i * 2\n",
    "        else:\n",
    "            \n",
    "            if self.heapList[i*2] < self.heapList[i*2+1]:\n",
    "                return i * 2\n",
    "            else:\n",
    "                return i * 2 + 1\n",
    "\n",
    "    def delMin(self):\n",
    "        retval = self.heapList[1]\n",
    "        self.heapList[1] = self.heapList[self.currentSize]\n",
    "        self.currentSize = self.currentSize - 1\n",
    "        self.heapList.pop()\n",
    "        self.percDown(1)\n",
    "        return retval\n",
    "\n",
    "    def buildHeap(self,alist):\n",
    "        i = len(alist) // 2\n",
    "        self.currentSize = len(alist)\n",
    "        self.heapList = [0] + alist[:]\n",
    "        while (i > 0):\n",
    "            self.percDown(i)\n",
    "            i = i - 1"
   ]
  },
  {
   "cell_type": "code",
   "execution_count": null,
   "metadata": {
    "collapsed": true
   },
   "outputs": [],
   "source": []
  }
 ],
 "metadata": {
  "kernelspec": {
   "display_name": "Python 3",
   "language": "python",
   "name": "python3"
  },
  "language_info": {
   "codemirror_mode": {
    "name": "ipython",
    "version": 3
   },
   "file_extension": ".py",
   "mimetype": "text/x-python",
   "name": "python",
   "nbconvert_exporter": "python",
   "pygments_lexer": "ipython3",
   "version": "3.6.1"
  }
 },
 "nbformat": 4,
 "nbformat_minor": 2
}
