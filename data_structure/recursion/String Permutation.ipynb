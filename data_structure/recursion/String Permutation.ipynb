{
 "cells": [
  {
   "cell_type": "markdown",
   "metadata": {},
   "source": [
    "# String Permutation"
   ]
  },
  {
   "cell_type": "markdown",
   "metadata": {},
   "source": [
    "Given a string, write a function that uses recursion to output a list of all the possible permutations of that string.\n",
    "\n",
    "For example, given s='abc' the function should return ['abc', 'acb', 'bac', 'bca', 'cab', 'cba']\n",
    "\n",
    "Note: If a character is repeated, treat each occurence as distinct, for example an input of 'xxx' would return a list with 6 \"versions\" of 'xxx'"
   ]
  },
  {
   "cell_type": "code",
   "execution_count": 6,
   "metadata": {
    "collapsed": true
   },
   "outputs": [],
   "source": [
    "def permute(s):\n",
    "    \"\"\"Iterate through all the letters, Take 1 letter, and do the permutation of the rest of the letters.\"\"\"\n",
    "    print('s:', s)\n",
    "    out = []\n",
    "    if len(s) == 1:\n",
    "        return [s]\n",
    "    \n",
    "    for i, letter in enumerate(s):\n",
    "        print('i:', i)\n",
    "        print('let:', letter)\n",
    "        for perm in permute(s[:i]+s[i+1:]):\n",
    "            print('perm:', perm)\n",
    "            out += [letter + perm]\n",
    "            print('out:', out)\n",
    "    return out\n",
    "            \n",
    "    "
   ]
  },
  {
   "cell_type": "code",
   "execution_count": 7,
   "metadata": {},
   "outputs": [
    {
     "name": "stdout",
     "output_type": "stream",
     "text": [
      "s: abc\n",
      "i: 0\n",
      "let: a\n",
      "s: bc\n",
      "i: 0\n",
      "let: b\n",
      "s: c\n",
      "perm: c\n",
      "out: ['bc']\n",
      "i: 1\n",
      "let: c\n",
      "s: b\n",
      "perm: b\n",
      "out: ['bc', 'cb']\n",
      "perm: bc\n",
      "out: ['abc']\n",
      "perm: cb\n",
      "out: ['abc', 'acb']\n",
      "i: 1\n",
      "let: b\n",
      "s: ac\n",
      "i: 0\n",
      "let: a\n",
      "s: c\n",
      "perm: c\n",
      "out: ['ac']\n",
      "i: 1\n",
      "let: c\n",
      "s: a\n",
      "perm: a\n",
      "out: ['ac', 'ca']\n",
      "perm: ac\n",
      "out: ['abc', 'acb', 'bac']\n",
      "perm: ca\n",
      "out: ['abc', 'acb', 'bac', 'bca']\n",
      "i: 2\n",
      "let: c\n",
      "s: ab\n",
      "i: 0\n",
      "let: a\n",
      "s: b\n",
      "perm: b\n",
      "out: ['ab']\n",
      "i: 1\n",
      "let: b\n",
      "s: a\n",
      "perm: a\n",
      "out: ['ab', 'ba']\n",
      "perm: ab\n",
      "out: ['abc', 'acb', 'bac', 'bca', 'cab']\n",
      "perm: ba\n",
      "out: ['abc', 'acb', 'bac', 'bca', 'cab', 'cba']\n"
     ]
    },
    {
     "data": {
      "text/plain": [
       "['abc', 'acb', 'bac', 'bca', 'cab', 'cba']"
      ]
     },
     "execution_count": 7,
     "metadata": {},
     "output_type": "execute_result"
    }
   ],
   "source": [
    "permute('abc') # ['abc', 'acb', 'bac', 'bca', 'cab', 'cba']"
   ]
  },
  {
   "cell_type": "code",
   "execution_count": 45,
   "metadata": {},
   "outputs": [
    {
     "name": "stdout",
     "output_type": "stream",
     "text": [
      "s: abc\n",
      "i: 0\n",
      "let: a\n",
      "s: bc\n",
      "i: 0\n",
      "let: b\n",
      "s: c\n",
      "perm: c\n",
      "out: ['bc']\n",
      "i: 1\n",
      "let: c\n",
      "s: b\n",
      "perm: b\n",
      "out: ['bc', 'cb']\n",
      "perm: bc\n",
      "out: ['abc']\n",
      "perm: cb\n",
      "out: ['abc', 'acb']\n",
      "i: 1\n",
      "let: b\n",
      "s: ac\n",
      "i: 0\n",
      "let: a\n",
      "s: c\n",
      "perm: c\n",
      "out: ['ac']\n",
      "i: 1\n",
      "let: c\n",
      "s: a\n",
      "perm: a\n",
      "out: ['ac', 'ca']\n",
      "perm: ac\n",
      "out: ['abc', 'acb', 'bac']\n",
      "perm: ca\n",
      "out: ['abc', 'acb', 'bac', 'bca']\n",
      "i: 2\n",
      "let: c\n",
      "s: ab\n",
      "i: 0\n",
      "let: a\n",
      "s: b\n",
      "perm: b\n",
      "out: ['ab']\n",
      "i: 1\n",
      "let: b\n",
      "s: a\n",
      "perm: a\n",
      "out: ['ab', 'ba']\n",
      "perm: ab\n",
      "out: ['abc', 'acb', 'bac', 'bca', 'cab']\n",
      "perm: ba\n",
      "out: ['abc', 'acb', 'bac', 'bca', 'cab', 'cba']\n",
      "s: dog\n",
      "i: 0\n",
      "let: d\n",
      "s: og\n",
      "i: 0\n",
      "let: o\n",
      "s: g\n",
      "perm: g\n",
      "out: ['og']\n",
      "i: 1\n",
      "let: g\n",
      "s: o\n",
      "perm: o\n",
      "out: ['og', 'go']\n",
      "perm: og\n",
      "out: ['dog']\n",
      "perm: go\n",
      "out: ['dog', 'dgo']\n",
      "i: 1\n",
      "let: o\n",
      "s: dg\n",
      "i: 0\n",
      "let: d\n",
      "s: g\n",
      "perm: g\n",
      "out: ['dg']\n",
      "i: 1\n",
      "let: g\n",
      "s: d\n",
      "perm: d\n",
      "out: ['dg', 'gd']\n",
      "perm: dg\n",
      "out: ['dog', 'dgo', 'odg']\n",
      "perm: gd\n",
      "out: ['dog', 'dgo', 'odg', 'ogd']\n",
      "i: 2\n",
      "let: g\n",
      "s: do\n",
      "i: 0\n",
      "let: d\n",
      "s: o\n",
      "perm: o\n",
      "out: ['do']\n",
      "i: 1\n",
      "let: o\n",
      "s: d\n",
      "perm: d\n",
      "out: ['do', 'od']\n",
      "perm: do\n",
      "out: ['dog', 'dgo', 'odg', 'ogd', 'gdo']\n",
      "perm: od\n",
      "out: ['dog', 'dgo', 'odg', 'ogd', 'gdo', 'god']\n",
      "All test cases passed.\n"
     ]
    }
   ],
   "source": [
    "\"\"\"\n",
    "RUN THIS CELL TO TEST YOUR SOLUTION.\n",
    "\"\"\"\n",
    "\n",
    "from nose.tools import assert_equal\n",
    "\n",
    "class TestPerm(object):\n",
    "    \n",
    "    def test(self,solution):\n",
    "        \n",
    "        assert_equal(sorted(solution('abc')),sorted(['abc', 'acb', 'bac', 'bca', 'cab', 'cba']))\n",
    "        assert_equal(sorted(solution('dog')),sorted(['dog', 'dgo', 'odg', 'ogd', 'gdo', 'god']) )\n",
    "        \n",
    "        print('All test cases passed.')\n",
    "        \n",
    "\n",
    "\n",
    "# Run Tests\n",
    "t = TestPerm()\n",
    "t.test(permute)"
   ]
  },
  {
   "cell_type": "code",
   "execution_count": 3,
   "metadata": {},
   "outputs": [
    {
     "data": {
      "text/plain": [
       "'a'"
      ]
     },
     "execution_count": 3,
     "metadata": {},
     "output_type": "execute_result"
    }
   ],
   "source": [
    "s = 'abc'\n",
    "s[:1]"
   ]
  },
  {
   "cell_type": "code",
   "execution_count": null,
   "metadata": {
    "collapsed": true
   },
   "outputs": [],
   "source": []
  }
 ],
 "metadata": {
  "kernelspec": {
   "display_name": "Python 3",
   "language": "python",
   "name": "python3"
  },
  "language_info": {
   "codemirror_mode": {
    "name": "ipython",
    "version": 3
   },
   "file_extension": ".py",
   "mimetype": "text/x-python",
   "name": "python",
   "nbconvert_exporter": "python",
   "pygments_lexer": "ipython3",
   "version": "3.6.1"
  }
 },
 "nbformat": 4,
 "nbformat_minor": 2
}
