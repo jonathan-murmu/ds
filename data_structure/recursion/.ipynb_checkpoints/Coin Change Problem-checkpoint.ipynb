{
 "cells": [
  {
   "cell_type": "markdown",
   "metadata": {},
   "source": [
    "Given a target amount n and a list (array) of distinct coin values, what's the fewest coins needed to make the change amount.\n",
    "\n",
    "For example:\n",
    "\n",
    "If n = 10 and coins = [1,5,10]. Then there are 4 possible ways to make change:\n",
    "\n",
    "1+1+1+1+1+1+1+1+1+1\n",
    "\n",
    "5 + 1+1+1+1+1\n",
    "\n",
    "5+5\n",
    "\n",
    "10\n",
    "\n",
    "With 1 coin being the minimum amount.\n",
    "\n"
   ]
  },
  {
   "cell_type": "code",
   "execution_count": 2,
   "metadata": {},
   "outputs": [
    {
     "data": {
      "text/html": [
       "<img src=\"http://interactivepython.org/runestone/static/pythonds/_images/callTree.png\"/>"
      ],
      "text/plain": [
       "<img src=\"http://interactivepython.org/runestone/static/pythonds/_images/callTree.png\"/>"
      ]
     },
     "execution_count": 2,
     "metadata": {},
     "output_type": "execute_result"
    }
   ],
   "source": [
    "from IPython.display import Image\n",
    "Image(url='http://interactivepython.org/runestone/static/pythonds/_images/callTree.png')"
   ]
  },
  {
   "cell_type": "code",
   "execution_count": 21,
   "metadata": {
    "collapsed": true
   },
   "outputs": [],
   "source": [
    "def rec_coin_dynam(target,coins,known_results):\n",
    "    '''\n",
    "    INPUT: This funciton takes in a target amount and a list of possible coins to use.\n",
    "    It also takes a third parameter, known_results, indicating previously calculated results.\n",
    "    The known_results parameter shoud be started with [0] * (target+1)\n",
    "    \n",
    "    OUTPUT: Minimum number of coins needed to make the target.\n",
    "    '''\n",
    "    \n",
    "    # Default output to target\n",
    "    #min_coins = target\n",
    "    \n",
    "    # Base Case\n",
    "    if target in coins:\n",
    "        known_results[target] = 1\n",
    "        return 1\n",
    "    \n",
    "    # Return a known result if it happens to be greater than 1\n",
    "    elif known_results[target] > 0:\n",
    "        return known_results[target]\n",
    "    \n",
    "    else:\n",
    "        # for every coin value that is <= than target\n",
    "        for i in [c for c in coins if c <= target]:\n",
    "            \n",
    "            # Recursive call, note how we include the known results!\n",
    "            num_coins = 1 + rec_coin_dynam(target-i,coins,known_results)\n",
    "            \n",
    "            # Reset Minimum if we have a new minimum\n",
    "            #if num_coins < min_coins:\n",
    "            #    min_coins = num_coins\n",
    "                \n",
    "            #   # Reset the known result\n",
    "            #    known_results[target] = min_coins\n",
    "                \n",
    "    #return min_coins\n",
    "    return num_coins\n"
   ]
  },
  {
   "cell_type": "code",
   "execution_count": 23,
   "metadata": {},
   "outputs": [
    {
     "data": {
      "text/plain": [
       "2"
      ]
     },
     "execution_count": 23,
     "metadata": {},
     "output_type": "execute_result"
    }
   ],
   "source": [
    "target = 4\n",
    "# coins = [1,5,10,25]\n",
    "coins = [1,2,3]\n",
    "\n",
    "known_results = [0]*(target+1)\n",
    "\n",
    "rec_coin_dynam(target,coins,known_results)"
   ]
  },
  {
   "cell_type": "code",
   "execution_count": 28,
   "metadata": {
    "collapsed": true
   },
   "outputs": [],
   "source": [
    "def coin_change(coins, no_of_coins, target):\n",
    "    \"\"\"Coin change.\n",
    "\n",
    "    :param coins: The given collection of coins.\n",
    "    :param no_of_coins: No of Coins\n",
    "    :param target: The given amount\n",
    "    :return: number of possible ways to make change for N cents.\n",
    "    \"\"\"\n",
    "\n",
    "    # We need n+1 rows as the table is constructed\n",
    "    # in bottom up manner using the base case 0 value\n",
    "    # case (n = 0)\n",
    "    table = [[0 for x in range(no_of_coins)] for x in range(target + 1)]\n",
    "\n",
    "    # Fill the entries for 0 value case (n = 0)\n",
    "    for i in range(no_of_coins):\n",
    "        table[0][i] = 1\n",
    "\n",
    "    # Fill rest of the table entries in bottom up manner\n",
    "    for i in range(1, target + 1):\n",
    "        for j in range(no_of_coins):\n",
    "            # Count of solutions including coins[j]\n",
    "            if i - coins[j] >= 0:\n",
    "                x = table[i - coins[j]][j]\n",
    "            else:\n",
    "                x = 0\n",
    "\n",
    "            # Count of solutions excluding coins[j]\n",
    "            if j >= 1:\n",
    "                y = table[i][j - 1]\n",
    "            else:\n",
    "                y = 0\n",
    "\n",
    "            # total count\n",
    "            table[i][j] = x + y\n",
    "\n",
    "    return table[target][no_of_coins - 1]"
   ]
  },
  {
   "cell_type": "code",
   "execution_count": 30,
   "metadata": {},
   "outputs": [
    {
     "name": "stdout",
     "output_type": "stream",
     "text": [
      "4\n"
     ]
    }
   ],
   "source": [
    "arr = [1, 2, 3] \n",
    "m = len(arr) \n",
    "n = 4\n",
    "print(coin_change(arr, m, n))"
   ]
  },
  {
   "cell_type": "code",
   "execution_count": null,
   "metadata": {
    "collapsed": true
   },
   "outputs": [],
   "source": []
  }
 ],
 "metadata": {
  "kernelspec": {
   "display_name": "Python 3",
   "language": "python",
   "name": "python3"
  },
  "language_info": {
   "codemirror_mode": {
    "name": "ipython",
    "version": 3
   },
   "file_extension": ".py",
   "mimetype": "text/x-python",
   "name": "python",
   "nbconvert_exporter": "python",
   "pygments_lexer": "ipython3",
   "version": "3.6.1"
  }
 },
 "nbformat": 4,
 "nbformat_minor": 2
}
