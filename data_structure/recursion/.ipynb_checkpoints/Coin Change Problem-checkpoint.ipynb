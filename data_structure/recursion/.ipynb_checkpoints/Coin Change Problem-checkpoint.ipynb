{
 "cells": [
  {
   "cell_type": "markdown",
   "metadata": {},
   "source": [
    "# Coin Change Problem"
   ]
  },
  {
   "cell_type": "markdown",
   "metadata": {},
   "source": [
    "Given a target amount n and a list (array) of distinct coin values, what's the fewest coins needed to make the change amount.\n",
    "\n",
    "For example:\n",
    "\n",
    "If n = 10 and coins = [1,5,10]. Then there are 4 possible ways to make change:\n",
    "\n",
    "1+1+1+1+1+1+1+1+1+1\n",
    "\n",
    "5 + 1+1+1+1+1\n",
    "\n",
    "5+5\n",
    "\n",
    "10\n",
    "\n",
    "With 1 coin being the minimum amount."
   ]
  },
  {
   "cell_type": "code",
<<<<<<< HEAD
   "execution_count": 11,
   "metadata": {
    "collapsed": true
   },
   "outputs": [],
   "source": [
    "def rec_coin(target, coins, known_results):\n",
    "    # by default set the min coin count to the target.\n",
    "    min_coins = target\n",
    "    \n",
    "    # Base Case\n",
    "    if target in coins:\n",
    "        known_results[target] = 1\n",
    "        return 1\n",
    "    # return if its there in known results(cache)\n",
    "    elif known_results[target] > 0:\n",
    "        return known_results[target]\n",
    "    else:\n",
    "        # loop every coin, which is less than the target\n",
    "        for i in [c for c in coins if c<=target]:\n",
    "            # recursively call, by subtracting the current coin from the target.\n",
    "            num_coins = 1 + rec_coin(target-i, coins, known_results)\n",
    "            \n",
    "            # update the min coin count\n",
    "            if num_coins < min_coins:\n",
    "                min_coins = num_coins\n",
    "                # update the cache\n",
    "                known_results[target] = min_coins\n",
    "        \n",
    "    return min_coins"
   ]
  },
  {
   "cell_type": "code",
   "execution_count": 15,
   "metadata": {},
   "outputs": [
    {
     "data": {
      "text/plain": [
       "7"
      ]
     },
     "execution_count": 15,
     "metadata": {},
     "output_type": "execute_result"
    }
   ],
   "source": [
    "target = 73\n",
    "coins = [1, 5,10, 25]\n",
    "known_results = [0]*(target+1)\n",
    "\n",
    "rec_coin(target,coins,known_results)"
   ]
  },
  {
   "cell_type": "code",
   "execution_count": null,
   "metadata": {
    "collapsed": true
   },
   "outputs": [],
   "source": []
  },
  {
   "cell_type": "code",
   "execution_count": null,
   "metadata": {
    "collapsed": true
   },
=======
   "execution_count": null,
   "metadata": {},
>>>>>>> a794afffacb4d4f098cc3ca70c076b0dc475ff09
   "outputs": [],
   "source": []
  }
 ],
 "metadata": {
  "kernelspec": {
   "display_name": "Python 3",
   "language": "python",
   "name": "python3"
  },
  "language_info": {
   "codemirror_mode": {
    "name": "ipython",
    "version": 3
   },
   "file_extension": ".py",
   "mimetype": "text/x-python",
   "name": "python",
   "nbconvert_exporter": "python",
   "pygments_lexer": "ipython3",
<<<<<<< HEAD
   "version": "3.6.1"
=======
   "version": "3.7.0"
>>>>>>> a794afffacb4d4f098cc3ca70c076b0dc475ff09
  }
 },
 "nbformat": 4,
 "nbformat_minor": 2
}
