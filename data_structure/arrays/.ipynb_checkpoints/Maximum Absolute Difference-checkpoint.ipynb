{
 "cells": [
  {
   "cell_type": "markdown",
   "metadata": {},
   "source": [
    "You are given an array of N integers, A1, A2 ,…, AN. Return maximum value of f(i, j) for all 1 ≤ i, j ≤ N.\n",
    "f(i, j) is defined as |A[i] - A[j]| + |i - j|, where |x| denotes absolute value of x.\n",
    "\n",
    "For example,\n",
    "\n",
    "A=[1, 3, -1]\n",
    "\n",
    "f(1, 1) = f(2, 2) = f(3, 3) = 0\n",
    "\n",
    "f(1, 2) = f(2, 1) = |1 - 3| + |1 - 2| = 3\n",
    "\n",
    "f(1, 3) = f(3, 1) = |1 - (-1)| + |1 - 3| = 4\n",
    "\n",
    "f(2, 3) = f(3, 2) = |3 - (-1)| + |2 - 3| = 5\n",
    "\n",
    "So, we return 5.\n",
    "\n",
    "https://www.geeksforgeeks.org/maximum-absolute-difference-value-index-sums/"
   ]
  },
  {
   "cell_type": "code",
   "execution_count": 8,
   "metadata": {
    "collapsed": true
   },
   "outputs": [],
   "source": [
    "import sys\n",
    "def maxArr(A):\n",
    "        INT_MAX = sys.maxsize\n",
    "        INT_MIN = -(INT_MAX - 1)\n",
    "        \n",
    "        max_1 = INT_MIN\n",
    "        min_1 = INT_MAX\n",
    "        max_2 = INT_MIN\n",
    "        min_2 = INT_MAX\n",
    "        \n",
    "        for i in range(len(A)):\n",
    "            # Updating max and min variables \n",
    "            # as described in algorithm. \n",
    "            max_1 = max(max_1, A[i] + i) \n",
    "            min_1 = min(min_1, A[i] + i) \n",
    "            max_2 = max(max_2, A[i] - i) \n",
    "            min_2 = min(min_2, A[i] - i)\n",
    "        return max(max_1 - min_1, max_2 - min_2)"
   ]
  },
  {
   "cell_type": "code",
   "execution_count": 9,
   "metadata": {},
   "outputs": [
    {
     "data": {
      "text/plain": [
       "5"
      ]
     },
     "execution_count": 9,
     "metadata": {},
     "output_type": "execute_result"
    }
   ],
   "source": [
    "A=[1, 3, -1]\n",
    "maxArr(A)  # 5"
   ]
  },
  {
   "cell_type": "code",
   "execution_count": 10,
   "metadata": {},
   "outputs": [
    {
     "data": {
      "text/plain": [
       "167"
      ]
     },
     "execution_count": 10,
     "metadata": {},
     "output_type": "execute_result"
    }
   ],
   "source": [
    "A = [ -70, -64, -6, -56, 64, 61, -57, 16, 48, -98 ]\n",
    "maxArr(A)  # 167"
   ]
  },
  {
   "cell_type": "code",
   "execution_count": null,
   "metadata": {
    "collapsed": true
   },
   "outputs": [],
   "source": []
  },
  {
   "cell_type": "code",
   "execution_count": null,
   "metadata": {
    "collapsed": true
   },
   "outputs": [],
   "source": []
  }
 ],
 "metadata": {
  "kernelspec": {
   "display_name": "Python 3",
   "language": "python",
   "name": "python3"
  },
  "language_info": {
   "codemirror_mode": {
    "name": "ipython",
    "version": 3
   },
   "file_extension": ".py",
   "mimetype": "text/x-python",
   "name": "python",
   "nbconvert_exporter": "python",
   "pygments_lexer": "ipython3",
   "version": "3.6.1"
  }
 },
 "nbformat": 4,
 "nbformat_minor": 2
}
