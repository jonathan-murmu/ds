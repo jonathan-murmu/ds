{
 "cells": [
  {
   "cell_type": "markdown",
   "metadata": {},
   "source": [
    "You are given a read only array of n integers from 1 to n.\n",
    "\n",
    "Each integer appears exactly once except A which appears twice and B which is missing.\n",
    "\n",
    "Return A and B.\n",
    "\n",
    "Note: Your algorithm should have a linear runtime complexity. Could you implement it without using extra memory?\n",
    "\n",
    "Note that in your output A should precede B.\n",
    "\n",
    "Example:\n",
    "\n",
    "Input:[3 1 2 5 3] \n",
    "\n",
    "Output:[3, 4] \n",
    "\n",
    "A = 3, B = 4"
   ]
  },
  {
   "cell_type": "code",
   "execution_count": 1,
   "metadata": {
    "collapsed": true
   },
   "outputs": [],
   "source": [
    "def repeatedNumber(A):\n",
    "        seen = set()\n",
    "        a = None\n",
    "        _sum = 0\n",
    "        total = (len(A) * (len(A) + 1)) // 2\n",
    "        for i in A:\n",
    "            if i in seen:\n",
    "                a = i\n",
    "            else:\n",
    "                seen.add(i)\n",
    "            \n",
    "            _sum += i\n",
    "        return a, a + (total - _sum)"
   ]
  },
  {
   "cell_type": "code",
   "execution_count": 4,
   "metadata": {},
   "outputs": [
    {
     "data": {
      "text/plain": [
       "(3, 4)"
      ]
     },
     "execution_count": 4,
     "metadata": {},
     "output_type": "execute_result"
    }
   ],
   "source": [
    "repeatedNumber([3, 1, 2, 5, 3]) # 3, 4"
   ]
  },
  {
   "cell_type": "code",
   "execution_count": 6,
   "metadata": {
    "collapsed": true
   },
   "outputs": [],
   "source": [
    " def repeatedNumber2(A):\n",
    "        size = len(A) + 1\n",
    "        count = [0] * size\n",
    "\n",
    "        for val in A:\n",
    "            count[val] += 1\n",
    "\n",
    "            res1 = 0\n",
    "            res2 = 0\n",
    "\n",
    "        for idx, val in enumerate(count):\n",
    "            if val == 2:\n",
    "                res1 = idx\n",
    "            if val == 0:\n",
    "                res2 = idx\n",
    "\n",
    "        return res1, res2"
   ]
  },
  {
   "cell_type": "code",
   "execution_count": 7,
   "metadata": {},
   "outputs": [
    {
     "data": {
      "text/plain": [
       "(3, 4)"
      ]
     },
     "execution_count": 7,
     "metadata": {},
     "output_type": "execute_result"
    }
   ],
   "source": [
    "repeatedNumber2([3, 1, 2, 5, 3]) # 3, 4"
   ]
  },
  {
   "cell_type": "code",
   "execution_count": 8,
   "metadata": {
    "collapsed": true
   },
   "outputs": [],
   "source": [
    "def repeatedNumber3(A):\n",
    "        \n",
    "        n = len(A)\n",
    "        \n",
    "        sum_real =sum(A) \n",
    "        sum_square_real= 0\n",
    "        \n",
    "        for x in A:\n",
    "            sum_square_real +=  x*x\n",
    "            \n",
    "        A_B = sum_real - (n*(n+1))//2\n",
    "        \n",
    "        \n",
    "        A2_B2 = sum_square_real - (n*(n+1)*(2*n+1))//6\n",
    "        \n",
    "        A_plus_B = A2_B2/A_B\n",
    "        \n",
    "        missing = (abs(A_plus_B+A_B))/2\n",
    "        \n",
    "        repeat = (abs(A_plus_B - A_B))/2\n",
    "        \n",
    "        return [int(missing),int(repeat)]"
   ]
  },
  {
   "cell_type": "code",
   "execution_count": 9,
   "metadata": {},
   "outputs": [
    {
     "data": {
      "text/plain": [
       "[3, 4]"
      ]
     },
     "execution_count": 9,
     "metadata": {},
     "output_type": "execute_result"
    }
   ],
   "source": [
    "repeatedNumber3([3, 1, 2, 5, 3]) # 3, 4"
   ]
  },
  {
   "cell_type": "code",
   "execution_count": null,
   "metadata": {
    "collapsed": true
   },
   "outputs": [],
   "source": []
  }
 ],
 "metadata": {
  "kernelspec": {
   "display_name": "Python 3",
   "language": "python",
   "name": "python3"
  },
  "language_info": {
   "codemirror_mode": {
    "name": "ipython",
    "version": 3
   },
   "file_extension": ".py",
   "mimetype": "text/x-python",
   "name": "python",
   "nbconvert_exporter": "python",
   "pygments_lexer": "ipython3",
   "version": "3.6.1"
  }
 },
 "nbformat": 4,
 "nbformat_minor": 2
}
