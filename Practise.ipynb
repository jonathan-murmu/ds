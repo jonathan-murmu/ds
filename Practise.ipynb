{
 "cells": [
  {
   "cell_type": "code",
   "execution_count": 2,
   "metadata": {
    "collapsed": true
   },
   "outputs": [],
   "source": [
    "import re"
   ]
  },
  {
   "cell_type": "code",
   "execution_count": 21,
   "metadata": {
    "collapsed": true
   },
   "outputs": [],
   "source": [
    "s1 = '4865 8766 8668 3764'"
   ]
  },
  {
   "cell_type": "code",
   "execution_count": 22,
   "metadata": {},
   "outputs": [
    {
     "name": "stdout",
     "output_type": "stream",
     "text": [
      "<_sre.SRE_Match object; span=(0, 19), match='4865 8766 8668 3764'>\n"
     ]
    },
    {
     "data": {
      "text/plain": [
       "'4865 8766 8668 3764'"
      ]
     },
     "execution_count": 22,
     "metadata": {},
     "output_type": "execute_result"
    }
   ],
   "source": [
    "pattern = re.compile(r'^4[0-9]{3}( [0-9]{4}){2} [0-9]{4}$')\n",
    "m = pattern.search(s1)\n",
    "print(m)\n",
    "m.group(0)"
   ]
  },
  {
   "cell_type": "code",
   "execution_count": 7,
   "metadata": {
    "collapsed": true
   },
   "outputs": [],
   "source": [
    "e1 = 'joasdfa2sdf_asd234fa-sd.asdfs@gm2ail.com'"
   ]
  },
  {
   "cell_type": "code",
   "execution_count": 8,
   "metadata": {},
   "outputs": [
    {
     "name": "stdout",
     "output_type": "stream",
     "text": [
      "<_sre.SRE_Match object; span=(0, 40), match='joasdfa2sdf_asd234fa-sd.asdfs@gm2ail.com'>\n"
     ]
    }
   ],
   "source": [
    "pattern = re.compile(r'[a-zA-Z][a-zA-z0-9._\\-]+@[a-zA-Z0-9]+.[a-z]{0,3}$')\n",
    "m = pattern.match(e1)\n",
    "print(m)"
   ]
  },
  {
   "cell_type": "code",
   "execution_count": 38,
   "metadata": {
    "collapsed": true
   },
   "outputs": [],
   "source": [
    "def fibo(n):\n",
    "    count = 0\n",
    "    n1 = 0\n",
    "    n2 = 1\n",
    "    while count < n:\n",
    "        print(n1)\n",
    "        nth = n1 + n2\n",
    "        n1 = n2\n",
    "        n2 = nth\n",
    "        count += 1"
   ]
  },
  {
   "cell_type": "code",
   "execution_count": 46,
   "metadata": {
    "collapsed": true
   },
   "outputs": [],
   "source": [
    "fibo(0)"
   ]
  },
  {
   "cell_type": "code",
   "execution_count": 53,
   "metadata": {
    "collapsed": true
   },
   "outputs": [],
   "source": [
    "def rec_fibo(n):\n",
    "    if n == 0:\n",
    "        return 0\n",
    "    if n == 1:\n",
    "        return 1\n",
    "    else:\n",
    "        return rec_fibo(n-1) + rec_fibo(n-2)"
   ]
  },
  {
   "cell_type": "code",
   "execution_count": 54,
   "metadata": {},
   "outputs": [
    {
     "name": "stdout",
     "output_type": "stream",
     "text": [
      "0\n",
      "1\n",
      "1\n",
      "2\n",
      "3\n"
     ]
    }
   ],
   "source": [
    "for i in range(5):\n",
    "    print(rec_fibo(i))"
   ]
  },
  {
   "cell_type": "code",
   "execution_count": 1,
   "metadata": {
    "collapsed": true
   },
   "outputs": [],
   "source": [
    "import operator as op\n",
    "from functools import reduce"
   ]
  },
  {
   "cell_type": "code",
   "execution_count": 44,
   "metadata": {
    "collapsed": true
   },
   "outputs": [],
   "source": [
    "def solve (N):\n",
    "    # Write your code here\n",
    "    per = {}\n",
    "    for n in N:\n",
    "        n = int(n)\n",
    "        if n in per:\n",
    "            per[n][0] = per[n][0] +str(n)\n",
    "            per[n][1] += 1\n",
    "            #per[n] = per[n]+str(n)\n",
    "            if (n - 1) in per and len(per[n-1][0]) >= 2:\n",
    "                per[n-1][0] = per[n-1][0]+str(n)\n",
    "                if per[n-1][2] and per[n][1] >=2:\n",
    "                    per[n-1][3] = True\n",
    "            if per[n][1] >= 2:\n",
    "                per[n][2] = True\n",
    "        else:\n",
    "            per[n] = ['{0}'.format(n), 1, False, False]\n",
    "            if (n - 1) in per and len(per[n-1][0]) >= 2:\n",
    "                per[n-1][0] = per[n-1][0]+str(n)\n",
    "            \n",
    "    print(per)\n",
    "    _sum = 0\n",
    "    # print(per)\n",
    "    for n in per:\n",
    "        n = int(n)\n",
    "        if n +1 in per and per[n][2] and per[n][3]:\n",
    "            # print(ncr(per[n][1], 2),ncr(per[n+1][1], 2))\n",
    "            res = ncr(per[n][1], 2) * ncr(per[n+1][1], 2)\n",
    "            print(res, n)\n",
    "            _sum += res\n",
    "        \n",
    "    return int(_sum)\n"
   ]
  },
  {
   "cell_type": "code",
   "execution_count": 45,
   "metadata": {
    "collapsed": true
   },
   "outputs": [],
   "source": [
    "def ncr(n, r):\n",
    "    r = min(r, n-r)\n",
    "    number = reduce(op.mul, range(n, n-r, -1), 1)\n",
    "    denom = reduce(op.mul, range(1, r+1), 1)\n",
    "    return number / denom"
   ]
  },
  {
   "cell_type": "code",
   "execution_count": 46,
   "metadata": {},
   "outputs": [
    {
     "name": "stdout",
     "output_type": "stream",
     "text": [
      "{1: ['11222', 2, True, True], 5: ['55', 2, True, False], 7: ['7', 1, False, False], 3: ['333', 3, True, False], 2: ['222', 3, True, False]}\n",
      "3.0 1\n"
     ]
    },
    {
     "data": {
      "text/plain": [
       "3"
      ]
     },
     "execution_count": 46,
     "metadata": {},
     "output_type": "execute_result"
    }
   ],
   "source": [
    "solve('15157323322')"
   ]
  },
  {
   "cell_type": "code",
   "execution_count": 47,
   "metadata": {},
   "outputs": [
    {
     "name": "stdout",
     "output_type": "stream",
     "text": [
      "{1: ['1122', 2, True, True], 3: ['3344', 2, True, True], 5: ['55566', 3, True, True], 2: ['22', 2, True, False], 4: ['44', 2, True, False], 6: ['66', 2, True, False]}\n",
      "1.0 1\n",
      "1.0 3\n",
      "3.0 5\n"
     ]
    },
    {
     "data": {
      "text/plain": [
       "5"
      ]
     },
     "execution_count": 47,
     "metadata": {},
     "output_type": "execute_result"
    }
   ],
   "source": [
    "solve('1351355246246')"
   ]
  },
  {
   "cell_type": "code",
   "execution_count": 1,
   "metadata": {
    "collapsed": true
   },
   "outputs": [],
   "source": [
    "a = [2,3,4]"
   ]
  },
  {
   "cell_type": "code",
   "execution_count": 2,
   "metadata": {},
   "outputs": [
    {
     "data": {
      "text/plain": [
       "[4, 3, 2]"
      ]
     },
     "execution_count": 2,
     "metadata": {},
     "output_type": "execute_result"
    }
   ],
   "source": [
    "a[::-1]"
   ]
  },
  {
   "cell_type": "code",
   "execution_count": 5,
   "metadata": {},
   "outputs": [
    {
     "data": {
      "text/plain": [
       "1"
      ]
     },
     "execution_count": 5,
     "metadata": {},
     "output_type": "execute_result"
    }
   ],
   "source": [
    "abs(abs(1) - abs(2))"
   ]
  },
  {
   "cell_type": "code",
   "execution_count": null,
   "metadata": {
    "collapsed": true
   },
   "outputs": [],
   "source": []
  }
 ],
 "metadata": {
  "kernelspec": {
   "display_name": "Python 3",
   "language": "python",
   "name": "python3"
  },
  "language_info": {
   "codemirror_mode": {
    "name": "ipython",
    "version": 3
   },
   "file_extension": ".py",
   "mimetype": "text/x-python",
   "name": "python",
   "nbconvert_exporter": "python",
   "pygments_lexer": "ipython3",
   "version": "3.6.1"
  }
 },
 "nbformat": 4,
 "nbformat_minor": 2
}
