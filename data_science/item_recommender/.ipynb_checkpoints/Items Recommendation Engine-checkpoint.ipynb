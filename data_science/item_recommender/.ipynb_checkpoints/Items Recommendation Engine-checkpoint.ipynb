{
 "cells": [
  {
   "cell_type": "markdown",
   "metadata": {},
   "source": [
    "## A collaborative filtering models for recommending products to customers using purchase data. "
   ]
  },
  {
   "cell_type": "code",
   "execution_count": 65,
   "metadata": {},
   "outputs": [
    {
     "name": "stdout",
     "output_type": "stream",
     "text": [
      "The autoreload extension is already loaded. To reload it, use:\n",
      "  %reload_ext autoreload\n"
     ]
    }
   ],
   "source": [
    "\n",
    "%load_ext autoreload\n",
    "%autoreload 2\n",
    "\n",
    "import pandas as pd\n",
    "import numpy as np\n",
    "import time\n",
    "import turicreate as tc\n",
    "from sklearn.cross_validation import train_test_split\n",
    "\n",
    "import sys\n",
    "sys.path.append(\"..\")"
   ]
  },
  {
   "cell_type": "markdown",
   "metadata": {
    "collapsed": true
   },
   "source": [
    "### Load Data\n",
    "* recommend_1.csv = consisting of a list of 1000 customer IDs to recommend as output\n",
    "* trx_data.csv = consisting of user transactions\n"
   ]
  },
  {
   "cell_type": "code",
   "execution_count": 66,
   "metadata": {},
   "outputs": [],
   "source": [
    "customers = pd.read_csv('./data/recommend_1.csv')\n",
    "transactions = pd.read_csv('./data/trx_data.csv')"
   ]
  },
  {
   "cell_type": "markdown",
   "metadata": {},
   "source": [
    "### Invstigate the data"
   ]
  },
  {
   "cell_type": "code",
   "execution_count": 67,
   "metadata": {},
   "outputs": [
    {
     "name": "stdout",
     "output_type": "stream",
     "text": [
      "(1000, 1)\n"
     ]
    },
    {
     "data": {
      "text/html": [
       "<div>\n",
       "<style>\n",
       "    .dataframe thead tr:only-child th {\n",
       "        text-align: right;\n",
       "    }\n",
       "\n",
       "    .dataframe thead th {\n",
       "        text-align: left;\n",
       "    }\n",
       "\n",
       "    .dataframe tbody tr th {\n",
       "        vertical-align: top;\n",
       "    }\n",
       "</style>\n",
       "<table border=\"1\" class=\"dataframe\">\n",
       "  <thead>\n",
       "    <tr style=\"text-align: right;\">\n",
       "      <th></th>\n",
       "      <th>customerId</th>\n",
       "    </tr>\n",
       "  </thead>\n",
       "  <tbody>\n",
       "    <tr>\n",
       "      <th>0</th>\n",
       "      <td>1553</td>\n",
       "    </tr>\n",
       "    <tr>\n",
       "      <th>1</th>\n",
       "      <td>20400</td>\n",
       "    </tr>\n",
       "    <tr>\n",
       "      <th>2</th>\n",
       "      <td>19750</td>\n",
       "    </tr>\n",
       "    <tr>\n",
       "      <th>3</th>\n",
       "      <td>6334</td>\n",
       "    </tr>\n",
       "    <tr>\n",
       "      <th>4</th>\n",
       "      <td>27773</td>\n",
       "    </tr>\n",
       "  </tbody>\n",
       "</table>\n",
       "</div>"
      ],
      "text/plain": [
       "   customerId\n",
       "0        1553\n",
       "1       20400\n",
       "2       19750\n",
       "3        6334\n",
       "4       27773"
      ]
     },
     "execution_count": 67,
     "metadata": {},
     "output_type": "execute_result"
    }
   ],
   "source": [
    "print(customers.shape)\n",
    "customers.head()"
   ]
  },
  {
   "cell_type": "code",
   "execution_count": 68,
   "metadata": {},
   "outputs": [
    {
     "name": "stdout",
     "output_type": "stream",
     "text": [
      "(62483, 2)\n"
     ]
    },
    {
     "data": {
      "text/html": [
       "<div>\n",
       "<style>\n",
       "    .dataframe thead tr:only-child th {\n",
       "        text-align: right;\n",
       "    }\n",
       "\n",
       "    .dataframe thead th {\n",
       "        text-align: left;\n",
       "    }\n",
       "\n",
       "    .dataframe tbody tr th {\n",
       "        vertical-align: top;\n",
       "    }\n",
       "</style>\n",
       "<table border=\"1\" class=\"dataframe\">\n",
       "  <thead>\n",
       "    <tr style=\"text-align: right;\">\n",
       "      <th></th>\n",
       "      <th>customerId</th>\n",
       "      <th>products</th>\n",
       "    </tr>\n",
       "  </thead>\n",
       "  <tbody>\n",
       "    <tr>\n",
       "      <th>0</th>\n",
       "      <td>0</td>\n",
       "      <td>20</td>\n",
       "    </tr>\n",
       "    <tr>\n",
       "      <th>1</th>\n",
       "      <td>1</td>\n",
       "      <td>2|2|23|68|68|111|29|86|107|152</td>\n",
       "    </tr>\n",
       "    <tr>\n",
       "      <th>2</th>\n",
       "      <td>2</td>\n",
       "      <td>111|107|29|11|11|11|33|23</td>\n",
       "    </tr>\n",
       "    <tr>\n",
       "      <th>3</th>\n",
       "      <td>3</td>\n",
       "      <td>164|227</td>\n",
       "    </tr>\n",
       "    <tr>\n",
       "      <th>4</th>\n",
       "      <td>5</td>\n",
       "      <td>2|2</td>\n",
       "    </tr>\n",
       "  </tbody>\n",
       "</table>\n",
       "</div>"
      ],
      "text/plain": [
       "   customerId                        products\n",
       "0           0                              20\n",
       "1           1  2|2|23|68|68|111|29|86|107|152\n",
       "2           2       111|107|29|11|11|11|33|23\n",
       "3           3                         164|227\n",
       "4           5                             2|2"
      ]
     },
     "execution_count": 68,
     "metadata": {},
     "output_type": "execute_result"
    }
   ],
   "source": [
    "print(transactions.shape)\n",
    "transactions.head()"
   ]
  },
  {
   "cell_type": "markdown",
   "metadata": {},
   "source": [
    "62483 transaction records\n",
    "\n",
    "products columns contains '|' separated products id bought by the customer"
   ]
  },
  {
   "cell_type": "code",
   "execution_count": 69,
   "metadata": {},
   "outputs": [
    {
     "data": {
      "text/plain": [
       "customerId    False\n",
       "products      False\n",
       "dtype: bool"
      ]
     },
     "execution_count": 69,
     "metadata": {},
     "output_type": "execute_result"
    }
   ],
   "source": [
    "transactions.isnull().any()  # NO NAN found"
   ]
  },
  {
   "cell_type": "markdown",
   "metadata": {},
   "source": [
    "### Data Preparation\n",
    "Break down each list of items in the products column into rows and count the number of products bought by a user."
   ]
  },
  {
   "cell_type": "code",
   "execution_count": 70,
   "metadata": {},
   "outputs": [
    {
     "data": {
      "text/html": [
       "<div>\n",
       "<style>\n",
       "    .dataframe thead tr:only-child th {\n",
       "        text-align: right;\n",
       "    }\n",
       "\n",
       "    .dataframe thead th {\n",
       "        text-align: left;\n",
       "    }\n",
       "\n",
       "    .dataframe tbody tr th {\n",
       "        vertical-align: top;\n",
       "    }\n",
       "</style>\n",
       "<table border=\"1\" class=\"dataframe\">\n",
       "  <thead>\n",
       "    <tr style=\"text-align: right;\">\n",
       "      <th></th>\n",
       "      <th>customerId</th>\n",
       "      <th>0</th>\n",
       "      <th>1</th>\n",
       "      <th>2</th>\n",
       "      <th>3</th>\n",
       "      <th>4</th>\n",
       "      <th>5</th>\n",
       "      <th>6</th>\n",
       "      <th>7</th>\n",
       "      <th>8</th>\n",
       "      <th>9</th>\n",
       "    </tr>\n",
       "  </thead>\n",
       "  <tbody>\n",
       "    <tr>\n",
       "      <th>0</th>\n",
       "      <td>0</td>\n",
       "      <td>20.0</td>\n",
       "      <td>NaN</td>\n",
       "      <td>NaN</td>\n",
       "      <td>NaN</td>\n",
       "      <td>NaN</td>\n",
       "      <td>NaN</td>\n",
       "      <td>NaN</td>\n",
       "      <td>NaN</td>\n",
       "      <td>NaN</td>\n",
       "      <td>NaN</td>\n",
       "    </tr>\n",
       "    <tr>\n",
       "      <th>1</th>\n",
       "      <td>1</td>\n",
       "      <td>2.0</td>\n",
       "      <td>2.0</td>\n",
       "      <td>23.0</td>\n",
       "      <td>68.0</td>\n",
       "      <td>68.0</td>\n",
       "      <td>111.0</td>\n",
       "      <td>29.0</td>\n",
       "      <td>86.0</td>\n",
       "      <td>107.0</td>\n",
       "      <td>152.0</td>\n",
       "    </tr>\n",
       "  </tbody>\n",
       "</table>\n",
       "</div>"
      ],
      "text/plain": [
       "   customerId     0    1     2     3     4      5     6     7      8      9\n",
       "0           0  20.0  NaN   NaN   NaN   NaN    NaN   NaN   NaN    NaN    NaN\n",
       "1           1   2.0  2.0  23.0  68.0  68.0  111.0  29.0  86.0  107.0  152.0"
      ]
     },
     "execution_count": 70,
     "metadata": {},
     "output_type": "execute_result"
    }
   ],
   "source": [
    "# split product column\n",
    "transactions['products'] = transactions['products'].apply(lambda x: [int(i) for i in x.split('|')])\n",
    "transactions.head(2).set_index('customerId')['products'].apply(pd.Series).reset_index()"
   ]
  },
  {
   "cell_type": "code",
   "execution_count": 71,
   "metadata": {},
   "outputs": [
    {
     "name": "stdout",
     "output_type": "stream",
     "text": [
      "Execution time: 0.29 minutes\n"
     ]
    }
   ],
   "source": [
    "# organize a given table into a dataframe with customerId, single productId, and purchase count\n",
    "s=time.time()\n",
    "\n",
    "data = pd.melt(transactions.set_index('customerId')['products'].apply(pd.Series).reset_index(), \n",
    "             id_vars=['customerId'],\n",
    "             value_name='products') \\\n",
    "    .dropna().drop(['variable'], axis=1) \\\n",
    "    .groupby(['customerId', 'products']) \\\n",
    "    .agg({'products': 'count'}) \\\n",
    "    .rename(columns={'products': 'purchase_count'}) \\\n",
    "    .reset_index() \\\n",
    "    .rename(columns={'products': 'productId'})\n",
    "data['productId'] = data['productId'].astype(np.int64)\n",
    "\n",
    "print(\"Execution time:\", round((time.time()-s)/60,2), \"minutes\")"
   ]
  },
  {
   "cell_type": "code",
   "execution_count": 72,
   "metadata": {},
   "outputs": [
    {
     "data": {
      "text/html": [
       "<div>\n",
       "<style>\n",
       "    .dataframe thead tr:only-child th {\n",
       "        text-align: right;\n",
       "    }\n",
       "\n",
       "    .dataframe thead th {\n",
       "        text-align: left;\n",
       "    }\n",
       "\n",
       "    .dataframe tbody tr th {\n",
       "        vertical-align: top;\n",
       "    }\n",
       "</style>\n",
       "<table border=\"1\" class=\"dataframe\">\n",
       "  <thead>\n",
       "    <tr style=\"text-align: right;\">\n",
       "      <th></th>\n",
       "      <th>customerId</th>\n",
       "      <th>productId</th>\n",
       "      <th>purchase_count</th>\n",
       "    </tr>\n",
       "  </thead>\n",
       "  <tbody>\n",
       "    <tr>\n",
       "      <th>0</th>\n",
       "      <td>0</td>\n",
       "      <td>1</td>\n",
       "      <td>2</td>\n",
       "    </tr>\n",
       "    <tr>\n",
       "      <th>1</th>\n",
       "      <td>0</td>\n",
       "      <td>13</td>\n",
       "      <td>1</td>\n",
       "    </tr>\n",
       "    <tr>\n",
       "      <th>2</th>\n",
       "      <td>0</td>\n",
       "      <td>19</td>\n",
       "      <td>3</td>\n",
       "    </tr>\n",
       "    <tr>\n",
       "      <th>3</th>\n",
       "      <td>0</td>\n",
       "      <td>20</td>\n",
       "      <td>1</td>\n",
       "    </tr>\n",
       "    <tr>\n",
       "      <th>4</th>\n",
       "      <td>0</td>\n",
       "      <td>31</td>\n",
       "      <td>2</td>\n",
       "    </tr>\n",
       "  </tbody>\n",
       "</table>\n",
       "</div>"
      ],
      "text/plain": [
       "   customerId  productId  purchase_count\n",
       "0           0          1               2\n",
       "1           0         13               1\n",
       "2           0         19               3\n",
       "3           0         20               1\n",
       "4           0         31               2"
      ]
     },
     "execution_count": 72,
     "metadata": {},
     "output_type": "execute_result"
    }
   ],
   "source": [
    "data.head()"
   ]
  },
  {
   "cell_type": "code",
   "execution_count": 77,
   "metadata": {},
   "outputs": [],
   "source": [
    "# create a dummy column for whether the customer bought the product\n",
    "def create_data_dummy(data):\n",
    "    data_dummy = data.copy()\n",
    "    data_dummy['purchase_dummy'] = 1\n",
    "    return data_dummy\n",
    "data_dummy = create_data_dummy(data)"
   ]
  },
  {
   "cell_type": "code",
   "execution_count": 78,
   "metadata": {},
   "outputs": [
    {
     "data": {
      "text/html": [
       "<div>\n",
       "<style>\n",
       "    .dataframe thead tr:only-child th {\n",
       "        text-align: right;\n",
       "    }\n",
       "\n",
       "    .dataframe thead th {\n",
       "        text-align: left;\n",
       "    }\n",
       "\n",
       "    .dataframe tbody tr th {\n",
       "        vertical-align: top;\n",
       "    }\n",
       "</style>\n",
       "<table border=\"1\" class=\"dataframe\">\n",
       "  <thead>\n",
       "    <tr style=\"text-align: right;\">\n",
       "      <th></th>\n",
       "      <th>customerId</th>\n",
       "      <th>productId</th>\n",
       "      <th>purchase_count</th>\n",
       "      <th>purchase_dummy</th>\n",
       "    </tr>\n",
       "  </thead>\n",
       "  <tbody>\n",
       "    <tr>\n",
       "      <th>0</th>\n",
       "      <td>0</td>\n",
       "      <td>1</td>\n",
       "      <td>2</td>\n",
       "      <td>1</td>\n",
       "    </tr>\n",
       "    <tr>\n",
       "      <th>1</th>\n",
       "      <td>0</td>\n",
       "      <td>13</td>\n",
       "      <td>1</td>\n",
       "      <td>1</td>\n",
       "    </tr>\n",
       "    <tr>\n",
       "      <th>2</th>\n",
       "      <td>0</td>\n",
       "      <td>19</td>\n",
       "      <td>3</td>\n",
       "      <td>1</td>\n",
       "    </tr>\n",
       "    <tr>\n",
       "      <th>3</th>\n",
       "      <td>0</td>\n",
       "      <td>20</td>\n",
       "      <td>1</td>\n",
       "      <td>1</td>\n",
       "    </tr>\n",
       "    <tr>\n",
       "      <th>4</th>\n",
       "      <td>0</td>\n",
       "      <td>31</td>\n",
       "      <td>2</td>\n",
       "      <td>1</td>\n",
       "    </tr>\n",
       "  </tbody>\n",
       "</table>\n",
       "</div>"
      ],
      "text/plain": [
       "   customerId  productId  purchase_count  purchase_dummy\n",
       "0           0          1               2               1\n",
       "1           0         13               1               1\n",
       "2           0         19               3               1\n",
       "3           0         20               1               1\n",
       "4           0         31               2               1"
      ]
     },
     "execution_count": 78,
     "metadata": {},
     "output_type": "execute_result"
    }
   ],
   "source": [
    "data_dummy.head()"
   ]
  },
  {
   "cell_type": "code",
   "execution_count": 79,
   "metadata": {},
   "outputs": [
    {
     "data": {
      "text/html": [
       "<div>\n",
       "<style>\n",
       "    .dataframe thead tr:only-child th {\n",
       "        text-align: right;\n",
       "    }\n",
       "\n",
       "    .dataframe thead th {\n",
       "        text-align: left;\n",
       "    }\n",
       "\n",
       "    .dataframe tbody tr th {\n",
       "        vertical-align: top;\n",
       "    }\n",
       "</style>\n",
       "<table border=\"1\" class=\"dataframe\">\n",
       "  <thead>\n",
       "    <tr style=\"text-align: right;\">\n",
       "      <th>productId</th>\n",
       "      <th>0</th>\n",
       "      <th>1</th>\n",
       "      <th>2</th>\n",
       "      <th>3</th>\n",
       "      <th>4</th>\n",
       "      <th>5</th>\n",
       "      <th>6</th>\n",
       "      <th>7</th>\n",
       "      <th>8</th>\n",
       "      <th>9</th>\n",
       "      <th>...</th>\n",
       "      <th>290</th>\n",
       "      <th>291</th>\n",
       "      <th>292</th>\n",
       "      <th>293</th>\n",
       "      <th>294</th>\n",
       "      <th>295</th>\n",
       "      <th>296</th>\n",
       "      <th>297</th>\n",
       "      <th>298</th>\n",
       "      <th>299</th>\n",
       "    </tr>\n",
       "    <tr>\n",
       "      <th>customerId</th>\n",
       "      <th></th>\n",
       "      <th></th>\n",
       "      <th></th>\n",
       "      <th></th>\n",
       "      <th></th>\n",
       "      <th></th>\n",
       "      <th></th>\n",
       "      <th></th>\n",
       "      <th></th>\n",
       "      <th></th>\n",
       "      <th></th>\n",
       "      <th></th>\n",
       "      <th></th>\n",
       "      <th></th>\n",
       "      <th></th>\n",
       "      <th></th>\n",
       "      <th></th>\n",
       "      <th></th>\n",
       "      <th></th>\n",
       "      <th></th>\n",
       "      <th></th>\n",
       "    </tr>\n",
       "  </thead>\n",
       "  <tbody>\n",
       "    <tr>\n",
       "      <th>0</th>\n",
       "      <td>NaN</td>\n",
       "      <td>2.0</td>\n",
       "      <td>NaN</td>\n",
       "      <td>NaN</td>\n",
       "      <td>NaN</td>\n",
       "      <td>NaN</td>\n",
       "      <td>NaN</td>\n",
       "      <td>NaN</td>\n",
       "      <td>NaN</td>\n",
       "      <td>NaN</td>\n",
       "      <td>...</td>\n",
       "      <td>NaN</td>\n",
       "      <td>NaN</td>\n",
       "      <td>NaN</td>\n",
       "      <td>NaN</td>\n",
       "      <td>NaN</td>\n",
       "      <td>NaN</td>\n",
       "      <td>NaN</td>\n",
       "      <td>NaN</td>\n",
       "      <td>NaN</td>\n",
       "      <td>NaN</td>\n",
       "    </tr>\n",
       "    <tr>\n",
       "      <th>1</th>\n",
       "      <td>NaN</td>\n",
       "      <td>NaN</td>\n",
       "      <td>6.0</td>\n",
       "      <td>NaN</td>\n",
       "      <td>NaN</td>\n",
       "      <td>NaN</td>\n",
       "      <td>NaN</td>\n",
       "      <td>NaN</td>\n",
       "      <td>NaN</td>\n",
       "      <td>NaN</td>\n",
       "      <td>...</td>\n",
       "      <td>NaN</td>\n",
       "      <td>NaN</td>\n",
       "      <td>NaN</td>\n",
       "      <td>1.0</td>\n",
       "      <td>NaN</td>\n",
       "      <td>NaN</td>\n",
       "      <td>1.0</td>\n",
       "      <td>NaN</td>\n",
       "      <td>NaN</td>\n",
       "      <td>NaN</td>\n",
       "    </tr>\n",
       "    <tr>\n",
       "      <th>2</th>\n",
       "      <td>NaN</td>\n",
       "      <td>NaN</td>\n",
       "      <td>NaN</td>\n",
       "      <td>NaN</td>\n",
       "      <td>NaN</td>\n",
       "      <td>NaN</td>\n",
       "      <td>NaN</td>\n",
       "      <td>NaN</td>\n",
       "      <td>NaN</td>\n",
       "      <td>NaN</td>\n",
       "      <td>...</td>\n",
       "      <td>NaN</td>\n",
       "      <td>NaN</td>\n",
       "      <td>NaN</td>\n",
       "      <td>NaN</td>\n",
       "      <td>NaN</td>\n",
       "      <td>NaN</td>\n",
       "      <td>NaN</td>\n",
       "      <td>NaN</td>\n",
       "      <td>NaN</td>\n",
       "      <td>NaN</td>\n",
       "    </tr>\n",
       "    <tr>\n",
       "      <th>3</th>\n",
       "      <td>NaN</td>\n",
       "      <td>NaN</td>\n",
       "      <td>NaN</td>\n",
       "      <td>NaN</td>\n",
       "      <td>NaN</td>\n",
       "      <td>NaN</td>\n",
       "      <td>NaN</td>\n",
       "      <td>NaN</td>\n",
       "      <td>NaN</td>\n",
       "      <td>NaN</td>\n",
       "      <td>...</td>\n",
       "      <td>NaN</td>\n",
       "      <td>NaN</td>\n",
       "      <td>NaN</td>\n",
       "      <td>NaN</td>\n",
       "      <td>NaN</td>\n",
       "      <td>NaN</td>\n",
       "      <td>NaN</td>\n",
       "      <td>NaN</td>\n",
       "      <td>NaN</td>\n",
       "      <td>NaN</td>\n",
       "    </tr>\n",
       "    <tr>\n",
       "      <th>4</th>\n",
       "      <td>NaN</td>\n",
       "      <td>NaN</td>\n",
       "      <td>NaN</td>\n",
       "      <td>NaN</td>\n",
       "      <td>NaN</td>\n",
       "      <td>NaN</td>\n",
       "      <td>NaN</td>\n",
       "      <td>NaN</td>\n",
       "      <td>NaN</td>\n",
       "      <td>NaN</td>\n",
       "      <td>...</td>\n",
       "      <td>NaN</td>\n",
       "      <td>NaN</td>\n",
       "      <td>NaN</td>\n",
       "      <td>NaN</td>\n",
       "      <td>NaN</td>\n",
       "      <td>NaN</td>\n",
       "      <td>NaN</td>\n",
       "      <td>NaN</td>\n",
       "      <td>NaN</td>\n",
       "      <td>NaN</td>\n",
       "    </tr>\n",
       "  </tbody>\n",
       "</table>\n",
       "<p>5 rows × 300 columns</p>\n",
       "</div>"
      ],
      "text/plain": [
       "productId   0    1    2    3    4    5    6    7    8    9   ...   290  291  \\\n",
       "customerId                                                   ...              \n",
       "0           NaN  2.0  NaN  NaN  NaN  NaN  NaN  NaN  NaN  NaN ...   NaN  NaN   \n",
       "1           NaN  NaN  6.0  NaN  NaN  NaN  NaN  NaN  NaN  NaN ...   NaN  NaN   \n",
       "2           NaN  NaN  NaN  NaN  NaN  NaN  NaN  NaN  NaN  NaN ...   NaN  NaN   \n",
       "3           NaN  NaN  NaN  NaN  NaN  NaN  NaN  NaN  NaN  NaN ...   NaN  NaN   \n",
       "4           NaN  NaN  NaN  NaN  NaN  NaN  NaN  NaN  NaN  NaN ...   NaN  NaN   \n",
       "\n",
       "productId   292  293  294  295  296  297  298  299  \n",
       "customerId                                          \n",
       "0           NaN  NaN  NaN  NaN  NaN  NaN  NaN  NaN  \n",
       "1           NaN  1.0  NaN  NaN  1.0  NaN  NaN  NaN  \n",
       "2           NaN  NaN  NaN  NaN  NaN  NaN  NaN  NaN  \n",
       "3           NaN  NaN  NaN  NaN  NaN  NaN  NaN  NaN  \n",
       "4           NaN  NaN  NaN  NaN  NaN  NaN  NaN  NaN  \n",
       "\n",
       "[5 rows x 300 columns]"
      ]
     },
     "execution_count": 79,
     "metadata": {},
     "output_type": "execute_result"
    }
   ],
   "source": [
    "# Normalize item values across users\n",
    "df_matrix = pd.pivot_table(data, values='purchase_count', index='customerId', columns='productId')\n",
    "df_matrix.head()"
   ]
  },
  {
   "cell_type": "code",
   "execution_count": 80,
   "metadata": {},
   "outputs": [
    {
     "name": "stdout",
     "output_type": "stream",
     "text": [
      "(24429, 300)\n"
     ]
    },
    {
     "data": {
      "text/html": [
       "<div>\n",
       "<style>\n",
       "    .dataframe thead tr:only-child th {\n",
       "        text-align: right;\n",
       "    }\n",
       "\n",
       "    .dataframe thead th {\n",
       "        text-align: left;\n",
       "    }\n",
       "\n",
       "    .dataframe tbody tr th {\n",
       "        vertical-align: top;\n",
       "    }\n",
       "</style>\n",
       "<table border=\"1\" class=\"dataframe\">\n",
       "  <thead>\n",
       "    <tr style=\"text-align: right;\">\n",
       "      <th>productId</th>\n",
       "      <th>0</th>\n",
       "      <th>1</th>\n",
       "      <th>2</th>\n",
       "      <th>3</th>\n",
       "      <th>4</th>\n",
       "      <th>5</th>\n",
       "      <th>6</th>\n",
       "      <th>7</th>\n",
       "      <th>8</th>\n",
       "      <th>9</th>\n",
       "      <th>...</th>\n",
       "      <th>290</th>\n",
       "      <th>291</th>\n",
       "      <th>292</th>\n",
       "      <th>293</th>\n",
       "      <th>294</th>\n",
       "      <th>295</th>\n",
       "      <th>296</th>\n",
       "      <th>297</th>\n",
       "      <th>298</th>\n",
       "      <th>299</th>\n",
       "    </tr>\n",
       "    <tr>\n",
       "      <th>customerId</th>\n",
       "      <th></th>\n",
       "      <th></th>\n",
       "      <th></th>\n",
       "      <th></th>\n",
       "      <th></th>\n",
       "      <th></th>\n",
       "      <th></th>\n",
       "      <th></th>\n",
       "      <th></th>\n",
       "      <th></th>\n",
       "      <th></th>\n",
       "      <th></th>\n",
       "      <th></th>\n",
       "      <th></th>\n",
       "      <th></th>\n",
       "      <th></th>\n",
       "      <th></th>\n",
       "      <th></th>\n",
       "      <th></th>\n",
       "      <th></th>\n",
       "      <th></th>\n",
       "    </tr>\n",
       "  </thead>\n",
       "  <tbody>\n",
       "    <tr>\n",
       "      <th>0</th>\n",
       "      <td>NaN</td>\n",
       "      <td>0.1</td>\n",
       "      <td>NaN</td>\n",
       "      <td>NaN</td>\n",
       "      <td>NaN</td>\n",
       "      <td>NaN</td>\n",
       "      <td>NaN</td>\n",
       "      <td>NaN</td>\n",
       "      <td>NaN</td>\n",
       "      <td>NaN</td>\n",
       "      <td>...</td>\n",
       "      <td>NaN</td>\n",
       "      <td>NaN</td>\n",
       "      <td>NaN</td>\n",
       "      <td>NaN</td>\n",
       "      <td>NaN</td>\n",
       "      <td>NaN</td>\n",
       "      <td>NaN</td>\n",
       "      <td>NaN</td>\n",
       "      <td>NaN</td>\n",
       "      <td>NaN</td>\n",
       "    </tr>\n",
       "    <tr>\n",
       "      <th>1</th>\n",
       "      <td>NaN</td>\n",
       "      <td>NaN</td>\n",
       "      <td>0.166667</td>\n",
       "      <td>NaN</td>\n",
       "      <td>NaN</td>\n",
       "      <td>NaN</td>\n",
       "      <td>NaN</td>\n",
       "      <td>NaN</td>\n",
       "      <td>NaN</td>\n",
       "      <td>NaN</td>\n",
       "      <td>...</td>\n",
       "      <td>NaN</td>\n",
       "      <td>NaN</td>\n",
       "      <td>NaN</td>\n",
       "      <td>0.0</td>\n",
       "      <td>NaN</td>\n",
       "      <td>NaN</td>\n",
       "      <td>0.0</td>\n",
       "      <td>NaN</td>\n",
       "      <td>NaN</td>\n",
       "      <td>NaN</td>\n",
       "    </tr>\n",
       "    <tr>\n",
       "      <th>2</th>\n",
       "      <td>NaN</td>\n",
       "      <td>NaN</td>\n",
       "      <td>NaN</td>\n",
       "      <td>NaN</td>\n",
       "      <td>NaN</td>\n",
       "      <td>NaN</td>\n",
       "      <td>NaN</td>\n",
       "      <td>NaN</td>\n",
       "      <td>NaN</td>\n",
       "      <td>NaN</td>\n",
       "      <td>...</td>\n",
       "      <td>NaN</td>\n",
       "      <td>NaN</td>\n",
       "      <td>NaN</td>\n",
       "      <td>NaN</td>\n",
       "      <td>NaN</td>\n",
       "      <td>NaN</td>\n",
       "      <td>NaN</td>\n",
       "      <td>NaN</td>\n",
       "      <td>NaN</td>\n",
       "      <td>NaN</td>\n",
       "    </tr>\n",
       "    <tr>\n",
       "      <th>3</th>\n",
       "      <td>NaN</td>\n",
       "      <td>NaN</td>\n",
       "      <td>NaN</td>\n",
       "      <td>NaN</td>\n",
       "      <td>NaN</td>\n",
       "      <td>NaN</td>\n",
       "      <td>NaN</td>\n",
       "      <td>NaN</td>\n",
       "      <td>NaN</td>\n",
       "      <td>NaN</td>\n",
       "      <td>...</td>\n",
       "      <td>NaN</td>\n",
       "      <td>NaN</td>\n",
       "      <td>NaN</td>\n",
       "      <td>NaN</td>\n",
       "      <td>NaN</td>\n",
       "      <td>NaN</td>\n",
       "      <td>NaN</td>\n",
       "      <td>NaN</td>\n",
       "      <td>NaN</td>\n",
       "      <td>NaN</td>\n",
       "    </tr>\n",
       "    <tr>\n",
       "      <th>4</th>\n",
       "      <td>NaN</td>\n",
       "      <td>NaN</td>\n",
       "      <td>NaN</td>\n",
       "      <td>NaN</td>\n",
       "      <td>NaN</td>\n",
       "      <td>NaN</td>\n",
       "      <td>NaN</td>\n",
       "      <td>NaN</td>\n",
       "      <td>NaN</td>\n",
       "      <td>NaN</td>\n",
       "      <td>...</td>\n",
       "      <td>NaN</td>\n",
       "      <td>NaN</td>\n",
       "      <td>NaN</td>\n",
       "      <td>NaN</td>\n",
       "      <td>NaN</td>\n",
       "      <td>NaN</td>\n",
       "      <td>NaN</td>\n",
       "      <td>NaN</td>\n",
       "      <td>NaN</td>\n",
       "      <td>NaN</td>\n",
       "    </tr>\n",
       "  </tbody>\n",
       "</table>\n",
       "<p>5 rows × 300 columns</p>\n",
       "</div>"
      ],
      "text/plain": [
       "productId   0    1         2    3    4    5    6    7    8    9   ...   290  \\\n",
       "customerId                                                        ...         \n",
       "0           NaN  0.1       NaN  NaN  NaN  NaN  NaN  NaN  NaN  NaN ...   NaN   \n",
       "1           NaN  NaN  0.166667  NaN  NaN  NaN  NaN  NaN  NaN  NaN ...   NaN   \n",
       "2           NaN  NaN       NaN  NaN  NaN  NaN  NaN  NaN  NaN  NaN ...   NaN   \n",
       "3           NaN  NaN       NaN  NaN  NaN  NaN  NaN  NaN  NaN  NaN ...   NaN   \n",
       "4           NaN  NaN       NaN  NaN  NaN  NaN  NaN  NaN  NaN  NaN ...   NaN   \n",
       "\n",
       "productId   291  292  293  294  295  296  297  298  299  \n",
       "customerId                                               \n",
       "0           NaN  NaN  NaN  NaN  NaN  NaN  NaN  NaN  NaN  \n",
       "1           NaN  NaN  0.0  NaN  NaN  0.0  NaN  NaN  NaN  \n",
       "2           NaN  NaN  NaN  NaN  NaN  NaN  NaN  NaN  NaN  \n",
       "3           NaN  NaN  NaN  NaN  NaN  NaN  NaN  NaN  NaN  \n",
       "4           NaN  NaN  NaN  NaN  NaN  NaN  NaN  NaN  NaN  \n",
       "\n",
       "[5 rows x 300 columns]"
      ]
     },
     "execution_count": 80,
     "metadata": {},
     "output_type": "execute_result"
    }
   ],
   "source": [
    "df_matrix_norm = (df_matrix-df_matrix.min())/(df_matrix.max()-df_matrix.min())\n",
    "print(df_matrix_norm.shape)\n",
    "df_matrix_norm.head()"
   ]
  },
  {
   "cell_type": "code",
   "execution_count": 81,
   "metadata": {},
   "outputs": [
    {
     "name": "stdout",
     "output_type": "stream",
     "text": [
      "(133585, 3)\n"
     ]
    },
    {
     "data": {
      "text/html": [
       "<div>\n",
       "<style>\n",
       "    .dataframe thead tr:only-child th {\n",
       "        text-align: right;\n",
       "    }\n",
       "\n",
       "    .dataframe thead th {\n",
       "        text-align: left;\n",
       "    }\n",
       "\n",
       "    .dataframe tbody tr th {\n",
       "        vertical-align: top;\n",
       "    }\n",
       "</style>\n",
       "<table border=\"1\" class=\"dataframe\">\n",
       "  <thead>\n",
       "    <tr style=\"text-align: right;\">\n",
       "      <th></th>\n",
       "      <th>customerId</th>\n",
       "      <th>productId</th>\n",
       "      <th>scaled_purchase_freq</th>\n",
       "    </tr>\n",
       "  </thead>\n",
       "  <tbody>\n",
       "    <tr>\n",
       "      <th>9</th>\n",
       "      <td>9</td>\n",
       "      <td>0</td>\n",
       "      <td>0.133333</td>\n",
       "    </tr>\n",
       "    <tr>\n",
       "      <th>25</th>\n",
       "      <td>25</td>\n",
       "      <td>0</td>\n",
       "      <td>0.133333</td>\n",
       "    </tr>\n",
       "    <tr>\n",
       "      <th>32</th>\n",
       "      <td>33</td>\n",
       "      <td>0</td>\n",
       "      <td>0.133333</td>\n",
       "    </tr>\n",
       "    <tr>\n",
       "      <th>35</th>\n",
       "      <td>36</td>\n",
       "      <td>0</td>\n",
       "      <td>0.133333</td>\n",
       "    </tr>\n",
       "    <tr>\n",
       "      <th>43</th>\n",
       "      <td>44</td>\n",
       "      <td>0</td>\n",
       "      <td>0.133333</td>\n",
       "    </tr>\n",
       "  </tbody>\n",
       "</table>\n",
       "</div>"
      ],
      "text/plain": [
       "    customerId productId  scaled_purchase_freq\n",
       "9            9         0              0.133333\n",
       "25          25         0              0.133333\n",
       "32          33         0              0.133333\n",
       "35          36         0              0.133333\n",
       "43          44         0              0.133333"
      ]
     },
     "execution_count": 81,
     "metadata": {},
     "output_type": "execute_result"
    }
   ],
   "source": [
    "# create a table for input to the modeling  \n",
    "d = df_matrix_norm.reset_index() \n",
    "d.index.names = ['scaled_purchase_freq'] \n",
    "data_norm = pd.melt(d, id_vars=['customerId'], value_name='scaled_purchase_freq').dropna()\n",
    "print(data_norm.shape)\n",
    "data_norm.head()"
   ]
  },
  {
   "cell_type": "markdown",
   "metadata": {},
   "source": [
    "Now the purchase history is normalized, from 0-1 (with 1 being the most number of purchase for an item and 0 being 0 purchase count for that item)."
   ]
  },
  {
   "cell_type": "markdown",
   "metadata": {},
   "source": [
    "### Split train and test set\n",
    "Split the data into training and testing sets for evaluating predictive modeling, in this case a collaborative filtering model. Typically, we use a larger portion of the data for training and a smaller portion for testing.\n",
    "We use 80:20 ratio for our train-test set size."
   ]
  },
  {
   "cell_type": "code",
   "execution_count": 82,
   "metadata": {
    "collapsed": true
   },
   "outputs": [],
   "source": [
    "def split_data(data):\n",
    "    '''\n",
    "    Splits dataset into training and test set.\n",
    "    \n",
    "    Args:\n",
    "        data (pandas.DataFrame)\n",
    "        \n",
    "    Returns\n",
    "        train_data (tc.SFrame)\n",
    "        test_data (tc.SFrame)\n",
    "    '''\n",
    "    train, test = train_test_split(data, test_size = .2)\n",
    "    train_data = tc.SFrame(train)\n",
    "    test_data = tc.SFrame(test)\n",
    "    return train_data, test_data"
   ]
  },
  {
   "cell_type": "code",
   "execution_count": 83,
   "metadata": {},
   "outputs": [],
   "source": [
    "train_data, test_data = split_data(data)\n",
    "train_data_dummy, test_data_dummy = split_data(data_dummy)\n",
    "train_data_norm, test_data_norm = split_data(data_norm)"
   ]
  },
  {
   "cell_type": "markdown",
   "metadata": {},
   "source": [
    "### Define Models using Turicreate library"
   ]
  },
  {
   "cell_type": "code",
   "execution_count": 84,
   "metadata": {
    "collapsed": true
   },
   "outputs": [],
   "source": [
    "# constant variables to define field names include:\n",
    "user_id = 'customerId'\n",
    "item_id = 'productId'\n",
    "users_to_recommend = list(customers[user_id])\n",
    "n_rec = 10 # number of items to recommend\n",
    "n_display = 30 # to display the first few rows in an output dataset"
   ]
  },
  {
   "cell_type": "code",
   "execution_count": 86,
   "metadata": {},
   "outputs": [],
   "source": [
    "def model(train_data, name, user_id, item_id, target, users_to_recommend, n_rec, n_display):\n",
    "    if name == 'popularity':\n",
    "        model = tc.popularity_recommender.create(train_data, \n",
    "                                                    user_id=user_id, \n",
    "                                                    item_id=item_id, \n",
    "                                                    target=target)\n",
    "    elif name == 'cosine':\n",
    "        model = tc.item_similarity_recommender.create(train_data, \n",
    "                                                    user_id=user_id, \n",
    "                                                    item_id=item_id, \n",
    "                                                    target=target, \n",
    "                                                    similarity_type='cosine')\n",
    "    elif name == 'pearson':\n",
    "        model = tc.item_similarity_recommender.create(train_data, \n",
    "                                                    user_id=user_id, \n",
    "                                                    item_id=item_id, \n",
    "                                                    target=target, \n",
    "                                                    similarity_type='pearson')\n",
    "        \n",
    "    recom = model.recommend(users=users_to_recommend, k=n_rec)\n",
    "    recom.print_rows(n_display)\n",
    "    return model"
   ]
  },
  {
   "cell_type": "markdown",
   "metadata": {},
   "source": [
    "### Popularity Model as Baseline\n",
    "The popularity model takes the most popular items for recommendation. These items are products with the highest number of sells across customers.\n"
   ]
  },
  {
   "cell_type": "code",
   "execution_count": 88,
   "metadata": {},
   "outputs": [
    {
     "data": {
      "text/html": [
       "<pre>Preparing data set.</pre>"
      ],
      "text/plain": [
       "Preparing data set."
      ]
     },
     "metadata": {},
     "output_type": "display_data"
    },
    {
     "data": {
      "text/html": [
       "<pre>    Data has 106868 observations with 23295 users and 300 items.</pre>"
      ],
      "text/plain": [
       "    Data has 106868 observations with 23295 users and 300 items."
      ]
     },
     "metadata": {},
     "output_type": "display_data"
    },
    {
     "data": {
      "text/html": [
       "<pre>    Data prepared in: 0.169602s</pre>"
      ],
      "text/plain": [
       "    Data prepared in: 0.169602s"
      ]
     },
     "metadata": {},
     "output_type": "display_data"
    },
    {
     "data": {
      "text/html": [
       "<pre>106868 observations to process; with 300 unique items.</pre>"
      ],
      "text/plain": [
       "106868 observations to process; with 300 unique items."
      ]
     },
     "metadata": {},
     "output_type": "display_data"
    },
    {
     "data": {
      "text/html": [
       "<pre>recommendations finished on 1000/1000 queries. users per second: 88152.3</pre>"
      ],
      "text/plain": [
       "recommendations finished on 1000/1000 queries. users per second: 88152.3"
      ]
     },
     "metadata": {},
     "output_type": "display_data"
    },
    {
     "name": "stdout",
     "output_type": "stream",
     "text": [
      "+------------+-----------+--------------------+------+\n",
      "| customerId | productId |       score        | rank |\n",
      "+------------+-----------+--------------------+------+\n",
      "|    1553    |    132    | 3.2641509433962264 |  1   |\n",
      "|    1553    |     37    |     3.06640625     |  2   |\n",
      "|    1553    |     34    | 3.040650406504065  |  3   |\n",
      "|    1553    |     0     | 2.9806201550387597 |  4   |\n",
      "|    1553    |     27    | 2.8976377952755907 |  5   |\n",
      "|    1553    |    248    | 2.880952380952381  |  6   |\n",
      "|    1553    |     3     | 2.7604166666666665 |  7   |\n",
      "|    1553    |    110    | 2.7011494252873565 |  8   |\n",
      "|    1553    |     10    | 2.6553846153846155 |  9   |\n",
      "|    1553    |    230    | 2.651851851851852  |  10  |\n",
      "|   20400    |    132    | 3.2641509433962264 |  1   |\n",
      "|   20400    |     37    |     3.06640625     |  2   |\n",
      "|   20400    |     34    | 3.040650406504065  |  3   |\n",
      "|   20400    |     0     | 2.9806201550387597 |  4   |\n",
      "|   20400    |     27    | 2.8976377952755907 |  5   |\n",
      "|   20400    |    248    | 2.880952380952381  |  6   |\n",
      "|   20400    |     3     | 2.7604166666666665 |  7   |\n",
      "|   20400    |    110    | 2.7011494252873565 |  8   |\n",
      "|   20400    |     10    | 2.6553846153846155 |  9   |\n",
      "|   20400    |    230    | 2.651851851851852  |  10  |\n",
      "|   19750    |    132    | 3.2641509433962264 |  1   |\n",
      "|   19750    |     37    |     3.06640625     |  2   |\n",
      "|   19750    |     34    | 3.040650406504065  |  3   |\n",
      "|   19750    |     0     | 2.9806201550387597 |  4   |\n",
      "|   19750    |     27    | 2.8976377952755907 |  5   |\n",
      "|   19750    |    248    | 2.880952380952381  |  6   |\n",
      "|   19750    |     3     | 2.7604166666666665 |  7   |\n",
      "|   19750    |    110    | 2.7011494252873565 |  8   |\n",
      "|   19750    |     10    | 2.6553846153846155 |  9   |\n",
      "|   19750    |    230    | 2.651851851851852  |  10  |\n",
      "+------------+-----------+--------------------+------+\n",
      "[10000 rows x 4 columns]\n",
      "\n"
     ]
    }
   ],
   "source": [
    "# i. Using Purchase Count\n",
    "name = 'popularity'\n",
    "target = 'purchase_count'\n",
    "popularity = model(train_data, name, user_id, item_id, target, users_to_recommend, n_rec, n_display)"
   ]
  },
  {
   "cell_type": "code",
   "execution_count": 89,
   "metadata": {},
   "outputs": [
    {
     "data": {
      "text/html": [
       "<pre>Warning: Ignoring columns purchase_count;</pre>"
      ],
      "text/plain": [
       "Warning: Ignoring columns purchase_count;"
      ]
     },
     "metadata": {},
     "output_type": "display_data"
    },
    {
     "data": {
      "text/html": [
       "<pre>    To use these columns in scoring predictions, use a model that allows the use of additional features.</pre>"
      ],
      "text/plain": [
       "    To use these columns in scoring predictions, use a model that allows the use of additional features."
      ]
     },
     "metadata": {},
     "output_type": "display_data"
    },
    {
     "data": {
      "text/html": [
       "<pre>Preparing data set.</pre>"
      ],
      "text/plain": [
       "Preparing data set."
      ]
     },
     "metadata": {},
     "output_type": "display_data"
    },
    {
     "data": {
      "text/html": [
       "<pre>    Data has 106868 observations with 23274 users and 300 items.</pre>"
      ],
      "text/plain": [
       "    Data has 106868 observations with 23274 users and 300 items."
      ]
     },
     "metadata": {},
     "output_type": "display_data"
    },
    {
     "data": {
      "text/html": [
       "<pre>    Data prepared in: 0.163736s</pre>"
      ],
      "text/plain": [
       "    Data prepared in: 0.163736s"
      ]
     },
     "metadata": {},
     "output_type": "display_data"
    },
    {
     "data": {
      "text/html": [
       "<pre>106868 observations to process; with 300 unique items.</pre>"
      ],
      "text/plain": [
       "106868 observations to process; with 300 unique items."
      ]
     },
     "metadata": {},
     "output_type": "display_data"
    },
    {
     "data": {
      "text/html": [
       "<pre>recommendations finished on 1000/1000 queries. users per second: 63339.2</pre>"
      ],
      "text/plain": [
       "recommendations finished on 1000/1000 queries. users per second: 63339.2"
      ]
     },
     "metadata": {},
     "output_type": "display_data"
    },
    {
     "name": "stdout",
     "output_type": "stream",
     "text": [
      "+------------+-----------+-------+------+\n",
      "| customerId | productId | score | rank |\n",
      "+------------+-----------+-------+------+\n",
      "|    1553    |     47    |  1.0  |  1   |\n",
      "|    1553    |    126    |  1.0  |  2   |\n",
      "|    1553    |    146    |  1.0  |  3   |\n",
      "|    1553    |    122    |  1.0  |  4   |\n",
      "|    1553    |     1     |  1.0  |  5   |\n",
      "|    1553    |    172    |  1.0  |  6   |\n",
      "|    1553    |     34    |  1.0  |  7   |\n",
      "|    1553    |     29    |  1.0  |  8   |\n",
      "|    1553    |     57    |  1.0  |  9   |\n",
      "|    1553    |     37    |  1.0  |  10  |\n",
      "|   20400    |     14    |  1.0  |  1   |\n",
      "|   20400    |    126    |  1.0  |  2   |\n",
      "|   20400    |    146    |  1.0  |  3   |\n",
      "|   20400    |    122    |  1.0  |  4   |\n",
      "|   20400    |     1     |  1.0  |  5   |\n",
      "|   20400    |    172    |  1.0  |  6   |\n",
      "|   20400    |     34    |  1.0  |  7   |\n",
      "|   20400    |     29    |  1.0  |  8   |\n",
      "|   20400    |     57    |  1.0  |  9   |\n",
      "|   20400    |     37    |  1.0  |  10  |\n",
      "|   19750    |     14    |  1.0  |  1   |\n",
      "|   19750    |    126    |  1.0  |  2   |\n",
      "|   19750    |    146    |  1.0  |  3   |\n",
      "|   19750    |    122    |  1.0  |  4   |\n",
      "|   19750    |     1     |  1.0  |  5   |\n",
      "|   19750    |    172    |  1.0  |  6   |\n",
      "|   19750    |     34    |  1.0  |  7   |\n",
      "|   19750    |     29    |  1.0  |  8   |\n",
      "|   19750    |     57    |  1.0  |  9   |\n",
      "|   19750    |     37    |  1.0  |  10  |\n",
      "+------------+-----------+-------+------+\n",
      "[10000 rows x 4 columns]\n",
      "\n"
     ]
    }
   ],
   "source": [
    "# ii. Using Purchase Dummy\n",
    "name = 'popularity'\n",
    "target = 'purchase_dummy'\n",
    "pop_dummy = model(train_data_dummy, name, user_id, item_id, target, users_to_recommend, n_rec, n_display)"
   ]
  },
  {
   "cell_type": "code",
   "execution_count": 90,
   "metadata": {},
   "outputs": [
    {
     "data": {
      "text/html": [
       "<pre>Preparing data set.</pre>"
      ],
      "text/plain": [
       "Preparing data set."
      ]
     },
     "metadata": {},
     "output_type": "display_data"
    },
    {
     "data": {
      "text/html": [
       "<pre>    Data has 106868 observations with 23271 users and 300 items.</pre>"
      ],
      "text/plain": [
       "    Data has 106868 observations with 23271 users and 300 items."
      ]
     },
     "metadata": {},
     "output_type": "display_data"
    },
    {
     "data": {
      "text/html": [
       "<pre>    Data prepared in: 0.160154s</pre>"
      ],
      "text/plain": [
       "    Data prepared in: 0.160154s"
      ]
     },
     "metadata": {},
     "output_type": "display_data"
    },
    {
     "data": {
      "text/html": [
       "<pre>106868 observations to process; with 300 unique items.</pre>"
      ],
      "text/plain": [
       "106868 observations to process; with 300 unique items."
      ]
     },
     "metadata": {},
     "output_type": "display_data"
    },
    {
     "data": {
      "text/html": [
       "<pre>recommendations finished on 1000/1000 queries. users per second: 76144.1</pre>"
      ],
      "text/plain": [
       "recommendations finished on 1000/1000 queries. users per second: 76144.1"
      ]
     },
     "metadata": {},
     "output_type": "display_data"
    },
    {
     "name": "stdout",
     "output_type": "stream",
     "text": [
      "+------------+-----------+---------------------+------+\n",
      "| customerId | productId |        score        | rank |\n",
      "+------------+-----------+---------------------+------+\n",
      "|    1553    |    226    |  0.7361111111111112 |  1   |\n",
      "|    1553    |    247    |  0.3438320209973753 |  2   |\n",
      "|    1553    |    230    | 0.33185185185185134 |  3   |\n",
      "|    1553    |    125    | 0.25931034482758586 |  4   |\n",
      "|    1553    |    248    | 0.25277777777777777 |  5   |\n",
      "|    1553    |    276    | 0.24615384615384617 |  6   |\n",
      "|    1553    |    294    | 0.24427480916030506 |  7   |\n",
      "|    1553    |     83    | 0.23850574712643682 |  8   |\n",
      "|    1553    |     72    |  0.2310838445807771 |  9   |\n",
      "|    1553    |    204    | 0.22891566265060223 |  10  |\n",
      "|   20400    |    226    |  0.7361111111111112 |  1   |\n",
      "|   20400    |    247    |  0.3438320209973753 |  2   |\n",
      "|   20400    |    230    | 0.33185185185185134 |  3   |\n",
      "|   20400    |    125    | 0.25931034482758586 |  4   |\n",
      "|   20400    |    248    | 0.25277777777777777 |  5   |\n",
      "|   20400    |    276    | 0.24615384615384617 |  6   |\n",
      "|   20400    |    294    | 0.24427480916030506 |  7   |\n",
      "|   20400    |     83    | 0.23850574712643682 |  8   |\n",
      "|   20400    |     72    |  0.2310838445807771 |  9   |\n",
      "|   20400    |    204    | 0.22891566265060223 |  10  |\n",
      "|   19750    |    226    |  0.7361111111111112 |  1   |\n",
      "|   19750    |    230    | 0.33185185185185134 |  2   |\n",
      "|   19750    |    125    | 0.25931034482758586 |  3   |\n",
      "|   19750    |    248    | 0.25277777777777777 |  4   |\n",
      "|   19750    |    276    | 0.24615384615384617 |  5   |\n",
      "|   19750    |    294    | 0.24427480916030506 |  6   |\n",
      "|   19750    |     83    | 0.23850574712643682 |  7   |\n",
      "|   19750    |     72    |  0.2310838445807771 |  8   |\n",
      "|   19750    |    204    | 0.22891566265060223 |  9   |\n",
      "|   19750    |    155    | 0.22758620689655168 |  10  |\n",
      "+------------+-----------+---------------------+------+\n",
      "[10000 rows x 4 columns]\n",
      "\n"
     ]
    }
   ],
   "source": [
    "# iii. Using Scaled Purchase count\n",
    "name = 'popularity'\n",
    "target = 'scaled_purchase_freq'\n",
    "pop_norm = model(train_data_norm, name, user_id, item_id, target, users_to_recommend, n_rec, n_display)"
   ]
  },
  {
   "cell_type": "markdown",
   "metadata": {},
   "source": [
    "### Collaborative Filtering Model\n",
    "In collaborative filtering, we would recommend items based on how similar users purchase items. For instance, if customer 1 and customer 2 bought similar items, e.g. 1 bought X, Y, Z and 2 bought X, Y, we would recommend an item Z to customer 2."
   ]
  },
  {
   "cell_type": "code",
   "execution_count": 91,
   "metadata": {},
   "outputs": [
    {
     "data": {
      "text/html": [
       "<pre>Preparing data set.</pre>"
      ],
      "text/plain": [
       "Preparing data set."
      ]
     },
     "metadata": {},
     "output_type": "display_data"
    },
    {
     "data": {
      "text/html": [
       "<pre>    Data has 106868 observations with 23295 users and 300 items.</pre>"
      ],
      "text/plain": [
       "    Data has 106868 observations with 23295 users and 300 items."
      ]
     },
     "metadata": {},
     "output_type": "display_data"
    },
    {
     "data": {
      "text/html": [
       "<pre>    Data prepared in: 0.183986s</pre>"
      ],
      "text/plain": [
       "    Data prepared in: 0.183986s"
      ]
     },
     "metadata": {},
     "output_type": "display_data"
    },
    {
     "data": {
      "text/html": [
       "<pre>Training model from provided data.</pre>"
      ],
      "text/plain": [
       "Training model from provided data."
      ]
     },
     "metadata": {},
     "output_type": "display_data"
    },
    {
     "data": {
      "text/html": [
       "<pre>Gathering per-item and per-user statistics.</pre>"
      ],
      "text/plain": [
       "Gathering per-item and per-user statistics."
      ]
     },
     "metadata": {},
     "output_type": "display_data"
    },
    {
     "data": {
      "text/html": [
       "<pre>+--------------------------------+------------+</pre>"
      ],
      "text/plain": [
       "+--------------------------------+------------+"
      ]
     },
     "metadata": {},
     "output_type": "display_data"
    },
    {
     "data": {
      "text/html": [
       "<pre>| Elapsed Time (Item Statistics) | % Complete |</pre>"
      ],
      "text/plain": [
       "| Elapsed Time (Item Statistics) | % Complete |"
      ]
     },
     "metadata": {},
     "output_type": "display_data"
    },
    {
     "data": {
      "text/html": [
       "<pre>+--------------------------------+------------+</pre>"
      ],
      "text/plain": [
       "+--------------------------------+------------+"
      ]
     },
     "metadata": {},
     "output_type": "display_data"
    },
    {
     "data": {
      "text/html": [
       "<pre>| 4.452ms                        | 8.5        |</pre>"
      ],
      "text/plain": [
       "| 4.452ms                        | 8.5        |"
      ]
     },
     "metadata": {},
     "output_type": "display_data"
    },
    {
     "data": {
      "text/html": [
       "<pre>| 16.678ms                       | 100        |</pre>"
      ],
      "text/plain": [
       "| 16.678ms                       | 100        |"
      ]
     },
     "metadata": {},
     "output_type": "display_data"
    },
    {
     "data": {
      "text/html": [
       "<pre>+--------------------------------+------------+</pre>"
      ],
      "text/plain": [
       "+--------------------------------+------------+"
      ]
     },
     "metadata": {},
     "output_type": "display_data"
    },
    {
     "data": {
      "text/html": [
       "<pre>Setting up lookup tables.</pre>"
      ],
      "text/plain": [
       "Setting up lookup tables."
      ]
     },
     "metadata": {},
     "output_type": "display_data"
    },
    {
     "data": {
      "text/html": [
       "<pre>Processing data in one pass using dense lookup tables.</pre>"
      ],
      "text/plain": [
       "Processing data in one pass using dense lookup tables."
      ]
     },
     "metadata": {},
     "output_type": "display_data"
    },
    {
     "data": {
      "text/html": [
       "<pre>+-------------------------------------+------------------+-----------------+</pre>"
      ],
      "text/plain": [
       "+-------------------------------------+------------------+-----------------+"
      ]
     },
     "metadata": {},
     "output_type": "display_data"
    },
    {
     "data": {
      "text/html": [
       "<pre>| Elapsed Time (Constructing Lookups) | Total % Complete | Items Processed |</pre>"
      ],
      "text/plain": [
       "| Elapsed Time (Constructing Lookups) | Total % Complete | Items Processed |"
      ]
     },
     "metadata": {},
     "output_type": "display_data"
    },
    {
     "data": {
      "text/html": [
       "<pre>+-------------------------------------+------------------+-----------------+</pre>"
      ],
      "text/plain": [
       "+-------------------------------------+------------------+-----------------+"
      ]
     },
     "metadata": {},
     "output_type": "display_data"
    },
    {
     "data": {
      "text/html": [
       "<pre>| 27.249ms                            | 0                | 0               |</pre>"
      ],
      "text/plain": [
       "| 27.249ms                            | 0                | 0               |"
      ]
     },
     "metadata": {},
     "output_type": "display_data"
    },
    {
     "data": {
      "text/html": [
       "<pre>| 47.535ms                            | 100              | 300             |</pre>"
      ],
      "text/plain": [
       "| 47.535ms                            | 100              | 300             |"
      ]
     },
     "metadata": {},
     "output_type": "display_data"
    },
    {
     "data": {
      "text/html": [
       "<pre>+-------------------------------------+------------------+-----------------+</pre>"
      ],
      "text/plain": [
       "+-------------------------------------+------------------+-----------------+"
      ]
     },
     "metadata": {},
     "output_type": "display_data"
    },
    {
     "data": {
      "text/html": [
       "<pre>Finalizing lookup tables.</pre>"
      ],
      "text/plain": [
       "Finalizing lookup tables."
      ]
     },
     "metadata": {},
     "output_type": "display_data"
    },
    {
     "data": {
      "text/html": [
       "<pre>Generating candidate set for working with new users.</pre>"
      ],
      "text/plain": [
       "Generating candidate set for working with new users."
      ]
     },
     "metadata": {},
     "output_type": "display_data"
    },
    {
     "data": {
      "text/html": [
       "<pre>Finished training in 1.10967s</pre>"
      ],
      "text/plain": [
       "Finished training in 1.10967s"
      ]
     },
     "metadata": {},
     "output_type": "display_data"
    },
    {
     "data": {
      "text/html": [
       "<pre>recommendations finished on 1000/1000 queries. users per second: 19141.7</pre>"
      ],
      "text/plain": [
       "recommendations finished on 1000/1000 queries. users per second: 19141.7"
      ]
     },
     "metadata": {},
     "output_type": "display_data"
    },
    {
     "name": "stdout",
     "output_type": "stream",
     "text": [
      "+------------+-----------+----------------------+------+\n",
      "| customerId | productId |        score         | rank |\n",
      "+------------+-----------+----------------------+------+\n",
      "|    1553    |     2     | 0.11356961727142334  |  1   |\n",
      "|    1553    |     35    | 0.07707769870758056  |  2   |\n",
      "|    1553    |     1     | 0.07667785882949829  |  3   |\n",
      "|    1553    |     33    | 0.060876095294952394 |  4   |\n",
      "|    1553    |     17    | 0.059446310997009276 |  5   |\n",
      "|    1553    |    148    | 0.05065848827362061  |  6   |\n",
      "|    1553    |     21    | 0.04794074296951294  |  7   |\n",
      "|    1553    |     13    | 0.042415738105773926 |  8   |\n",
      "|    1553    |     47    |  0.0412045955657959  |  9   |\n",
      "|    1553    |    233    | 0.04057788848876953  |  10  |\n",
      "|   20400    |    280    | 0.09493756294250488  |  1   |\n",
      "|   20400    |    215    | 0.046443164348602295 |  2   |\n",
      "|   20400    |     26    | 0.04573565721511841  |  3   |\n",
      "|   20400    |    122    | 0.04553091526031494  |  4   |\n",
      "|   20400    |     6     | 0.04041886329650879  |  5   |\n",
      "|   20400    |     13    | 0.03925955295562744  |  6   |\n",
      "|   20400    |    179    | 0.038611650466918945 |  7   |\n",
      "|   20400    |     31    | 0.03786236047744751  |  8   |\n",
      "|   20400    |     42    | 0.03733474016189575  |  9   |\n",
      "|   20400    |     1     | 0.03673797845840454  |  10  |\n",
      "|   19750    |     38    | 0.09740220308303833  |  1   |\n",
      "|   19750    |     2     | 0.09395343065261841  |  2   |\n",
      "|   19750    |     36    | 0.09157358407974243  |  3   |\n",
      "|   19750    |     79    | 0.08508075475692749  |  4   |\n",
      "|   19750    |     48    | 0.08400429487228393  |  5   |\n",
      "|   19750    |     1     | 0.07647500038146973  |  6   |\n",
      "|   19750    |     33    | 0.054173481464385984 |  7   |\n",
      "|   19750    |     21    | 0.053672266006469724 |  8   |\n",
      "|   19750    |     14    | 0.053476691246032715 |  9   |\n",
      "|   19750    |    112    | 0.05197993516921997  |  10  |\n",
      "+------------+-----------+----------------------+------+\n",
      "[10000 rows x 4 columns]\n",
      "\n"
     ]
    }
   ],
   "source": [
    "# I. COSINE similarity using purchase count\n",
    "name = 'cosine'\n",
    "target = 'purchase_count'\n",
    "cos = model(train_data, name, user_id, item_id, target, users_to_recommend, n_rec, n_display)"
   ]
  },
  {
   "cell_type": "code",
   "execution_count": 93,
   "metadata": {},
   "outputs": [
    {
     "data": {
      "text/html": [
       "<pre>Warning: Ignoring columns purchase_count;</pre>"
      ],
      "text/plain": [
       "Warning: Ignoring columns purchase_count;"
      ]
     },
     "metadata": {},
     "output_type": "display_data"
    },
    {
     "data": {
      "text/html": [
       "<pre>    To use these columns in scoring predictions, use a model that allows the use of additional features.</pre>"
      ],
      "text/plain": [
       "    To use these columns in scoring predictions, use a model that allows the use of additional features."
      ]
     },
     "metadata": {},
     "output_type": "display_data"
    },
    {
     "data": {
      "text/html": [
       "<pre>Preparing data set.</pre>"
      ],
      "text/plain": [
       "Preparing data set."
      ]
     },
     "metadata": {},
     "output_type": "display_data"
    },
    {
     "data": {
      "text/html": [
       "<pre>    Data has 106868 observations with 23274 users and 300 items.</pre>"
      ],
      "text/plain": [
       "    Data has 106868 observations with 23274 users and 300 items."
      ]
     },
     "metadata": {},
     "output_type": "display_data"
    },
    {
     "data": {
      "text/html": [
       "<pre>    Data prepared in: 0.198488s</pre>"
      ],
      "text/plain": [
       "    Data prepared in: 0.198488s"
      ]
     },
     "metadata": {},
     "output_type": "display_data"
    },
    {
     "data": {
      "text/html": [
       "<pre>Training model from provided data.</pre>"
      ],
      "text/plain": [
       "Training model from provided data."
      ]
     },
     "metadata": {},
     "output_type": "display_data"
    },
    {
     "data": {
      "text/html": [
       "<pre>Gathering per-item and per-user statistics.</pre>"
      ],
      "text/plain": [
       "Gathering per-item and per-user statistics."
      ]
     },
     "metadata": {},
     "output_type": "display_data"
    },
    {
     "data": {
      "text/html": [
       "<pre>+--------------------------------+------------+</pre>"
      ],
      "text/plain": [
       "+--------------------------------+------------+"
      ]
     },
     "metadata": {},
     "output_type": "display_data"
    },
    {
     "data": {
      "text/html": [
       "<pre>| Elapsed Time (Item Statistics) | % Complete |</pre>"
      ],
      "text/plain": [
       "| Elapsed Time (Item Statistics) | % Complete |"
      ]
     },
     "metadata": {},
     "output_type": "display_data"
    },
    {
     "data": {
      "text/html": [
       "<pre>+--------------------------------+------------+</pre>"
      ],
      "text/plain": [
       "+--------------------------------+------------+"
      ]
     },
     "metadata": {},
     "output_type": "display_data"
    },
    {
     "data": {
      "text/html": [
       "<pre>| 1.414ms                        | 4.25       |</pre>"
      ],
      "text/plain": [
       "| 1.414ms                        | 4.25       |"
      ]
     },
     "metadata": {},
     "output_type": "display_data"
    },
    {
     "data": {
      "text/html": [
       "<pre>| 21.325ms                       | 100        |</pre>"
      ],
      "text/plain": [
       "| 21.325ms                       | 100        |"
      ]
     },
     "metadata": {},
     "output_type": "display_data"
    },
    {
     "data": {
      "text/html": [
       "<pre>+--------------------------------+------------+</pre>"
      ],
      "text/plain": [
       "+--------------------------------+------------+"
      ]
     },
     "metadata": {},
     "output_type": "display_data"
    },
    {
     "data": {
      "text/html": [
       "<pre>Setting up lookup tables.</pre>"
      ],
      "text/plain": [
       "Setting up lookup tables."
      ]
     },
     "metadata": {},
     "output_type": "display_data"
    },
    {
     "data": {
      "text/html": [
       "<pre>Processing data in one pass using dense lookup tables.</pre>"
      ],
      "text/plain": [
       "Processing data in one pass using dense lookup tables."
      ]
     },
     "metadata": {},
     "output_type": "display_data"
    },
    {
     "data": {
      "text/html": [
       "<pre>+-------------------------------------+------------------+-----------------+</pre>"
      ],
      "text/plain": [
       "+-------------------------------------+------------------+-----------------+"
      ]
     },
     "metadata": {},
     "output_type": "display_data"
    },
    {
     "data": {
      "text/html": [
       "<pre>| Elapsed Time (Constructing Lookups) | Total % Complete | Items Processed |</pre>"
      ],
      "text/plain": [
       "| Elapsed Time (Constructing Lookups) | Total % Complete | Items Processed |"
      ]
     },
     "metadata": {},
     "output_type": "display_data"
    },
    {
     "data": {
      "text/html": [
       "<pre>+-------------------------------------+------------------+-----------------+</pre>"
      ],
      "text/plain": [
       "+-------------------------------------+------------------+-----------------+"
      ]
     },
     "metadata": {},
     "output_type": "display_data"
    },
    {
     "data": {
      "text/html": [
       "<pre>| 22.631ms                            | 0                | 0               |</pre>"
      ],
      "text/plain": [
       "| 22.631ms                            | 0                | 0               |"
      ]
     },
     "metadata": {},
     "output_type": "display_data"
    },
    {
     "data": {
      "text/html": [
       "<pre>| 58.525ms                            | 100              | 300             |</pre>"
      ],
      "text/plain": [
       "| 58.525ms                            | 100              | 300             |"
      ]
     },
     "metadata": {},
     "output_type": "display_data"
    },
    {
     "data": {
      "text/html": [
       "<pre>+-------------------------------------+------------------+-----------------+</pre>"
      ],
      "text/plain": [
       "+-------------------------------------+------------------+-----------------+"
      ]
     },
     "metadata": {},
     "output_type": "display_data"
    },
    {
     "data": {
      "text/html": [
       "<pre>Finalizing lookup tables.</pre>"
      ],
      "text/plain": [
       "Finalizing lookup tables."
      ]
     },
     "metadata": {},
     "output_type": "display_data"
    },
    {
     "data": {
      "text/html": [
       "<pre>Generating candidate set for working with new users.</pre>"
      ],
      "text/plain": [
       "Generating candidate set for working with new users."
      ]
     },
     "metadata": {},
     "output_type": "display_data"
    },
    {
     "data": {
      "text/html": [
       "<pre>Finished training in 0.078776s</pre>"
      ],
      "text/plain": [
       "Finished training in 0.078776s"
      ]
     },
     "metadata": {},
     "output_type": "display_data"
    },
    {
     "data": {
      "text/html": [
       "<pre>recommendations finished on 1000/1000 queries. users per second: 43731.1</pre>"
      ],
      "text/plain": [
       "recommendations finished on 1000/1000 queries. users per second: 43731.1"
      ]
     },
     "metadata": {},
     "output_type": "display_data"
    },
    {
     "name": "stdout",
     "output_type": "stream",
     "text": [
      "+------------+-----------+----------------------+------+\n",
      "| customerId | productId |        score         | rank |\n",
      "+------------+-----------+----------------------+------+\n",
      "|    1553    |     2     | 0.09617377519607544  |  1   |\n",
      "|    1553    |     35    | 0.08738603591918945  |  2   |\n",
      "|    1553    |     1     | 0.08446981906890869  |  3   |\n",
      "|    1553    |     5     | 0.07363030910491944  |  4   |\n",
      "|    1553    |     21    | 0.06667494773864746  |  5   |\n",
      "|    1553    |     17    |  0.0598006010055542  |  6   |\n",
      "|    1553    |     33    | 0.05541661977767944  |  7   |\n",
      "|    1553    |     8     | 0.05355746746063232  |  8   |\n",
      "|    1553    |     85    |  0.0485872745513916  |  9   |\n",
      "|    1553    |     15    | 0.04795979261398316  |  10  |\n",
      "|   20400    |     14    |         0.0          |  1   |\n",
      "|   20400    |    126    |         0.0          |  2   |\n",
      "|   20400    |    146    |         0.0          |  3   |\n",
      "|   20400    |    122    |         0.0          |  4   |\n",
      "|   20400    |     1     |         0.0          |  5   |\n",
      "|   20400    |    172    |         0.0          |  6   |\n",
      "|   20400    |     34    |         0.0          |  7   |\n",
      "|   20400    |     29    |         0.0          |  8   |\n",
      "|   20400    |     57    |         0.0          |  9   |\n",
      "|   20400    |     37    |         0.0          |  10  |\n",
      "|   19750    |     36    | 0.09713493784268697  |  1   |\n",
      "|   19750    |     38    | 0.09662644068400066  |  2   |\n",
      "|   19750    |     48    | 0.09279115001360576  |  3   |\n",
      "|   19750    |     1     | 0.08504415551821391  |  4   |\n",
      "|   19750    |     79    | 0.07534485061963399  |  5   |\n",
      "|   19750    |     2     | 0.07076327006022136  |  6   |\n",
      "|   19750    |     14    | 0.056758612394332886 |  7   |\n",
      "|   19750    |     5     | 0.05273130536079407  |  8   |\n",
      "|   19750    |     17    | 0.05073019862174988  |  9   |\n",
      "|   19750    |     13    | 0.04991527398427328  |  10  |\n",
      "+------------+-----------+----------------------+------+\n",
      "[10000 rows x 4 columns]\n",
      "\n"
     ]
    }
   ],
   "source": [
    "# COSINE similarity using purchase dummy data\n",
    "name = 'cosine'\n",
    "target = 'purchase_dummy'\n",
    "cos_dummy = model(train_data_dummy, name, user_id, item_id, target, users_to_recommend, n_rec, n_display)"
   ]
  },
  {
   "cell_type": "code",
   "execution_count": 94,
   "metadata": {},
   "outputs": [
    {
     "data": {
      "text/html": [
       "<pre>Preparing data set.</pre>"
      ],
      "text/plain": [
       "Preparing data set."
      ]
     },
     "metadata": {},
     "output_type": "display_data"
    },
    {
     "data": {
      "text/html": [
       "<pre>    Data has 106868 observations with 23271 users and 300 items.</pre>"
      ],
      "text/plain": [
       "    Data has 106868 observations with 23271 users and 300 items."
      ]
     },
     "metadata": {},
     "output_type": "display_data"
    },
    {
     "data": {
      "text/html": [
       "<pre>    Data prepared in: 0.224368s</pre>"
      ],
      "text/plain": [
       "    Data prepared in: 0.224368s"
      ]
     },
     "metadata": {},
     "output_type": "display_data"
    },
    {
     "data": {
      "text/html": [
       "<pre>Training model from provided data.</pre>"
      ],
      "text/plain": [
       "Training model from provided data."
      ]
     },
     "metadata": {},
     "output_type": "display_data"
    },
    {
     "data": {
      "text/html": [
       "<pre>Gathering per-item and per-user statistics.</pre>"
      ],
      "text/plain": [
       "Gathering per-item and per-user statistics."
      ]
     },
     "metadata": {},
     "output_type": "display_data"
    },
    {
     "data": {
      "text/html": [
       "<pre>+--------------------------------+------------+</pre>"
      ],
      "text/plain": [
       "+--------------------------------+------------+"
      ]
     },
     "metadata": {},
     "output_type": "display_data"
    },
    {
     "data": {
      "text/html": [
       "<pre>| Elapsed Time (Item Statistics) | % Complete |</pre>"
      ],
      "text/plain": [
       "| Elapsed Time (Item Statistics) | % Complete |"
      ]
     },
     "metadata": {},
     "output_type": "display_data"
    },
    {
     "data": {
      "text/html": [
       "<pre>+--------------------------------+------------+</pre>"
      ],
      "text/plain": [
       "+--------------------------------+------------+"
      ]
     },
     "metadata": {},
     "output_type": "display_data"
    },
    {
     "data": {
      "text/html": [
       "<pre>| 2.26ms                         | 4.25       |</pre>"
      ],
      "text/plain": [
       "| 2.26ms                         | 4.25       |"
      ]
     },
     "metadata": {},
     "output_type": "display_data"
    },
    {
     "data": {
      "text/html": [
       "<pre>| 14.857ms                       | 100        |</pre>"
      ],
      "text/plain": [
       "| 14.857ms                       | 100        |"
      ]
     },
     "metadata": {},
     "output_type": "display_data"
    },
    {
     "data": {
      "text/html": [
       "<pre>+--------------------------------+------------+</pre>"
      ],
      "text/plain": [
       "+--------------------------------+------------+"
      ]
     },
     "metadata": {},
     "output_type": "display_data"
    },
    {
     "data": {
      "text/html": [
       "<pre>Setting up lookup tables.</pre>"
      ],
      "text/plain": [
       "Setting up lookup tables."
      ]
     },
     "metadata": {},
     "output_type": "display_data"
    },
    {
     "data": {
      "text/html": [
       "<pre>Processing data in one pass using dense lookup tables.</pre>"
      ],
      "text/plain": [
       "Processing data in one pass using dense lookup tables."
      ]
     },
     "metadata": {},
     "output_type": "display_data"
    },
    {
     "data": {
      "text/html": [
       "<pre>+-------------------------------------+------------------+-----------------+</pre>"
      ],
      "text/plain": [
       "+-------------------------------------+------------------+-----------------+"
      ]
     },
     "metadata": {},
     "output_type": "display_data"
    },
    {
     "data": {
      "text/html": [
       "<pre>| Elapsed Time (Constructing Lookups) | Total % Complete | Items Processed |</pre>"
      ],
      "text/plain": [
       "| Elapsed Time (Constructing Lookups) | Total % Complete | Items Processed |"
      ]
     },
     "metadata": {},
     "output_type": "display_data"
    },
    {
     "data": {
      "text/html": [
       "<pre>+-------------------------------------+------------------+-----------------+</pre>"
      ],
      "text/plain": [
       "+-------------------------------------+------------------+-----------------+"
      ]
     },
     "metadata": {},
     "output_type": "display_data"
    },
    {
     "data": {
      "text/html": [
       "<pre>| 16.186ms                            | 0                | 0               |</pre>"
      ],
      "text/plain": [
       "| 16.186ms                            | 0                | 0               |"
      ]
     },
     "metadata": {},
     "output_type": "display_data"
    },
    {
     "data": {
      "text/html": [
       "<pre>| 44.211ms                            | 100              | 300             |</pre>"
      ],
      "text/plain": [
       "| 44.211ms                            | 100              | 300             |"
      ]
     },
     "metadata": {},
     "output_type": "display_data"
    },
    {
     "data": {
      "text/html": [
       "<pre>+-------------------------------------+------------------+-----------------+</pre>"
      ],
      "text/plain": [
       "+-------------------------------------+------------------+-----------------+"
      ]
     },
     "metadata": {},
     "output_type": "display_data"
    },
    {
     "data": {
      "text/html": [
       "<pre>Finalizing lookup tables.</pre>"
      ],
      "text/plain": [
       "Finalizing lookup tables."
      ]
     },
     "metadata": {},
     "output_type": "display_data"
    },
    {
     "data": {
      "text/html": [
       "<pre>Generating candidate set for working with new users.</pre>"
      ],
      "text/plain": [
       "Generating candidate set for working with new users."
      ]
     },
     "metadata": {},
     "output_type": "display_data"
    },
    {
     "data": {
      "text/html": [
       "<pre>Finished training in 0.057551s</pre>"
      ],
      "text/plain": [
       "Finished training in 0.057551s"
      ]
     },
     "metadata": {},
     "output_type": "display_data"
    },
    {
     "data": {
      "text/html": [
       "<pre>recommendations finished on 1000/1000 queries. users per second: 53427.4</pre>"
      ],
      "text/plain": [
       "recommendations finished on 1000/1000 queries. users per second: 53427.4"
      ]
     },
     "metadata": {},
     "output_type": "display_data"
    },
    {
     "name": "stdout",
     "output_type": "stream",
     "text": [
      "+------------+-----------+-----------------------+------+\n",
      "| customerId | productId |         score         | rank |\n",
      "+------------+-----------+-----------------------+------+\n",
      "|    1553    |    145    |          0.0          |  1   |\n",
      "|    1553    |     19    |          0.0          |  2   |\n",
      "|    1553    |    268    |          0.0          |  3   |\n",
      "|    1553    |     17    |          0.0          |  4   |\n",
      "|    1553    |    244    |          0.0          |  5   |\n",
      "|    1553    |     61    |          0.0          |  6   |\n",
      "|    1553    |     78    |          0.0          |  7   |\n",
      "|    1553    |    122    |          0.0          |  8   |\n",
      "|    1553    |    223    |          0.0          |  9   |\n",
      "|    1553    |    119    |          0.0          |  10  |\n",
      "|   20400    |     1     |  0.004158867597579956 |  1   |\n",
      "|   20400    |     2     | 0.0040831840038299564 |  2   |\n",
      "|   20400    |     0     | 0.0025605010986328126 |  3   |\n",
      "|   20400    |     38    | 0.0022001171112060545 |  4   |\n",
      "|   20400    |    107    |  0.001912308931350708 |  5   |\n",
      "|   20400    |     33    | 0.0018836736679077148 |  6   |\n",
      "|   20400    |     72    | 0.0018746447563171387 |  7   |\n",
      "|   20400    |     31    |  0.001714634895324707 |  8   |\n",
      "|   20400    |     8     |  0.001707848310470581 |  9   |\n",
      "|   20400    |     79    | 0.0017033255100250245 |  10  |\n",
      "|   19750    |    225    | 0.0029519200325012207 |  1   |\n",
      "|   19750    |    208    | 0.0028699139753977456 |  2   |\n",
      "|   19750    |    181    | 0.0024991631507873535 |  3   |\n",
      "|   19750    |    134    | 0.0023910204569498696 |  4   |\n",
      "|   19750    |    105    | 0.0021999776363372803 |  5   |\n",
      "|   19750    |    187    | 0.0021741588910420737 |  6   |\n",
      "|   19750    |    232    | 0.0019117991129557292 |  7   |\n",
      "|   19750    |    110    | 0.0017702579498291016 |  8   |\n",
      "|   19750    |     71    | 0.0015025238196055095 |  9   |\n",
      "|   19750    |    120    | 0.0014918744564056396 |  10  |\n",
      "+------------+-----------+-----------------------+------+\n",
      "[10000 rows x 4 columns]\n",
      "\n"
     ]
    }
   ],
   "source": [
    "# iii. COSINE similarity using scaled purchased count\n",
    "name = 'cosine' \n",
    "target = 'scaled_purchase_freq' \n",
    "cos_norm = model(train_data_norm, name, user_id, item_id, target, users_to_recommend, n_rec, n_display)\n"
   ]
  },
  {
   "cell_type": "code",
   "execution_count": 95,
   "metadata": {},
   "outputs": [
    {
     "data": {
      "text/html": [
       "<pre>Preparing data set.</pre>"
      ],
      "text/plain": [
       "Preparing data set."
      ]
     },
     "metadata": {},
     "output_type": "display_data"
    },
    {
     "data": {
      "text/html": [
       "<pre>    Data has 106868 observations with 23295 users and 300 items.</pre>"
      ],
      "text/plain": [
       "    Data has 106868 observations with 23295 users and 300 items."
      ]
     },
     "metadata": {},
     "output_type": "display_data"
    },
    {
     "data": {
      "text/html": [
       "<pre>    Data prepared in: 0.175885s</pre>"
      ],
      "text/plain": [
       "    Data prepared in: 0.175885s"
      ]
     },
     "metadata": {},
     "output_type": "display_data"
    },
    {
     "data": {
      "text/html": [
       "<pre>Training model from provided data.</pre>"
      ],
      "text/plain": [
       "Training model from provided data."
      ]
     },
     "metadata": {},
     "output_type": "display_data"
    },
    {
     "data": {
      "text/html": [
       "<pre>Gathering per-item and per-user statistics.</pre>"
      ],
      "text/plain": [
       "Gathering per-item and per-user statistics."
      ]
     },
     "metadata": {},
     "output_type": "display_data"
    },
    {
     "data": {
      "text/html": [
       "<pre>+--------------------------------+------------+</pre>"
      ],
      "text/plain": [
       "+--------------------------------+------------+"
      ]
     },
     "metadata": {},
     "output_type": "display_data"
    },
    {
     "data": {
      "text/html": [
       "<pre>| Elapsed Time (Item Statistics) | % Complete |</pre>"
      ],
      "text/plain": [
       "| Elapsed Time (Item Statistics) | % Complete |"
      ]
     },
     "metadata": {},
     "output_type": "display_data"
    },
    {
     "data": {
      "text/html": [
       "<pre>+--------------------------------+------------+</pre>"
      ],
      "text/plain": [
       "+--------------------------------+------------+"
      ]
     },
     "metadata": {},
     "output_type": "display_data"
    },
    {
     "data": {
      "text/html": [
       "<pre>| 1.568ms                        | 4.25       |</pre>"
      ],
      "text/plain": [
       "| 1.568ms                        | 4.25       |"
      ]
     },
     "metadata": {},
     "output_type": "display_data"
    },
    {
     "data": {
      "text/html": [
       "<pre>| 26.536ms                       | 100        |</pre>"
      ],
      "text/plain": [
       "| 26.536ms                       | 100        |"
      ]
     },
     "metadata": {},
     "output_type": "display_data"
    },
    {
     "data": {
      "text/html": [
       "<pre>+--------------------------------+------------+</pre>"
      ],
      "text/plain": [
       "+--------------------------------+------------+"
      ]
     },
     "metadata": {},
     "output_type": "display_data"
    },
    {
     "data": {
      "text/html": [
       "<pre>Setting up lookup tables.</pre>"
      ],
      "text/plain": [
       "Setting up lookup tables."
      ]
     },
     "metadata": {},
     "output_type": "display_data"
    },
    {
     "data": {
      "text/html": [
       "<pre>Processing data in one pass using dense lookup tables.</pre>"
      ],
      "text/plain": [
       "Processing data in one pass using dense lookup tables."
      ]
     },
     "metadata": {},
     "output_type": "display_data"
    },
    {
     "data": {
      "text/html": [
       "<pre>+-------------------------------------+------------------+-----------------+</pre>"
      ],
      "text/plain": [
       "+-------------------------------------+------------------+-----------------+"
      ]
     },
     "metadata": {},
     "output_type": "display_data"
    },
    {
     "data": {
      "text/html": [
       "<pre>| Elapsed Time (Constructing Lookups) | Total % Complete | Items Processed |</pre>"
      ],
      "text/plain": [
       "| Elapsed Time (Constructing Lookups) | Total % Complete | Items Processed |"
      ]
     },
     "metadata": {},
     "output_type": "display_data"
    },
    {
     "data": {
      "text/html": [
       "<pre>+-------------------------------------+------------------+-----------------+</pre>"
      ],
      "text/plain": [
       "+-------------------------------------+------------------+-----------------+"
      ]
     },
     "metadata": {},
     "output_type": "display_data"
    },
    {
     "data": {
      "text/html": [
       "<pre>| 27.801ms                            | 0                | 0               |</pre>"
      ],
      "text/plain": [
       "| 27.801ms                            | 0                | 0               |"
      ]
     },
     "metadata": {},
     "output_type": "display_data"
    },
    {
     "data": {
      "text/html": [
       "<pre>| 65.712ms                            | 100              | 300             |</pre>"
      ],
      "text/plain": [
       "| 65.712ms                            | 100              | 300             |"
      ]
     },
     "metadata": {},
     "output_type": "display_data"
    },
    {
     "data": {
      "text/html": [
       "<pre>+-------------------------------------+------------------+-----------------+</pre>"
      ],
      "text/plain": [
       "+-------------------------------------+------------------+-----------------+"
      ]
     },
     "metadata": {},
     "output_type": "display_data"
    },
    {
     "data": {
      "text/html": [
       "<pre>Finalizing lookup tables.</pre>"
      ],
      "text/plain": [
       "Finalizing lookup tables."
      ]
     },
     "metadata": {},
     "output_type": "display_data"
    },
    {
     "data": {
      "text/html": [
       "<pre>Generating candidate set for working with new users.</pre>"
      ],
      "text/plain": [
       "Generating candidate set for working with new users."
      ]
     },
     "metadata": {},
     "output_type": "display_data"
    },
    {
     "data": {
      "text/html": [
       "<pre>Finished training in 0.081727s</pre>"
      ],
      "text/plain": [
       "Finished training in 0.081727s"
      ]
     },
     "metadata": {},
     "output_type": "display_data"
    },
    {
     "data": {
      "text/html": [
       "<pre>recommendations finished on 1000/1000 queries. users per second: 68073.5</pre>"
      ],
      "text/plain": [
       "recommendations finished on 1000/1000 queries. users per second: 68073.5"
      ]
     },
     "metadata": {},
     "output_type": "display_data"
    },
    {
     "name": "stdout",
     "output_type": "stream",
     "text": [
      "+------------+-----------+--------------------+------+\n",
      "| customerId | productId |       score        | rank |\n",
      "+------------+-----------+--------------------+------+\n",
      "|    1553    |    132    | 3.2636384030558023 |  1   |\n",
      "|    1553    |     37    | 3.066406249999998  |  2   |\n",
      "|    1553    |     34    | 3.022607401037604  |  3   |\n",
      "|    1553    |     0     | 2.977848753633424  |  4   |\n",
      "|    1553    |     27    | 2.8976377952755903 |  5   |\n",
      "|    1553    |    248    | 2.877944051084065  |  6   |\n",
      "|    1553    |     3     | 2.7594530502955132 |  7   |\n",
      "|    1553    |    110    | 2.701149425287355  |  8   |\n",
      "|    1553    |     10    | 2.6548393282523524 |  9   |\n",
      "|    1553    |    230    | 2.6450958203386383 |  10  |\n",
      "|   20400    |    132    | 3.2544571419931803 |  1   |\n",
      "|   20400    |     37    | 3.065196394920347  |  2   |\n",
      "|   20400    |     34    | 3.040650406504065  |  3   |\n",
      "|   20400    |     0     | 2.9787908884906016 |  4   |\n",
      "|   20400    |     27    | 2.896157394713304  |  5   |\n",
      "|   20400    |    248    | 2.8809523809523814 |  6   |\n",
      "|   20400    |     3     | 2.7586028973261527 |  7   |\n",
      "|   20400    |    110    | 2.701149425287355  |  8   |\n",
      "|   20400    |     10    | 2.6553846153846155 |  9   |\n",
      "|   20400    |    230    | 2.6518518518518523 |  10  |\n",
      "|   19750    |    132    | 3.2623398920275126 |  1   |\n",
      "|   19750    |     37    | 3.063720810413358  |  2   |\n",
      "|   19750    |     34    | 3.0353309422973695 |  3   |\n",
      "|   19750    |     0     | 2.9806201550387583 |  4   |\n",
      "|   19750    |     27    | 2.8944187629879927 |  5   |\n",
      "|   19750    |    248    | 2.8787891257376903 |  6   |\n",
      "|   19750    |     3     | 2.756094566980999  |  7   |\n",
      "|   19750    |    110    | 2.700971588869203  |  8   |\n",
      "|   19750    |     10    | 2.6553846153846155 |  9   |\n",
      "|   19750    |    230    | 2.6518518518518523 |  10  |\n",
      "+------------+-----------+--------------------+------+\n",
      "[10000 rows x 4 columns]\n",
      "\n"
     ]
    }
   ],
   "source": [
    "# i. PEARSON similarity using purchase count\n",
    "\n",
    "name = 'pearson'\n",
    "target = 'purchase_count'\n",
    "pear = model(train_data, name, user_id, item_id, target, users_to_recommend, n_rec, n_display)"
   ]
  },
  {
   "cell_type": "code",
   "execution_count": 96,
   "metadata": {},
   "outputs": [
    {
     "data": {
      "text/html": [
       "<pre>Warning: Ignoring columns purchase_count;</pre>"
      ],
      "text/plain": [
       "Warning: Ignoring columns purchase_count;"
      ]
     },
     "metadata": {},
     "output_type": "display_data"
    },
    {
     "data": {
      "text/html": [
       "<pre>    To use these columns in scoring predictions, use a model that allows the use of additional features.</pre>"
      ],
      "text/plain": [
       "    To use these columns in scoring predictions, use a model that allows the use of additional features."
      ]
     },
     "metadata": {},
     "output_type": "display_data"
    },
    {
     "data": {
      "text/html": [
       "<pre>Preparing data set.</pre>"
      ],
      "text/plain": [
       "Preparing data set."
      ]
     },
     "metadata": {},
     "output_type": "display_data"
    },
    {
     "data": {
      "text/html": [
       "<pre>    Data has 106868 observations with 23274 users and 300 items.</pre>"
      ],
      "text/plain": [
       "    Data has 106868 observations with 23274 users and 300 items."
      ]
     },
     "metadata": {},
     "output_type": "display_data"
    },
    {
     "data": {
      "text/html": [
       "<pre>    Data prepared in: 0.175854s</pre>"
      ],
      "text/plain": [
       "    Data prepared in: 0.175854s"
      ]
     },
     "metadata": {},
     "output_type": "display_data"
    },
    {
     "data": {
      "text/html": [
       "<pre>Training model from provided data.</pre>"
      ],
      "text/plain": [
       "Training model from provided data."
      ]
     },
     "metadata": {},
     "output_type": "display_data"
    },
    {
     "data": {
      "text/html": [
       "<pre>Gathering per-item and per-user statistics.</pre>"
      ],
      "text/plain": [
       "Gathering per-item and per-user statistics."
      ]
     },
     "metadata": {},
     "output_type": "display_data"
    },
    {
     "data": {
      "text/html": [
       "<pre>+--------------------------------+------------+</pre>"
      ],
      "text/plain": [
       "+--------------------------------+------------+"
      ]
     },
     "metadata": {},
     "output_type": "display_data"
    },
    {
     "data": {
      "text/html": [
       "<pre>| Elapsed Time (Item Statistics) | % Complete |</pre>"
      ],
      "text/plain": [
       "| Elapsed Time (Item Statistics) | % Complete |"
      ]
     },
     "metadata": {},
     "output_type": "display_data"
    },
    {
     "data": {
      "text/html": [
       "<pre>+--------------------------------+------------+</pre>"
      ],
      "text/plain": [
       "+--------------------------------+------------+"
      ]
     },
     "metadata": {},
     "output_type": "display_data"
    },
    {
     "data": {
      "text/html": [
       "<pre>| 14.217ms                       | 4.25       |</pre>"
      ],
      "text/plain": [
       "| 14.217ms                       | 4.25       |"
      ]
     },
     "metadata": {},
     "output_type": "display_data"
    },
    {
     "data": {
      "text/html": [
       "<pre>| 22.314ms                       | 100        |</pre>"
      ],
      "text/plain": [
       "| 22.314ms                       | 100        |"
      ]
     },
     "metadata": {},
     "output_type": "display_data"
    },
    {
     "data": {
      "text/html": [
       "<pre>+--------------------------------+------------+</pre>"
      ],
      "text/plain": [
       "+--------------------------------+------------+"
      ]
     },
     "metadata": {},
     "output_type": "display_data"
    },
    {
     "data": {
      "text/html": [
       "<pre>Setting up lookup tables.</pre>"
      ],
      "text/plain": [
       "Setting up lookup tables."
      ]
     },
     "metadata": {},
     "output_type": "display_data"
    },
    {
     "data": {
      "text/html": [
       "<pre>Processing data in one pass using dense lookup tables.</pre>"
      ],
      "text/plain": [
       "Processing data in one pass using dense lookup tables."
      ]
     },
     "metadata": {},
     "output_type": "display_data"
    },
    {
     "data": {
      "text/html": [
       "<pre>+-------------------------------------+------------------+-----------------+</pre>"
      ],
      "text/plain": [
       "+-------------------------------------+------------------+-----------------+"
      ]
     },
     "metadata": {},
     "output_type": "display_data"
    },
    {
     "data": {
      "text/html": [
       "<pre>| Elapsed Time (Constructing Lookups) | Total % Complete | Items Processed |</pre>"
      ],
      "text/plain": [
       "| Elapsed Time (Constructing Lookups) | Total % Complete | Items Processed |"
      ]
     },
     "metadata": {},
     "output_type": "display_data"
    },
    {
     "data": {
      "text/html": [
       "<pre>+-------------------------------------+------------------+-----------------+</pre>"
      ],
      "text/plain": [
       "+-------------------------------------+------------------+-----------------+"
      ]
     },
     "metadata": {},
     "output_type": "display_data"
    },
    {
     "data": {
      "text/html": [
       "<pre>| 24.196ms                            | 0                | 0               |</pre>"
      ],
      "text/plain": [
       "| 24.196ms                            | 0                | 0               |"
      ]
     },
     "metadata": {},
     "output_type": "display_data"
    },
    {
     "data": {
      "text/html": [
       "<pre>| 50.229ms                            | 100              | 300             |</pre>"
      ],
      "text/plain": [
       "| 50.229ms                            | 100              | 300             |"
      ]
     },
     "metadata": {},
     "output_type": "display_data"
    },
    {
     "data": {
      "text/html": [
       "<pre>+-------------------------------------+------------------+-----------------+</pre>"
      ],
      "text/plain": [
       "+-------------------------------------+------------------+-----------------+"
      ]
     },
     "metadata": {},
     "output_type": "display_data"
    },
    {
     "data": {
      "text/html": [
       "<pre>Finalizing lookup tables.</pre>"
      ],
      "text/plain": [
       "Finalizing lookup tables."
      ]
     },
     "metadata": {},
     "output_type": "display_data"
    },
    {
     "data": {
      "text/html": [
       "<pre>Generating candidate set for working with new users.</pre>"
      ],
      "text/plain": [
       "Generating candidate set for working with new users."
      ]
     },
     "metadata": {},
     "output_type": "display_data"
    },
    {
     "data": {
      "text/html": [
       "<pre>Finished training in 0.066054s</pre>"
      ],
      "text/plain": [
       "Finished training in 0.066054s"
      ]
     },
     "metadata": {},
     "output_type": "display_data"
    },
    {
     "data": {
      "text/html": [
       "<pre>recommendations finished on 1000/1000 queries. users per second: 58958.8</pre>"
      ],
      "text/plain": [
       "recommendations finished on 1000/1000 queries. users per second: 58958.8"
      ]
     },
     "metadata": {},
     "output_type": "display_data"
    },
    {
     "name": "stdout",
     "output_type": "stream",
     "text": [
      "+------------+-----------+-------+------+\n",
      "| customerId | productId | score | rank |\n",
      "+------------+-----------+-------+------+\n",
      "|    1553    |     47    |  0.0  |  1   |\n",
      "|    1553    |    126    |  0.0  |  2   |\n",
      "|    1553    |    146    |  0.0  |  3   |\n",
      "|    1553    |    122    |  0.0  |  4   |\n",
      "|    1553    |     1     |  0.0  |  5   |\n",
      "|    1553    |    172    |  0.0  |  6   |\n",
      "|    1553    |     34    |  0.0  |  7   |\n",
      "|    1553    |     29    |  0.0  |  8   |\n",
      "|    1553    |     57    |  0.0  |  9   |\n",
      "|    1553    |     37    |  0.0  |  10  |\n",
      "|   20400    |     14    |  0.0  |  1   |\n",
      "|   20400    |    126    |  0.0  |  2   |\n",
      "|   20400    |    146    |  0.0  |  3   |\n",
      "|   20400    |    122    |  0.0  |  4   |\n",
      "|   20400    |     1     |  0.0  |  5   |\n",
      "|   20400    |    172    |  0.0  |  6   |\n",
      "|   20400    |     34    |  0.0  |  7   |\n",
      "|   20400    |     29    |  0.0  |  8   |\n",
      "|   20400    |     57    |  0.0  |  9   |\n",
      "|   20400    |     37    |  0.0  |  10  |\n",
      "|   19750    |     14    |  0.0  |  1   |\n",
      "|   19750    |    126    |  0.0  |  2   |\n",
      "|   19750    |    146    |  0.0  |  3   |\n",
      "|   19750    |    122    |  0.0  |  4   |\n",
      "|   19750    |     1     |  0.0  |  5   |\n",
      "|   19750    |    172    |  0.0  |  6   |\n",
      "|   19750    |     34    |  0.0  |  7   |\n",
      "|   19750    |     29    |  0.0  |  8   |\n",
      "|   19750    |     57    |  0.0  |  9   |\n",
      "|   19750    |     37    |  0.0  |  10  |\n",
      "+------------+-----------+-------+------+\n",
      "[10000 rows x 4 columns]\n",
      "\n"
     ]
    }
   ],
   "source": [
    "# iii. PEARSON similarity using purchase dummy\n",
    "\n",
    "name = 'pearson'\n",
    "target = 'purchase_dummy'\n",
    "pear_dummy = model(train_data_dummy, name, user_id, item_id, target, users_to_recommend, n_rec, n_display)"
   ]
  },
  {
   "cell_type": "code",
   "execution_count": 97,
   "metadata": {},
   "outputs": [
    {
     "data": {
      "text/html": [
       "<pre>Preparing data set.</pre>"
      ],
      "text/plain": [
       "Preparing data set."
      ]
     },
     "metadata": {},
     "output_type": "display_data"
    },
    {
     "data": {
      "text/html": [
       "<pre>    Data has 106868 observations with 23271 users and 300 items.</pre>"
      ],
      "text/plain": [
       "    Data has 106868 observations with 23271 users and 300 items."
      ]
     },
     "metadata": {},
     "output_type": "display_data"
    },
    {
     "data": {
      "text/html": [
       "<pre>    Data prepared in: 0.191729s</pre>"
      ],
      "text/plain": [
       "    Data prepared in: 0.191729s"
      ]
     },
     "metadata": {},
     "output_type": "display_data"
    },
    {
     "data": {
      "text/html": [
       "<pre>Training model from provided data.</pre>"
      ],
      "text/plain": [
       "Training model from provided data."
      ]
     },
     "metadata": {},
     "output_type": "display_data"
    },
    {
     "data": {
      "text/html": [
       "<pre>Gathering per-item and per-user statistics.</pre>"
      ],
      "text/plain": [
       "Gathering per-item and per-user statistics."
      ]
     },
     "metadata": {},
     "output_type": "display_data"
    },
    {
     "data": {
      "text/html": [
       "<pre>+--------------------------------+------------+</pre>"
      ],
      "text/plain": [
       "+--------------------------------+------------+"
      ]
     },
     "metadata": {},
     "output_type": "display_data"
    },
    {
     "data": {
      "text/html": [
       "<pre>| Elapsed Time (Item Statistics) | % Complete |</pre>"
      ],
      "text/plain": [
       "| Elapsed Time (Item Statistics) | % Complete |"
      ]
     },
     "metadata": {},
     "output_type": "display_data"
    },
    {
     "data": {
      "text/html": [
       "<pre>+--------------------------------+------------+</pre>"
      ],
      "text/plain": [
       "+--------------------------------+------------+"
      ]
     },
     "metadata": {},
     "output_type": "display_data"
    },
    {
     "data": {
      "text/html": [
       "<pre>| 1.547ms                        | 4.25       |</pre>"
      ],
      "text/plain": [
       "| 1.547ms                        | 4.25       |"
      ]
     },
     "metadata": {},
     "output_type": "display_data"
    },
    {
     "data": {
      "text/html": [
       "<pre>| 31.283ms                       | 100        |</pre>"
      ],
      "text/plain": [
       "| 31.283ms                       | 100        |"
      ]
     },
     "metadata": {},
     "output_type": "display_data"
    },
    {
     "data": {
      "text/html": [
       "<pre>+--------------------------------+------------+</pre>"
      ],
      "text/plain": [
       "+--------------------------------+------------+"
      ]
     },
     "metadata": {},
     "output_type": "display_data"
    },
    {
     "data": {
      "text/html": [
       "<pre>Setting up lookup tables.</pre>"
      ],
      "text/plain": [
       "Setting up lookup tables."
      ]
     },
     "metadata": {},
     "output_type": "display_data"
    },
    {
     "data": {
      "text/html": [
       "<pre>Processing data in one pass using dense lookup tables.</pre>"
      ],
      "text/plain": [
       "Processing data in one pass using dense lookup tables."
      ]
     },
     "metadata": {},
     "output_type": "display_data"
    },
    {
     "data": {
      "text/html": [
       "<pre>+-------------------------------------+------------------+-----------------+</pre>"
      ],
      "text/plain": [
       "+-------------------------------------+------------------+-----------------+"
      ]
     },
     "metadata": {},
     "output_type": "display_data"
    },
    {
     "data": {
      "text/html": [
       "<pre>| Elapsed Time (Constructing Lookups) | Total % Complete | Items Processed |</pre>"
      ],
      "text/plain": [
       "| Elapsed Time (Constructing Lookups) | Total % Complete | Items Processed |"
      ]
     },
     "metadata": {},
     "output_type": "display_data"
    },
    {
     "data": {
      "text/html": [
       "<pre>+-------------------------------------+------------------+-----------------+</pre>"
      ],
      "text/plain": [
       "+-------------------------------------+------------------+-----------------+"
      ]
     },
     "metadata": {},
     "output_type": "display_data"
    },
    {
     "data": {
      "text/html": [
       "<pre>| 32.345ms                            | 0                | 0               |</pre>"
      ],
      "text/plain": [
       "| 32.345ms                            | 0                | 0               |"
      ]
     },
     "metadata": {},
     "output_type": "display_data"
    },
    {
     "data": {
      "text/html": [
       "<pre>| 72.684ms                            | 100              | 300             |</pre>"
      ],
      "text/plain": [
       "| 72.684ms                            | 100              | 300             |"
      ]
     },
     "metadata": {},
     "output_type": "display_data"
    },
    {
     "data": {
      "text/html": [
       "<pre>+-------------------------------------+------------------+-----------------+</pre>"
      ],
      "text/plain": [
       "+-------------------------------------+------------------+-----------------+"
      ]
     },
     "metadata": {},
     "output_type": "display_data"
    },
    {
     "data": {
      "text/html": [
       "<pre>Finalizing lookup tables.</pre>"
      ],
      "text/plain": [
       "Finalizing lookup tables."
      ]
     },
     "metadata": {},
     "output_type": "display_data"
    },
    {
     "data": {
      "text/html": [
       "<pre>Generating candidate set for working with new users.</pre>"
      ],
      "text/plain": [
       "Generating candidate set for working with new users."
      ]
     },
     "metadata": {},
     "output_type": "display_data"
    },
    {
     "data": {
      "text/html": [
       "<pre>Finished training in 0.099776s</pre>"
      ],
      "text/plain": [
       "Finished training in 0.099776s"
      ]
     },
     "metadata": {},
     "output_type": "display_data"
    },
    {
     "data": {
      "text/html": [
       "<pre>recommendations finished on 1000/1000 queries. users per second: 46696.2</pre>"
      ],
      "text/plain": [
       "recommendations finished on 1000/1000 queries. users per second: 46696.2"
      ]
     },
     "metadata": {},
     "output_type": "display_data"
    },
    {
     "name": "stdout",
     "output_type": "stream",
     "text": [
      "+------------+-----------+---------------------+------+\n",
      "| customerId | productId |        score        | rank |\n",
      "+------------+-----------+---------------------+------+\n",
      "|    1553    |    226    |  0.7361111111111114 |  1   |\n",
      "|    1553    |    247    |  0.3438320209973752 |  2   |\n",
      "|    1553    |    230    | 0.33142941386611374 |  3   |\n",
      "|    1553    |    125    | 0.25915108121674635 |  4   |\n",
      "|    1553    |    248    |  0.2527777777777778 |  5   |\n",
      "|    1553    |    276    | 0.24615384615384608 |  6   |\n",
      "|    1553    |    294    | 0.24409355143554332 |  7   |\n",
      "|    1553    |     83    |  0.2385057471264369 |  8   |\n",
      "|    1553    |     72    | 0.23091834235045083 |  9   |\n",
      "|    1553    |    204    | 0.22891566265060243 |  10  |\n",
      "|   20400    |    226    |  0.7360998541778991 |  1   |\n",
      "|   20400    |    247    |  0.3438276329034268 |  2   |\n",
      "|   20400    |    230    |  0.3318420707296442 |  3   |\n",
      "|   20400    |    125    |  0.2593046621207533 |  4   |\n",
      "|   20400    |    248    | 0.25276674018965833 |  5   |\n",
      "|   20400    |    276    | 0.24613390482389003 |  6   |\n",
      "|   20400    |    294    | 0.24425116161353708 |  7   |\n",
      "|   20400    |     83    |  0.2384839389790065 |  8   |\n",
      "|   20400    |     72    | 0.23103400436890886 |  9   |\n",
      "|   20400    |    204    |  0.2289057217879468 |  10  |\n",
      "|   19750    |    226    |  0.7359394696023732 |  1   |\n",
      "|   19750    |    230    | 0.33185185185185184 |  2   |\n",
      "|   19750    |    125    | 0.25897472100696345 |  3   |\n",
      "|   19750    |    248    | 0.25268842048115203 |  4   |\n",
      "|   19750    |    276    |  0.245838080614041  |  5   |\n",
      "|   19750    |    294    | 0.24427480916030528 |  6   |\n",
      "|   19750    |     83    | 0.23836014291335808 |  7   |\n",
      "|   19750    |     72    | 0.23081061688912677 |  8   |\n",
      "|   19750    |    204    |  0.2287278682831301 |  9   |\n",
      "|   19750    |    155    |  0.2267630270157738 |  10  |\n",
      "+------------+-----------+---------------------+------+\n",
      "[10000 rows x 4 columns]\n",
      "\n"
     ]
    }
   ],
   "source": [
    "# iii. PEARSON similarity using scaled purchase count\n",
    "\n",
    "name = 'pearson'\n",
    "target = 'scaled_purchase_freq'\n",
    "pear_norm = model(train_data_norm, name, user_id, item_id, target, users_to_recommend, n_rec, n_display)\n"
   ]
  },
  {
   "cell_type": "markdown",
   "metadata": {},
   "source": [
    "### Model Evaluation\n",
    "For evaluating recommendation engines, we can use the concept of RMSE and precision-recall.\n",
    "\n",
    "RMSE (Root Mean Squared Errors) - Measures the error of predicted values\n",
    "\n",
    "Recall - What percentage of products that a user buys are actually recommended?\n",
    "\n",
    "Precision - Out of all the recommended items, how many the user actually liked?"
   ]
  },
  {
   "cell_type": "code",
   "execution_count": 101,
   "metadata": {},
   "outputs": [],
   "source": [
    "models_w_counts = [popularity, cos, pear]\n",
    "models_w_dummy = [pop_dummy, cos_dummy, pear_dummy]\n",
    "models_w_norm = [pop_norm, cos_norm, pear_norm]\n",
    "names_w_counts = ['Popularity Model on Purchase Counts', 'Cosine Similarity on Purchase Counts', 'Pearson Similarity on Purchase Counts']\n",
    "names_w_dummy = ['Popularity Model on Purchase Dummy', 'Cosine Similarity on Purchase Dummy', 'Pearson Similarity on Purchase Dummy']\n",
    "names_w_norm = ['Popularity Model on Scaled Purchase Counts', 'Cosine Similarity on Scaled Purchase Counts', 'Pearson Similarity on Scaled Purchase Counts']"
   ]
  },
  {
   "cell_type": "code",
   "execution_count": 103,
   "metadata": {},
   "outputs": [
    {
     "name": "stdout",
     "output_type": "stream",
     "text": [
      "PROGRESS: Evaluate model Popularity Model on Purchase Counts\n"
     ]
    },
    {
     "data": {
      "text/html": [
       "<pre>recommendations finished on 1000/13872 queries. users per second: 60197.4</pre>"
      ],
      "text/plain": [
       "recommendations finished on 1000/13872 queries. users per second: 60197.4"
      ]
     },
     "metadata": {},
     "output_type": "display_data"
    },
    {
     "data": {
      "text/html": [
       "<pre>recommendations finished on 2000/13872 queries. users per second: 71764.3</pre>"
      ],
      "text/plain": [
       "recommendations finished on 2000/13872 queries. users per second: 71764.3"
      ]
     },
     "metadata": {},
     "output_type": "display_data"
    },
    {
     "data": {
      "text/html": [
       "<pre>recommendations finished on 3000/13872 queries. users per second: 70972.3</pre>"
      ],
      "text/plain": [
       "recommendations finished on 3000/13872 queries. users per second: 70972.3"
      ]
     },
     "metadata": {},
     "output_type": "display_data"
    },
    {
     "data": {
      "text/html": [
       "<pre>recommendations finished on 4000/13872 queries. users per second: 78073.2</pre>"
      ],
      "text/plain": [
       "recommendations finished on 4000/13872 queries. users per second: 78073.2"
      ]
     },
     "metadata": {},
     "output_type": "display_data"
    },
    {
     "data": {
      "text/html": [
       "<pre>recommendations finished on 5000/13872 queries. users per second: 81914.8</pre>"
      ],
      "text/plain": [
       "recommendations finished on 5000/13872 queries. users per second: 81914.8"
      ]
     },
     "metadata": {},
     "output_type": "display_data"
    },
    {
     "data": {
      "text/html": [
       "<pre>recommendations finished on 6000/13872 queries. users per second: 69149.9</pre>"
      ],
      "text/plain": [
       "recommendations finished on 6000/13872 queries. users per second: 69149.9"
      ]
     },
     "metadata": {},
     "output_type": "display_data"
    },
    {
     "data": {
      "text/html": [
       "<pre>recommendations finished on 7000/13872 queries. users per second: 71310</pre>"
      ],
      "text/plain": [
       "recommendations finished on 7000/13872 queries. users per second: 71310"
      ]
     },
     "metadata": {},
     "output_type": "display_data"
    },
    {
     "data": {
      "text/html": [
       "<pre>recommendations finished on 8000/13872 queries. users per second: 73213.8</pre>"
      ],
      "text/plain": [
       "recommendations finished on 8000/13872 queries. users per second: 73213.8"
      ]
     },
     "metadata": {},
     "output_type": "display_data"
    },
    {
     "data": {
      "text/html": [
       "<pre>recommendations finished on 9000/13872 queries. users per second: 73522.2</pre>"
      ],
      "text/plain": [
       "recommendations finished on 9000/13872 queries. users per second: 73522.2"
      ]
     },
     "metadata": {},
     "output_type": "display_data"
    },
    {
     "data": {
      "text/html": [
       "<pre>recommendations finished on 10000/13872 queries. users per second: 73467.8</pre>"
      ],
      "text/plain": [
       "recommendations finished on 10000/13872 queries. users per second: 73467.8"
      ]
     },
     "metadata": {},
     "output_type": "display_data"
    },
    {
     "data": {
      "text/html": [
       "<pre>recommendations finished on 11000/13872 queries. users per second: 62928.7</pre>"
      ],
      "text/plain": [
       "recommendations finished on 11000/13872 queries. users per second: 62928.7"
      ]
     },
     "metadata": {},
     "output_type": "display_data"
    },
    {
     "data": {
      "text/html": [
       "<pre>recommendations finished on 12000/13872 queries. users per second: 58457.3</pre>"
      ],
      "text/plain": [
       "recommendations finished on 12000/13872 queries. users per second: 58457.3"
      ]
     },
     "metadata": {},
     "output_type": "display_data"
    },
    {
     "data": {
      "text/html": [
       "<pre>recommendations finished on 13000/13872 queries. users per second: 60157.9</pre>"
      ],
      "text/plain": [
       "recommendations finished on 13000/13872 queries. users per second: 60157.9"
      ]
     },
     "metadata": {},
     "output_type": "display_data"
    },
    {
     "name": "stdout",
     "output_type": "stream",
     "text": [
      "\n",
      "Precision and recall summary statistics by cutoff\n",
      "+--------+-----------------------+-----------------------+\n",
      "| cutoff |     mean_precision    |      mean_recall      |\n",
      "+--------+-----------------------+-----------------------+\n",
      "|   1    | 0.0013696655132641297 | 0.0008614475201845439 |\n",
      "|   2    | 0.0035322952710496198 |  0.003770717523335437 |\n",
      "|   3    |  0.004060938100730498 |  0.006154516002505907 |\n",
      "|   4    |  0.007857554786620561 |  0.017218489274524202 |\n",
      "|   5    |  0.006862745098039233 |  0.018653663017223814 |\n",
      "|   6    |  0.005971261053440989 |  0.019327991572175185 |\n",
      "|   7    |  0.006220135112868704 |  0.02370657307013393  |\n",
      "|   8    | 0.0058931660899654145 |  0.02556725984107153  |\n",
      "|   9    |  0.005919197744457262 |  0.029243329942314763 |\n",
      "|   10   | 0.0056084198385236645 |  0.031085856168491247 |\n",
      "+--------+-----------------------+-----------------------+\n",
      "[10 rows x 3 columns]\n",
      "\n",
      "\n",
      "Overall RMSE: 1.0443758220475765\n",
      "\n",
      "Per User RMSE (best)\n",
      "+------------+----------------------+-------+\n",
      "| customerId |         rmse         | count |\n",
      "+------------+----------------------+-------+\n",
      "|   15809    | 0.004385964912280826 |   1   |\n",
      "+------------+----------------------+-------+\n",
      "[1 rows x 3 columns]\n",
      "\n",
      "\n",
      "Per User RMSE (worst)\n",
      "+------------+-------------------+-------+\n",
      "| customerId |        rmse       | count |\n",
      "+------------+-------------------+-------+\n",
      "|    767     | 20.74390243902439 |   1   |\n",
      "+------------+-------------------+-------+\n",
      "[1 rows x 3 columns]\n",
      "\n",
      "\n",
      "Per Item RMSE (best)\n",
      "+-----------+---------------------+-------+\n",
      "| productId |         rmse        | count |\n",
      "+-----------+---------------------+-------+\n",
      "|    166    | 0.13348052071178526 |   87  |\n",
      "+-----------+---------------------+-------+\n",
      "[1 rows x 3 columns]\n",
      "\n",
      "\n",
      "Per Item RMSE (worst)\n",
      "+-----------+-------------------+-------+\n",
      "| productId |        rmse       | count |\n",
      "+-----------+-------------------+-------+\n",
      "|    245    | 4.198398454979811 |   24  |\n",
      "+-----------+-------------------+-------+\n",
      "[1 rows x 3 columns]\n",
      "\n",
      "PROGRESS: Evaluate model Cosine Similarity on Purchase Counts\n"
     ]
    },
    {
     "data": {
      "text/html": [
       "<pre>recommendations finished on 1000/13872 queries. users per second: 26297.1</pre>"
      ],
      "text/plain": [
       "recommendations finished on 1000/13872 queries. users per second: 26297.1"
      ]
     },
     "metadata": {},
     "output_type": "display_data"
    },
    {
     "data": {
      "text/html": [
       "<pre>recommendations finished on 2000/13872 queries. users per second: 29420</pre>"
      ],
      "text/plain": [
       "recommendations finished on 2000/13872 queries. users per second: 29420"
      ]
     },
     "metadata": {},
     "output_type": "display_data"
    },
    {
     "data": {
      "text/html": [
       "<pre>recommendations finished on 3000/13872 queries. users per second: 29897.2</pre>"
      ],
      "text/plain": [
       "recommendations finished on 3000/13872 queries. users per second: 29897.2"
      ]
     },
     "metadata": {},
     "output_type": "display_data"
    },
    {
     "data": {
      "text/html": [
       "<pre>recommendations finished on 4000/13872 queries. users per second: 32963.6</pre>"
      ],
      "text/plain": [
       "recommendations finished on 4000/13872 queries. users per second: 32963.6"
      ]
     },
     "metadata": {},
     "output_type": "display_data"
    },
    {
     "data": {
      "text/html": [
       "<pre>recommendations finished on 5000/13872 queries. users per second: 34878.7</pre>"
      ],
      "text/plain": [
       "recommendations finished on 5000/13872 queries. users per second: 34878.7"
      ]
     },
     "metadata": {},
     "output_type": "display_data"
    },
    {
     "data": {
      "text/html": [
       "<pre>recommendations finished on 6000/13872 queries. users per second: 34941</pre>"
      ],
      "text/plain": [
       "recommendations finished on 6000/13872 queries. users per second: 34941"
      ]
     },
     "metadata": {},
     "output_type": "display_data"
    },
    {
     "data": {
      "text/html": [
       "<pre>recommendations finished on 7000/13872 queries. users per second: 37451.2</pre>"
      ],
      "text/plain": [
       "recommendations finished on 7000/13872 queries. users per second: 37451.2"
      ]
     },
     "metadata": {},
     "output_type": "display_data"
    },
    {
     "data": {
      "text/html": [
       "<pre>recommendations finished on 8000/13872 queries. users per second: 38713.2</pre>"
      ],
      "text/plain": [
       "recommendations finished on 8000/13872 queries. users per second: 38713.2"
      ]
     },
     "metadata": {},
     "output_type": "display_data"
    },
    {
     "data": {
      "text/html": [
       "<pre>recommendations finished on 9000/13872 queries. users per second: 40251</pre>"
      ],
      "text/plain": [
       "recommendations finished on 9000/13872 queries. users per second: 40251"
      ]
     },
     "metadata": {},
     "output_type": "display_data"
    },
    {
     "data": {
      "text/html": [
       "<pre>recommendations finished on 10000/13872 queries. users per second: 40581.9</pre>"
      ],
      "text/plain": [
       "recommendations finished on 10000/13872 queries. users per second: 40581.9"
      ]
     },
     "metadata": {},
     "output_type": "display_data"
    },
    {
     "data": {
      "text/html": [
       "<pre>recommendations finished on 11000/13872 queries. users per second: 40876.1</pre>"
      ],
      "text/plain": [
       "recommendations finished on 11000/13872 queries. users per second: 40876.1"
      ]
     },
     "metadata": {},
     "output_type": "display_data"
    },
    {
     "data": {
      "text/html": [
       "<pre>recommendations finished on 12000/13872 queries. users per second: 39682.1</pre>"
      ],
      "text/plain": [
       "recommendations finished on 12000/13872 queries. users per second: 39682.1"
      ]
     },
     "metadata": {},
     "output_type": "display_data"
    },
    {
     "data": {
      "text/html": [
       "<pre>recommendations finished on 13000/13872 queries. users per second: 40728</pre>"
      ],
      "text/plain": [
       "recommendations finished on 13000/13872 queries. users per second: 40728"
      ]
     },
     "metadata": {},
     "output_type": "display_data"
    },
    {
     "name": "stdout",
     "output_type": "stream",
     "text": [
      "\n",
      "Precision and recall summary statistics by cutoff\n",
      "+--------+----------------------+---------------------+\n",
      "| cutoff |    mean_precision    |     mean_recall     |\n",
      "+--------+----------------------+---------------------+\n",
      "|   1    | 0.11483564013840804  |  0.0661707046357781 |\n",
      "|   2    | 0.09443483275663177  | 0.10750569345670986 |\n",
      "|   3    |  0.0795367166474432  | 0.13395848290582346 |\n",
      "|   4    |  0.0692942618223762  | 0.15317101497518903 |\n",
      "|   5    | 0.06208189158016154  | 0.17158664942564206 |\n",
      "|   6    | 0.05667291426374469  | 0.18678929976453676 |\n",
      "|   7    | 0.05216057011039717  | 0.19967243645111424 |\n",
      "|   8    |  0.0483077422145327  | 0.21065842948457636 |\n",
      "|   9    | 0.045439254133025665 | 0.22248450559752594 |\n",
      "|   10   | 0.04261822376009228  |  0.2309134447979826 |\n",
      "+--------+----------------------+---------------------+\n",
      "[10 rows x 3 columns]\n",
      "\n",
      "\n",
      "Overall RMSE: 1.8918169620472374\n",
      "\n",
      "Per User RMSE (best)\n",
      "+------------+--------------------+-------+\n",
      "| customerId |        rmse        | count |\n",
      "+------------+--------------------+-------+\n",
      "|    6008    | 0.4306353032588959 |   1   |\n",
      "+------------+--------------------+-------+\n",
      "[1 rows x 3 columns]\n",
      "\n",
      "\n",
      "Per User RMSE (worst)\n",
      "+------------+-------------------+-------+\n",
      "| customerId |        rmse       | count |\n",
      "+------------+-------------------+-------+\n",
      "|    767     | 22.93079572916031 |   1   |\n",
      "+------------+-------------------+-------+\n",
      "[1 rows x 3 columns]\n",
      "\n",
      "\n",
      "Per Item RMSE (best)\n",
      "+-----------+--------------------+-------+\n",
      "| productId |        rmse        | count |\n",
      "+-----------+--------------------+-------+\n",
      "|    166    | 0.9990289956421071 |   87  |\n",
      "+-----------+--------------------+-------+\n",
      "[1 rows x 3 columns]\n",
      "\n",
      "\n",
      "Per Item RMSE (worst)\n",
      "+-----------+-------------------+-------+\n",
      "| productId |        rmse       | count |\n",
      "+-----------+-------------------+-------+\n",
      "|    245    | 5.112281350163638 |   24  |\n",
      "+-----------+-------------------+-------+\n",
      "[1 rows x 3 columns]\n",
      "\n",
      "PROGRESS: Evaluate model Pearson Similarity on Purchase Counts\n"
     ]
    },
    {
     "data": {
      "text/html": [
       "<pre>recommendations finished on 1000/13872 queries. users per second: 39995.2</pre>"
      ],
      "text/plain": [
       "recommendations finished on 1000/13872 queries. users per second: 39995.2"
      ]
     },
     "metadata": {},
     "output_type": "display_data"
    },
    {
     "data": {
      "text/html": [
       "<pre>recommendations finished on 2000/13872 queries. users per second: 46257.7</pre>"
      ],
      "text/plain": [
       "recommendations finished on 2000/13872 queries. users per second: 46257.7"
      ]
     },
     "metadata": {},
     "output_type": "display_data"
    },
    {
     "data": {
      "text/html": [
       "<pre>recommendations finished on 3000/13872 queries. users per second: 43662.4</pre>"
      ],
      "text/plain": [
       "recommendations finished on 3000/13872 queries. users per second: 43662.4"
      ]
     },
     "metadata": {},
     "output_type": "display_data"
    },
    {
     "data": {
      "text/html": [
       "<pre>recommendations finished on 4000/13872 queries. users per second: 41292</pre>"
      ],
      "text/plain": [
       "recommendations finished on 4000/13872 queries. users per second: 41292"
      ]
     },
     "metadata": {},
     "output_type": "display_data"
    },
    {
     "data": {
      "text/html": [
       "<pre>recommendations finished on 5000/13872 queries. users per second: 41321.6</pre>"
      ],
      "text/plain": [
       "recommendations finished on 5000/13872 queries. users per second: 41321.6"
      ]
     },
     "metadata": {},
     "output_type": "display_data"
    },
    {
     "data": {
      "text/html": [
       "<pre>recommendations finished on 6000/13872 queries. users per second: 39343</pre>"
      ],
      "text/plain": [
       "recommendations finished on 6000/13872 queries. users per second: 39343"
      ]
     },
     "metadata": {},
     "output_type": "display_data"
    },
    {
     "data": {
      "text/html": [
       "<pre>recommendations finished on 7000/13872 queries. users per second: 39744</pre>"
      ],
      "text/plain": [
       "recommendations finished on 7000/13872 queries. users per second: 39744"
      ]
     },
     "metadata": {},
     "output_type": "display_data"
    },
    {
     "data": {
      "text/html": [
       "<pre>recommendations finished on 8000/13872 queries. users per second: 40476.6</pre>"
      ],
      "text/plain": [
       "recommendations finished on 8000/13872 queries. users per second: 40476.6"
      ]
     },
     "metadata": {},
     "output_type": "display_data"
    },
    {
     "data": {
      "text/html": [
       "<pre>recommendations finished on 9000/13872 queries. users per second: 41383.9</pre>"
      ],
      "text/plain": [
       "recommendations finished on 9000/13872 queries. users per second: 41383.9"
      ]
     },
     "metadata": {},
     "output_type": "display_data"
    },
    {
     "data": {
      "text/html": [
       "<pre>recommendations finished on 10000/13872 queries. users per second: 42306</pre>"
      ],
      "text/plain": [
       "recommendations finished on 10000/13872 queries. users per second: 42306"
      ]
     },
     "metadata": {},
     "output_type": "display_data"
    },
    {
     "data": {
      "text/html": [
       "<pre>recommendations finished on 11000/13872 queries. users per second: 42811.6</pre>"
      ],
      "text/plain": [
       "recommendations finished on 11000/13872 queries. users per second: 42811.6"
      ]
     },
     "metadata": {},
     "output_type": "display_data"
    },
    {
     "data": {
      "text/html": [
       "<pre>recommendations finished on 12000/13872 queries. users per second: 39523.2</pre>"
      ],
      "text/plain": [
       "recommendations finished on 12000/13872 queries. users per second: 39523.2"
      ]
     },
     "metadata": {},
     "output_type": "display_data"
    },
    {
     "data": {
      "text/html": [
       "<pre>recommendations finished on 13000/13872 queries. users per second: 40562</pre>"
      ],
      "text/plain": [
       "recommendations finished on 13000/13872 queries. users per second: 40562"
      ]
     },
     "metadata": {},
     "output_type": "display_data"
    },
    {
     "name": "stdout",
     "output_type": "stream",
     "text": [
      "\n",
      "Precision and recall summary statistics by cutoff\n",
      "+--------+-----------------------+-----------------------+\n",
      "| cutoff |     mean_precision    |      mean_recall      |\n",
      "+--------+-----------------------+-----------------------+\n",
      "|   1    |  0.001369665513264124 | 0.0008614475201845454 |\n",
      "|   2    | 0.0034962514417531745 |  0.003760419286393593 |\n",
      "|   3    |  0.00403690888119956  |  0.006136956188233271 |\n",
      "|   4    |  0.007875576701268767 |  0.017242518494055167 |\n",
      "|   5    |  0.006862745098039186 |  0.018653663017223824 |\n",
      "|   6    |  0.005983275663206441 |  0.01935202079170619  |\n",
      "|   7    |  0.006240731586752391 |  0.023718587679899383 |\n",
      "|   8    |  0.005911188004613631 |  0.025615318280133553 |\n",
      "|   9    |  0.005871139305395342 |  0.02895497930794334  |\n",
      "|   10   |  0.005608419838523672 |  0.031085856168491428 |\n",
      "+--------+-----------------------+-----------------------+\n",
      "[10 rows x 3 columns]\n",
      "\n",
      "\n",
      "Overall RMSE: 1.0416442875686065\n",
      "\n",
      "Per User RMSE (best)\n",
      "+------------+----------------------+-------+\n",
      "| customerId |         rmse         | count |\n",
      "+------------+----------------------+-------+\n",
      "|    9228    | 6.61229669010055e-05 |   1   |\n",
      "+------------+----------------------+-------+\n",
      "[1 rows x 3 columns]\n",
      "\n",
      "\n",
      "Per User RMSE (worst)\n",
      "+------------+--------------------+-------+\n",
      "| customerId |        rmse        | count |\n",
      "+------------+--------------------+-------+\n",
      "|    767     | 20.743902439024392 |   1   |\n",
      "+------------+--------------------+-------+\n",
      "[1 rows x 3 columns]\n",
      "\n",
      "\n",
      "Per Item RMSE (best)\n",
      "+-----------+---------------------+-------+\n",
      "| productId |         rmse        | count |\n",
      "+-----------+---------------------+-------+\n",
      "|    166    | 0.13329998305146362 |   87  |\n",
      "+-----------+---------------------+-------+\n",
      "[1 rows x 3 columns]\n",
      "\n",
      "\n",
      "Per Item RMSE (worst)\n",
      "+-----------+------------------+-------+\n",
      "| productId |       rmse       | count |\n",
      "+-----------+------------------+-------+\n",
      "|    245    | 4.19808866790775 |   24  |\n",
      "+-----------+------------------+-------+\n",
      "[1 rows x 3 columns]\n",
      "\n"
     ]
    }
   ],
   "source": [
    "# Model on purchase count\n",
    "eval_counts = tc.recommender.util.compare_models(test_data, models_w_counts, model_names=names_w_counts)"
   ]
  },
  {
   "cell_type": "code",
   "execution_count": 104,
   "metadata": {},
   "outputs": [
    {
     "name": "stdout",
     "output_type": "stream",
     "text": [
      "PROGRESS: Evaluate model Popularity Model on Purchase Dummy\n"
     ]
    },
    {
     "data": {
      "text/html": [
       "<pre>recommendations finished on 1000/13895 queries. users per second: 52263</pre>"
      ],
      "text/plain": [
       "recommendations finished on 1000/13895 queries. users per second: 52263"
      ]
     },
     "metadata": {},
     "output_type": "display_data"
    },
    {
     "data": {
      "text/html": [
       "<pre>recommendations finished on 2000/13895 queries. users per second: 66757.9</pre>"
      ],
      "text/plain": [
       "recommendations finished on 2000/13895 queries. users per second: 66757.9"
      ]
     },
     "metadata": {},
     "output_type": "display_data"
    },
    {
     "data": {
      "text/html": [
       "<pre>recommendations finished on 3000/13895 queries. users per second: 69676.7</pre>"
      ],
      "text/plain": [
       "recommendations finished on 3000/13895 queries. users per second: 69676.7"
      ]
     },
     "metadata": {},
     "output_type": "display_data"
    },
    {
     "data": {
      "text/html": [
       "<pre>recommendations finished on 4000/13895 queries. users per second: 77756</pre>"
      ],
      "text/plain": [
       "recommendations finished on 4000/13895 queries. users per second: 77756"
      ]
     },
     "metadata": {},
     "output_type": "display_data"
    },
    {
     "data": {
      "text/html": [
       "<pre>recommendations finished on 5000/13895 queries. users per second: 84053.4</pre>"
      ],
      "text/plain": [
       "recommendations finished on 5000/13895 queries. users per second: 84053.4"
      ]
     },
     "metadata": {},
     "output_type": "display_data"
    },
    {
     "data": {
      "text/html": [
       "<pre>recommendations finished on 6000/13895 queries. users per second: 78791.9</pre>"
      ],
      "text/plain": [
       "recommendations finished on 6000/13895 queries. users per second: 78791.9"
      ]
     },
     "metadata": {},
     "output_type": "display_data"
    },
    {
     "data": {
      "text/html": [
       "<pre>recommendations finished on 7000/13895 queries. users per second: 77885.1</pre>"
      ],
      "text/plain": [
       "recommendations finished on 7000/13895 queries. users per second: 77885.1"
      ]
     },
     "metadata": {},
     "output_type": "display_data"
    },
    {
     "data": {
      "text/html": [
       "<pre>recommendations finished on 8000/13895 queries. users per second: 77896.8</pre>"
      ],
      "text/plain": [
       "recommendations finished on 8000/13895 queries. users per second: 77896.8"
      ]
     },
     "metadata": {},
     "output_type": "display_data"
    },
    {
     "data": {
      "text/html": [
       "<pre>recommendations finished on 9000/13895 queries. users per second: 80203.9</pre>"
      ],
      "text/plain": [
       "recommendations finished on 9000/13895 queries. users per second: 80203.9"
      ]
     },
     "metadata": {},
     "output_type": "display_data"
    },
    {
     "data": {
      "text/html": [
       "<pre>recommendations finished on 10000/13895 queries. users per second: 79302.1</pre>"
      ],
      "text/plain": [
       "recommendations finished on 10000/13895 queries. users per second: 79302.1"
      ]
     },
     "metadata": {},
     "output_type": "display_data"
    },
    {
     "data": {
      "text/html": [
       "<pre>recommendations finished on 11000/13895 queries. users per second: 79419.5</pre>"
      ],
      "text/plain": [
       "recommendations finished on 11000/13895 queries. users per second: 79419.5"
      ]
     },
     "metadata": {},
     "output_type": "display_data"
    },
    {
     "data": {
      "text/html": [
       "<pre>recommendations finished on 12000/13895 queries. users per second: 71777.2</pre>"
      ],
      "text/plain": [
       "recommendations finished on 12000/13895 queries. users per second: 71777.2"
      ]
     },
     "metadata": {},
     "output_type": "display_data"
    },
    {
     "data": {
      "text/html": [
       "<pre>recommendations finished on 13000/13895 queries. users per second: 67692.5</pre>"
      ],
      "text/plain": [
       "recommendations finished on 13000/13895 queries. users per second: 67692.5"
      ]
     },
     "metadata": {},
     "output_type": "display_data"
    },
    {
     "name": "stdout",
     "output_type": "stream",
     "text": [
      "\n",
      "Precision and recall summary statistics by cutoff\n",
      "+--------+----------------------+-----------------------+\n",
      "| cutoff |    mean_precision    |      mean_recall      |\n",
      "+--------+----------------------+-----------------------+\n",
      "|   1    | 0.004965815041381791 | 0.0026697967180155063 |\n",
      "|   2    | 0.00705289672544082  | 0.0075272023166949465 |\n",
      "|   3    | 0.008540242293390902 |  0.01319096740291419  |\n",
      "|   4    | 0.007538682979489023 |  0.015420843400332432 |\n",
      "|   5    | 0.007873335732277807 |  0.01947245629505424  |\n",
      "|   6    | 0.01758426292431324  |  0.05849642421071027  |\n",
      "|   7    | 0.016223718706626172 |  0.06299184882128378  |\n",
      "|   8    | 0.015068369917236429 |  0.06641871242986745  |\n",
      "|   9    | 0.014529606972931895 |  0.07151718159094922  |\n",
      "|   10   | 0.014573587621446499 |   0.0793909698713581  |\n",
      "+--------+----------------------+-----------------------+\n",
      "[10 rows x 3 columns]\n",
      "\n",
      "\n",
      "Overall RMSE: 0.0\n",
      "\n",
      "Per User RMSE (best)\n",
      "+------------+------+-------+\n",
      "| customerId | rmse | count |\n",
      "+------------+------+-------+\n",
      "|   16436    | 0.0  |   2   |\n",
      "+------------+------+-------+\n",
      "[1 rows x 3 columns]\n",
      "\n",
      "\n",
      "Per User RMSE (worst)\n",
      "+------------+------+-------+\n",
      "| customerId | rmse | count |\n",
      "+------------+------+-------+\n",
      "|   21855    | 0.0  |   2   |\n",
      "+------------+------+-------+\n",
      "[1 rows x 3 columns]\n",
      "\n",
      "\n",
      "Per Item RMSE (best)\n",
      "+-----------+------+-------+\n",
      "| productId | rmse | count |\n",
      "+-----------+------+-------+\n",
      "|    207    | 0.0  |   21  |\n",
      "+-----------+------+-------+\n",
      "[1 rows x 3 columns]\n",
      "\n",
      "\n",
      "Per Item RMSE (worst)\n",
      "+-----------+------+-------+\n",
      "| productId | rmse | count |\n",
      "+-----------+------+-------+\n",
      "|    118    | 0.0  |   47  |\n",
      "+-----------+------+-------+\n",
      "[1 rows x 3 columns]\n",
      "\n",
      "PROGRESS: Evaluate model Cosine Similarity on Purchase Dummy\n"
     ]
    },
    {
     "data": {
      "text/html": [
       "<pre>recommendations finished on 1000/13895 queries. users per second: 38957.5</pre>"
      ],
      "text/plain": [
       "recommendations finished on 1000/13895 queries. users per second: 38957.5"
      ]
     },
     "metadata": {},
     "output_type": "display_data"
    },
    {
     "data": {
      "text/html": [
       "<pre>recommendations finished on 2000/13895 queries. users per second: 38210.2</pre>"
      ],
      "text/plain": [
       "recommendations finished on 2000/13895 queries. users per second: 38210.2"
      ]
     },
     "metadata": {},
     "output_type": "display_data"
    },
    {
     "data": {
      "text/html": [
       "<pre>recommendations finished on 3000/13895 queries. users per second: 35705.8</pre>"
      ],
      "text/plain": [
       "recommendations finished on 3000/13895 queries. users per second: 35705.8"
      ]
     },
     "metadata": {},
     "output_type": "display_data"
    },
    {
     "data": {
      "text/html": [
       "<pre>recommendations finished on 4000/13895 queries. users per second: 35739.5</pre>"
      ],
      "text/plain": [
       "recommendations finished on 4000/13895 queries. users per second: 35739.5"
      ]
     },
     "metadata": {},
     "output_type": "display_data"
    },
    {
     "data": {
      "text/html": [
       "<pre>recommendations finished on 5000/13895 queries. users per second: 33433.9</pre>"
      ],
      "text/plain": [
       "recommendations finished on 5000/13895 queries. users per second: 33433.9"
      ]
     },
     "metadata": {},
     "output_type": "display_data"
    },
    {
     "data": {
      "text/html": [
       "<pre>recommendations finished on 6000/13895 queries. users per second: 30209.8</pre>"
      ],
      "text/plain": [
       "recommendations finished on 6000/13895 queries. users per second: 30209.8"
      ]
     },
     "metadata": {},
     "output_type": "display_data"
    },
    {
     "data": {
      "text/html": [
       "<pre>recommendations finished on 7000/13895 queries. users per second: 31067.1</pre>"
      ],
      "text/plain": [
       "recommendations finished on 7000/13895 queries. users per second: 31067.1"
      ]
     },
     "metadata": {},
     "output_type": "display_data"
    },
    {
     "data": {
      "text/html": [
       "<pre>recommendations finished on 8000/13895 queries. users per second: 32333.8</pre>"
      ],
      "text/plain": [
       "recommendations finished on 8000/13895 queries. users per second: 32333.8"
      ]
     },
     "metadata": {},
     "output_type": "display_data"
    },
    {
     "data": {
      "text/html": [
       "<pre>recommendations finished on 9000/13895 queries. users per second: 32866.1</pre>"
      ],
      "text/plain": [
       "recommendations finished on 9000/13895 queries. users per second: 32866.1"
      ]
     },
     "metadata": {},
     "output_type": "display_data"
    },
    {
     "data": {
      "text/html": [
       "<pre>recommendations finished on 10000/13895 queries. users per second: 33492.5</pre>"
      ],
      "text/plain": [
       "recommendations finished on 10000/13895 queries. users per second: 33492.5"
      ]
     },
     "metadata": {},
     "output_type": "display_data"
    },
    {
     "data": {
      "text/html": [
       "<pre>recommendations finished on 11000/13895 queries. users per second: 32575.4</pre>"
      ],
      "text/plain": [
       "recommendations finished on 11000/13895 queries. users per second: 32575.4"
      ]
     },
     "metadata": {},
     "output_type": "display_data"
    },
    {
     "data": {
      "text/html": [
       "<pre>recommendations finished on 12000/13895 queries. users per second: 32990.2</pre>"
      ],
      "text/plain": [
       "recommendations finished on 12000/13895 queries. users per second: 32990.2"
      ]
     },
     "metadata": {},
     "output_type": "display_data"
    },
    {
     "data": {
      "text/html": [
       "<pre>recommendations finished on 13000/13895 queries. users per second: 34062.6</pre>"
      ],
      "text/plain": [
       "recommendations finished on 13000/13895 queries. users per second: 34062.6"
      ]
     },
     "metadata": {},
     "output_type": "display_data"
    },
    {
     "name": "stdout",
     "output_type": "stream",
     "text": [
      "\n",
      "Precision and recall summary statistics by cutoff\n",
      "+--------+----------------------+---------------------+\n",
      "| cutoff |    mean_precision    |     mean_recall     |\n",
      "+--------+----------------------+---------------------+\n",
      "|   1    | 0.12515293270960715  | 0.07156885610690958 |\n",
      "|   2    | 0.10039582583663213  | 0.11216019411998207 |\n",
      "|   3    |  0.0839390668106035  | 0.13911640671311434 |\n",
      "|   4    | 0.07229219143576876  | 0.15907443709723992 |\n",
      "|   5    | 0.06449802087081707  | 0.17572044936532843 |\n",
      "|   6    | 0.05930190716084898  | 0.19438363301906597 |\n",
      "|   7    | 0.05415103068935411  | 0.20650261135790676 |\n",
      "|   8    | 0.050332853544440455 | 0.21882866906134907 |\n",
      "|   9    | 0.04691535724281336  | 0.22857114500929457 |\n",
      "|   10   | 0.04426772220223142  |  0.238904508219593  |\n",
      "+--------+----------------------+---------------------+\n",
      "[10 rows x 3 columns]\n",
      "\n",
      "\n",
      "Overall RMSE: 0.9691769775115747\n",
      "\n",
      "Per User RMSE (best)\n",
      "+------------+--------------------+-------+\n",
      "| customerId |        rmse        | count |\n",
      "+------------+--------------------+-------+\n",
      "|   22278    | 0.5212854743003845 |   1   |\n",
      "+------------+--------------------+-------+\n",
      "[1 rows x 3 columns]\n",
      "\n",
      "\n",
      "Per User RMSE (worst)\n",
      "+------------+------+-------+\n",
      "| customerId | rmse | count |\n",
      "+------------+------+-------+\n",
      "|   25263    | 1.0  |   1   |\n",
      "+------------+------+-------+\n",
      "[1 rows x 3 columns]\n",
      "\n",
      "\n",
      "Per Item RMSE (best)\n",
      "+-----------+--------------------+-------+\n",
      "| productId |        rmse        | count |\n",
      "+-----------+--------------------+-------+\n",
      "|     8     | 0.8793753637307892 |  184  |\n",
      "+-----------+--------------------+-------+\n",
      "[1 rows x 3 columns]\n",
      "\n",
      "\n",
      "Per Item RMSE (worst)\n",
      "+-----------+-------------------+-------+\n",
      "| productId |        rmse       | count |\n",
      "+-----------+-------------------+-------+\n",
      "|    125    | 0.999930112316742 |   32  |\n",
      "+-----------+-------------------+-------+\n",
      "[1 rows x 3 columns]\n",
      "\n",
      "PROGRESS: Evaluate model Pearson Similarity on Purchase Dummy\n"
     ]
    },
    {
     "data": {
      "text/html": [
       "<pre>recommendations finished on 1000/13895 queries. users per second: 32778.3</pre>"
      ],
      "text/plain": [
       "recommendations finished on 1000/13895 queries. users per second: 32778.3"
      ]
     },
     "metadata": {},
     "output_type": "display_data"
    },
    {
     "data": {
      "text/html": [
       "<pre>recommendations finished on 2000/13895 queries. users per second: 39007.6</pre>"
      ],
      "text/plain": [
       "recommendations finished on 2000/13895 queries. users per second: 39007.6"
      ]
     },
     "metadata": {},
     "output_type": "display_data"
    },
    {
     "data": {
      "text/html": [
       "<pre>recommendations finished on 3000/13895 queries. users per second: 40166</pre>"
      ],
      "text/plain": [
       "recommendations finished on 3000/13895 queries. users per second: 40166"
      ]
     },
     "metadata": {},
     "output_type": "display_data"
    },
    {
     "data": {
      "text/html": [
       "<pre>recommendations finished on 4000/13895 queries. users per second: 45547.2</pre>"
      ],
      "text/plain": [
       "recommendations finished on 4000/13895 queries. users per second: 45547.2"
      ]
     },
     "metadata": {},
     "output_type": "display_data"
    },
    {
     "data": {
      "text/html": [
       "<pre>recommendations finished on 5000/13895 queries. users per second: 49044.6</pre>"
      ],
      "text/plain": [
       "recommendations finished on 5000/13895 queries. users per second: 49044.6"
      ]
     },
     "metadata": {},
     "output_type": "display_data"
    },
    {
     "data": {
      "text/html": [
       "<pre>recommendations finished on 6000/13895 queries. users per second: 44476.1</pre>"
      ],
      "text/plain": [
       "recommendations finished on 6000/13895 queries. users per second: 44476.1"
      ]
     },
     "metadata": {},
     "output_type": "display_data"
    },
    {
     "data": {
      "text/html": [
       "<pre>recommendations finished on 7000/13895 queries. users per second: 45729.8</pre>"
      ],
      "text/plain": [
       "recommendations finished on 7000/13895 queries. users per second: 45729.8"
      ]
     },
     "metadata": {},
     "output_type": "display_data"
    },
    {
     "data": {
      "text/html": [
       "<pre>recommendations finished on 8000/13895 queries. users per second: 45770</pre>"
      ],
      "text/plain": [
       "recommendations finished on 8000/13895 queries. users per second: 45770"
      ]
     },
     "metadata": {},
     "output_type": "display_data"
    },
    {
     "data": {
      "text/html": [
       "<pre>recommendations finished on 9000/13895 queries. users per second: 46441.5</pre>"
      ],
      "text/plain": [
       "recommendations finished on 9000/13895 queries. users per second: 46441.5"
      ]
     },
     "metadata": {},
     "output_type": "display_data"
    },
    {
     "data": {
      "text/html": [
       "<pre>recommendations finished on 10000/13895 queries. users per second: 47559.3</pre>"
      ],
      "text/plain": [
       "recommendations finished on 10000/13895 queries. users per second: 47559.3"
      ]
     },
     "metadata": {},
     "output_type": "display_data"
    },
    {
     "data": {
      "text/html": [
       "<pre>recommendations finished on 11000/13895 queries. users per second: 48469.3</pre>"
      ],
      "text/plain": [
       "recommendations finished on 11000/13895 queries. users per second: 48469.3"
      ]
     },
     "metadata": {},
     "output_type": "display_data"
    },
    {
     "data": {
      "text/html": [
       "<pre>recommendations finished on 12000/13895 queries. users per second: 39572.6</pre>"
      ],
      "text/plain": [
       "recommendations finished on 12000/13895 queries. users per second: 39572.6"
      ]
     },
     "metadata": {},
     "output_type": "display_data"
    },
    {
     "data": {
      "text/html": [
       "<pre>recommendations finished on 13000/13895 queries. users per second: 40642.9</pre>"
      ],
      "text/plain": [
       "recommendations finished on 13000/13895 queries. users per second: 40642.9"
      ]
     },
     "metadata": {},
     "output_type": "display_data"
    },
    {
     "name": "stdout",
     "output_type": "stream",
     "text": [
      "\n",
      "Precision and recall summary statistics by cutoff\n",
      "+--------+-----------------------+-----------------------+\n",
      "| cutoff |     mean_precision    |      mean_recall      |\n",
      "+--------+-----------------------+-----------------------+\n",
      "|   1    |  0.00496581504138177  | 0.0026697967180155037 |\n",
      "|   2    |  0.007052896725440803 |  0.007527202316694946 |\n",
      "|   3    |  0.008540242293390815 |  0.013190967402914113 |\n",
      "|   4    | 0.0075386829794890295 |  0.015420843400332382 |\n",
      "|   5    |  0.007873335732277794 |  0.019472456295054275 |\n",
      "|   6    |  0.01758426292431333  |  0.05849642421070974  |\n",
      "|   7    |  0.016223718706626283 |  0.06299184882128422  |\n",
      "|   8    |  0.015068369917236393 |   0.0664187124298674  |\n",
      "|   9    |  0.01452960697293192  |  0.07151718159094896  |\n",
      "|   10   |   0.0145735876214466  |  0.07939096987135848  |\n",
      "+--------+-----------------------+-----------------------+\n",
      "[10 rows x 3 columns]\n",
      "\n",
      "\n",
      "Overall RMSE: 1.0\n",
      "\n",
      "Per User RMSE (best)\n",
      "+------------+------+-------+\n",
      "| customerId | rmse | count |\n",
      "+------------+------+-------+\n",
      "|   16436    | 1.0  |   2   |\n",
      "+------------+------+-------+\n",
      "[1 rows x 3 columns]\n",
      "\n",
      "\n",
      "Per User RMSE (worst)\n",
      "+------------+------+-------+\n",
      "| customerId | rmse | count |\n",
      "+------------+------+-------+\n",
      "|   21855    | 1.0  |   2   |\n",
      "+------------+------+-------+\n",
      "[1 rows x 3 columns]\n",
      "\n",
      "\n",
      "Per Item RMSE (best)\n",
      "+-----------+------+-------+\n",
      "| productId | rmse | count |\n",
      "+-----------+------+-------+\n",
      "|    207    | 1.0  |   21  |\n",
      "+-----------+------+-------+\n",
      "[1 rows x 3 columns]\n",
      "\n",
      "\n",
      "Per Item RMSE (worst)\n",
      "+-----------+------+-------+\n",
      "| productId | rmse | count |\n",
      "+-----------+------+-------+\n",
      "|    118    | 1.0  |   47  |\n",
      "+-----------+------+-------+\n",
      "[1 rows x 3 columns]\n",
      "\n"
     ]
    }
   ],
   "source": [
    "# Model on purchase dummy\n",
    "eval_dummy = tc.recommender.util.compare_models(test_data_dummy, models_w_dummy, model_names=names_w_dummy)"
   ]
  },
  {
   "cell_type": "code",
   "execution_count": 105,
   "metadata": {},
   "outputs": [
    {
     "name": "stdout",
     "output_type": "stream",
     "text": [
      "PROGRESS: Evaluate model Popularity Model on Scaled Purchase Counts\n"
     ]
    },
    {
     "data": {
      "text/html": [
       "<pre>recommendations finished on 1000/13945 queries. users per second: 36484.4</pre>"
      ],
      "text/plain": [
       "recommendations finished on 1000/13945 queries. users per second: 36484.4"
      ]
     },
     "metadata": {},
     "output_type": "display_data"
    },
    {
     "data": {
      "text/html": [
       "<pre>recommendations finished on 2000/13945 queries. users per second: 49632.7</pre>"
      ],
      "text/plain": [
       "recommendations finished on 2000/13945 queries. users per second: 49632.7"
      ]
     },
     "metadata": {},
     "output_type": "display_data"
    },
    {
     "data": {
      "text/html": [
       "<pre>recommendations finished on 3000/13945 queries. users per second: 56204</pre>"
      ],
      "text/plain": [
       "recommendations finished on 3000/13945 queries. users per second: 56204"
      ]
     },
     "metadata": {},
     "output_type": "display_data"
    },
    {
     "data": {
      "text/html": [
       "<pre>recommendations finished on 4000/13945 queries. users per second: 57336.2</pre>"
      ],
      "text/plain": [
       "recommendations finished on 4000/13945 queries. users per second: 57336.2"
      ]
     },
     "metadata": {},
     "output_type": "display_data"
    },
    {
     "data": {
      "text/html": [
       "<pre>recommendations finished on 5000/13945 queries. users per second: 63859.4</pre>"
      ],
      "text/plain": [
       "recommendations finished on 5000/13945 queries. users per second: 63859.4"
      ]
     },
     "metadata": {},
     "output_type": "display_data"
    },
    {
     "data": {
      "text/html": [
       "<pre>recommendations finished on 6000/13945 queries. users per second: 58729.7</pre>"
      ],
      "text/plain": [
       "recommendations finished on 6000/13945 queries. users per second: 58729.7"
      ]
     },
     "metadata": {},
     "output_type": "display_data"
    },
    {
     "data": {
      "text/html": [
       "<pre>recommendations finished on 7000/13945 queries. users per second: 63278</pre>"
      ],
      "text/plain": [
       "recommendations finished on 7000/13945 queries. users per second: 63278"
      ]
     },
     "metadata": {},
     "output_type": "display_data"
    },
    {
     "data": {
      "text/html": [
       "<pre>recommendations finished on 8000/13945 queries. users per second: 64069.2</pre>"
      ],
      "text/plain": [
       "recommendations finished on 8000/13945 queries. users per second: 64069.2"
      ]
     },
     "metadata": {},
     "output_type": "display_data"
    },
    {
     "data": {
      "text/html": [
       "<pre>recommendations finished on 9000/13945 queries. users per second: 63040.7</pre>"
      ],
      "text/plain": [
       "recommendations finished on 9000/13945 queries. users per second: 63040.7"
      ]
     },
     "metadata": {},
     "output_type": "display_data"
    },
    {
     "data": {
      "text/html": [
       "<pre>recommendations finished on 10000/13945 queries. users per second: 65469.9</pre>"
      ],
      "text/plain": [
       "recommendations finished on 10000/13945 queries. users per second: 65469.9"
      ]
     },
     "metadata": {},
     "output_type": "display_data"
    },
    {
     "data": {
      "text/html": [
       "<pre>recommendations finished on 11000/13945 queries. users per second: 66655</pre>"
      ],
      "text/plain": [
       "recommendations finished on 11000/13945 queries. users per second: 66655"
      ]
     },
     "metadata": {},
     "output_type": "display_data"
    },
    {
     "data": {
      "text/html": [
       "<pre>recommendations finished on 12000/13945 queries. users per second: 57009.8</pre>"
      ],
      "text/plain": [
       "recommendations finished on 12000/13945 queries. users per second: 57009.8"
      ]
     },
     "metadata": {},
     "output_type": "display_data"
    },
    {
     "data": {
      "text/html": [
       "<pre>recommendations finished on 13000/13945 queries. users per second: 57183.1</pre>"
      ],
      "text/plain": [
       "recommendations finished on 13000/13945 queries. users per second: 57183.1"
      ]
     },
     "metadata": {},
     "output_type": "display_data"
    },
    {
     "name": "stdout",
     "output_type": "stream",
     "text": [
      "\n",
      "Precision and recall summary statistics by cutoff\n",
      "+--------+-----------------------+-----------------------+\n",
      "| cutoff |     mean_precision    |      mean_recall      |\n",
      "+--------+-----------------------+-----------------------+\n",
      "|   1    |  0.002581570455360341 |  0.001576431217879766 |\n",
      "|   2    |  0.002402294729293645 | 0.0027430634780939555 |\n",
      "|   3    |  0.002438149874506991 | 0.0041208427045644645 |\n",
      "|   4    | 0.0022230190032269687 |  0.005056064408879059 |\n",
      "|   5    | 0.0019361778415202691 |  0.005473299786357446 |\n",
      "|   6    |  0.002019839847018045 |  0.006398021055288034 |\n",
      "|   7    | 0.0020795984223736137 |  0.007677452153650631 |\n",
      "|   8    | 0.0020168519182502667 |  0.008504510836571699 |\n",
      "|   9    | 0.0026771841759292356 |  0.013058057365736706 |\n",
      "|   10   | 0.0025959125134456737 |  0.014153858898970981 |\n",
      "+--------+-----------------------+-----------------------+\n",
      "[10 rows x 3 columns]\n",
      "\n",
      "\n",
      "Overall RMSE: 0.13437389791088916\n",
      "\n",
      "Per User RMSE (best)\n",
      "+------------+------------------------+-------+\n",
      "| customerId |          rmse          | count |\n",
      "+------------+------------------------+-------+\n",
      "|    5080    | 0.00017867113344428864 |   1   |\n",
      "+------------+------------------------+-------+\n",
      "[1 rows x 3 columns]\n",
      "\n",
      "\n",
      "Per User RMSE (worst)\n",
      "+------------+--------------------+-------+\n",
      "| customerId |        rmse        | count |\n",
      "+------------+--------------------+-------+\n",
      "|    693     | 0.9842317565089842 |   1   |\n",
      "+------------+--------------------+-------+\n",
      "[1 rows x 3 columns]\n",
      "\n",
      "\n",
      "Per Item RMSE (best)\n",
      "+-----------+----------------------+-------+\n",
      "| productId |         rmse         | count |\n",
      "+-----------+----------------------+-------+\n",
      "|    173    | 0.020109533267240503 |   39  |\n",
      "+-----------+----------------------+-------+\n",
      "[1 rows x 3 columns]\n",
      "\n",
      "\n",
      "Per Item RMSE (worst)\n",
      "+-----------+--------------------+-------+\n",
      "| productId |        rmse        | count |\n",
      "+-----------+--------------------+-------+\n",
      "|    257    | 0.2883893758100041 |   71  |\n",
      "+-----------+--------------------+-------+\n",
      "[1 rows x 3 columns]\n",
      "\n",
      "PROGRESS: Evaluate model Cosine Similarity on Scaled Purchase Counts\n"
     ]
    },
    {
     "data": {
      "text/html": [
       "<pre>recommendations finished on 1000/13945 queries. users per second: 45063.3</pre>"
      ],
      "text/plain": [
       "recommendations finished on 1000/13945 queries. users per second: 45063.3"
      ]
     },
     "metadata": {},
     "output_type": "display_data"
    },
    {
     "data": {
      "text/html": [
       "<pre>recommendations finished on 2000/13945 queries. users per second: 45734.1</pre>"
      ],
      "text/plain": [
       "recommendations finished on 2000/13945 queries. users per second: 45734.1"
      ]
     },
     "metadata": {},
     "output_type": "display_data"
    },
    {
     "data": {
      "text/html": [
       "<pre>recommendations finished on 3000/13945 queries. users per second: 42508.6</pre>"
      ],
      "text/plain": [
       "recommendations finished on 3000/13945 queries. users per second: 42508.6"
      ]
     },
     "metadata": {},
     "output_type": "display_data"
    },
    {
     "data": {
      "text/html": [
       "<pre>recommendations finished on 4000/13945 queries. users per second: 42710.9</pre>"
      ],
      "text/plain": [
       "recommendations finished on 4000/13945 queries. users per second: 42710.9"
      ]
     },
     "metadata": {},
     "output_type": "display_data"
    },
    {
     "data": {
      "text/html": [
       "<pre>recommendations finished on 5000/13945 queries. users per second: 41934.7</pre>"
      ],
      "text/plain": [
       "recommendations finished on 5000/13945 queries. users per second: 41934.7"
      ]
     },
     "metadata": {},
     "output_type": "display_data"
    },
    {
     "data": {
      "text/html": [
       "<pre>recommendations finished on 6000/13945 queries. users per second: 42025.6</pre>"
      ],
      "text/plain": [
       "recommendations finished on 6000/13945 queries. users per second: 42025.6"
      ]
     },
     "metadata": {},
     "output_type": "display_data"
    },
    {
     "data": {
      "text/html": [
       "<pre>recommendations finished on 7000/13945 queries. users per second: 41739</pre>"
      ],
      "text/plain": [
       "recommendations finished on 7000/13945 queries. users per second: 41739"
      ]
     },
     "metadata": {},
     "output_type": "display_data"
    },
    {
     "data": {
      "text/html": [
       "<pre>recommendations finished on 8000/13945 queries. users per second: 43629.8</pre>"
      ],
      "text/plain": [
       "recommendations finished on 8000/13945 queries. users per second: 43629.8"
      ]
     },
     "metadata": {},
     "output_type": "display_data"
    },
    {
     "data": {
      "text/html": [
       "<pre>recommendations finished on 9000/13945 queries. users per second: 43982.9</pre>"
      ],
      "text/plain": [
       "recommendations finished on 9000/13945 queries. users per second: 43982.9"
      ]
     },
     "metadata": {},
     "output_type": "display_data"
    },
    {
     "data": {
      "text/html": [
       "<pre>recommendations finished on 10000/13945 queries. users per second: 44073.1</pre>"
      ],
      "text/plain": [
       "recommendations finished on 10000/13945 queries. users per second: 44073.1"
      ]
     },
     "metadata": {},
     "output_type": "display_data"
    },
    {
     "data": {
      "text/html": [
       "<pre>recommendations finished on 11000/13945 queries. users per second: 44994.6</pre>"
      ],
      "text/plain": [
       "recommendations finished on 11000/13945 queries. users per second: 44994.6"
      ]
     },
     "metadata": {},
     "output_type": "display_data"
    },
    {
     "data": {
      "text/html": [
       "<pre>recommendations finished on 12000/13945 queries. users per second: 43472.1</pre>"
      ],
      "text/plain": [
       "recommendations finished on 12000/13945 queries. users per second: 43472.1"
      ]
     },
     "metadata": {},
     "output_type": "display_data"
    },
    {
     "data": {
      "text/html": [
       "<pre>recommendations finished on 13000/13945 queries. users per second: 43656.8</pre>"
      ],
      "text/plain": [
       "recommendations finished on 13000/13945 queries. users per second: 43656.8"
      ]
     },
     "metadata": {},
     "output_type": "display_data"
    },
    {
     "name": "stdout",
     "output_type": "stream",
     "text": [
      "\n",
      "Precision and recall summary statistics by cutoff\n",
      "+--------+----------------------+---------------------+\n",
      "| cutoff |    mean_precision    |     mean_recall     |\n",
      "+--------+----------------------+---------------------+\n",
      "|   1    | 0.06518465399784852  | 0.03646266445455433 |\n",
      "|   2    | 0.05306561491574048  | 0.05902893189152128 |\n",
      "|   3    | 0.04558384128122384  | 0.07491083546403716 |\n",
      "|   4    | 0.03990677662244546  | 0.08575869979500651 |\n",
      "|   5    | 0.03592685550376455  | 0.09526498941930209 |\n",
      "|   6    |  0.0332377196127643  | 0.10551865034345374 |\n",
      "|   7    | 0.03130666393484625  | 0.11592319520300066 |\n",
      "|   8    | 0.02941914664754397  | 0.12380507342339381 |\n",
      "|   9    | 0.027879367355882166 | 0.13158300276608526 |\n",
      "|   10   | 0.026267479383291513 | 0.13743980104131148 |\n",
      "+--------+----------------------+---------------------+\n",
      "[10 rows x 3 columns]\n",
      "\n",
      "\n",
      "Overall RMSE: 0.16306207417582452\n",
      "\n",
      "Per User RMSE (best)\n",
      "+------------+------+-------+\n",
      "| customerId | rmse | count |\n",
      "+------------+------+-------+\n",
      "|   15095    | 0.0  |   1   |\n",
      "+------------+------+-------+\n",
      "[1 rows x 3 columns]\n",
      "\n",
      "\n",
      "Per User RMSE (worst)\n",
      "+------------+------+-------+\n",
      "| customerId | rmse | count |\n",
      "+------------+------+-------+\n",
      "|   16509    | 1.0  |   1   |\n",
      "+------------+------+-------+\n",
      "[1 rows x 3 columns]\n",
      "\n",
      "\n",
      "Per Item RMSE (best)\n",
      "+-----------+----------------------+-------+\n",
      "| productId |         rmse         | count |\n",
      "+-----------+----------------------+-------+\n",
      "|    173    | 0.020547216113118338 |   39  |\n",
      "+-----------+----------------------+-------+\n",
      "[1 rows x 3 columns]\n",
      "\n",
      "\n",
      "Per Item RMSE (worst)\n",
      "+-----------+--------------------+-------+\n",
      "| productId |        rmse        | count |\n",
      "+-----------+--------------------+-------+\n",
      "|    226    | 0.9394746046758902 |   36  |\n",
      "+-----------+--------------------+-------+\n",
      "[1 rows x 3 columns]\n",
      "\n",
      "PROGRESS: Evaluate model Pearson Similarity on Scaled Purchase Counts\n"
     ]
    },
    {
     "data": {
      "text/html": [
       "<pre>recommendations finished on 1000/13945 queries. users per second: 27958</pre>"
      ],
      "text/plain": [
       "recommendations finished on 1000/13945 queries. users per second: 27958"
      ]
     },
     "metadata": {},
     "output_type": "display_data"
    },
    {
     "data": {
      "text/html": [
       "<pre>recommendations finished on 2000/13945 queries. users per second: 31124</pre>"
      ],
      "text/plain": [
       "recommendations finished on 2000/13945 queries. users per second: 31124"
      ]
     },
     "metadata": {},
     "output_type": "display_data"
    },
    {
     "data": {
      "text/html": [
       "<pre>recommendations finished on 3000/13945 queries. users per second: 34635.2</pre>"
      ],
      "text/plain": [
       "recommendations finished on 3000/13945 queries. users per second: 34635.2"
      ]
     },
     "metadata": {},
     "output_type": "display_data"
    },
    {
     "data": {
      "text/html": [
       "<pre>recommendations finished on 4000/13945 queries. users per second: 37822.2</pre>"
      ],
      "text/plain": [
       "recommendations finished on 4000/13945 queries. users per second: 37822.2"
      ]
     },
     "metadata": {},
     "output_type": "display_data"
    },
    {
     "data": {
      "text/html": [
       "<pre>recommendations finished on 5000/13945 queries. users per second: 39778.8</pre>"
      ],
      "text/plain": [
       "recommendations finished on 5000/13945 queries. users per second: 39778.8"
      ]
     },
     "metadata": {},
     "output_type": "display_data"
    },
    {
     "data": {
      "text/html": [
       "<pre>recommendations finished on 6000/13945 queries. users per second: 41974.8</pre>"
      ],
      "text/plain": [
       "recommendations finished on 6000/13945 queries. users per second: 41974.8"
      ]
     },
     "metadata": {},
     "output_type": "display_data"
    },
    {
     "data": {
      "text/html": [
       "<pre>recommendations finished on 7000/13945 queries. users per second: 44746.4</pre>"
      ],
      "text/plain": [
       "recommendations finished on 7000/13945 queries. users per second: 44746.4"
      ]
     },
     "metadata": {},
     "output_type": "display_data"
    },
    {
     "data": {
      "text/html": [
       "<pre>recommendations finished on 8000/13945 queries. users per second: 46593.4</pre>"
      ],
      "text/plain": [
       "recommendations finished on 8000/13945 queries. users per second: 46593.4"
      ]
     },
     "metadata": {},
     "output_type": "display_data"
    },
    {
     "data": {
      "text/html": [
       "<pre>recommendations finished on 9000/13945 queries. users per second: 48590.3</pre>"
      ],
      "text/plain": [
       "recommendations finished on 9000/13945 queries. users per second: 48590.3"
      ]
     },
     "metadata": {},
     "output_type": "display_data"
    },
    {
     "data": {
      "text/html": [
       "<pre>recommendations finished on 10000/13945 queries. users per second: 50486.2</pre>"
      ],
      "text/plain": [
       "recommendations finished on 10000/13945 queries. users per second: 50486.2"
      ]
     },
     "metadata": {},
     "output_type": "display_data"
    },
    {
     "data": {
      "text/html": [
       "<pre>recommendations finished on 11000/13945 queries. users per second: 50074.9</pre>"
      ],
      "text/plain": [
       "recommendations finished on 11000/13945 queries. users per second: 50074.9"
      ]
     },
     "metadata": {},
     "output_type": "display_data"
    },
    {
     "data": {
      "text/html": [
       "<pre>recommendations finished on 12000/13945 queries. users per second: 50863.8</pre>"
      ],
      "text/plain": [
       "recommendations finished on 12000/13945 queries. users per second: 50863.8"
      ]
     },
     "metadata": {},
     "output_type": "display_data"
    },
    {
     "data": {
      "text/html": [
       "<pre>recommendations finished on 13000/13945 queries. users per second: 51194.2</pre>"
      ],
      "text/plain": [
       "recommendations finished on 13000/13945 queries. users per second: 51194.2"
      ]
     },
     "metadata": {},
     "output_type": "display_data"
    },
    {
     "name": "stdout",
     "output_type": "stream",
     "text": [
      "\n",
      "Precision and recall summary statistics by cutoff\n",
      "+--------+-----------------------+-----------------------+\n",
      "| cutoff |     mean_precision    |      mean_recall      |\n",
      "+--------+-----------------------+-----------------------+\n",
      "|   1    | 0.0025815704553603337 |  0.001576431217879766 |\n",
      "|   2    |  0.002402294729293661 | 0.0027430634780939607 |\n",
      "|   3    | 0.0024381498745069804 | 0.0041208427045644775 |\n",
      "|   4    | 0.0022230190032269696 |  0.005056064408879037 |\n",
      "|   5    | 0.0019361778415202568 |  0.005473299786357371 |\n",
      "|   6    | 0.0020198398470180515 |  0.006398021055288052 |\n",
      "|   7    |  0.00207959842237362  |  0.007677452153650687 |\n",
      "|   8    |  0.002025815704553608 |  0.008540365981785017 |\n",
      "|   9    | 0.0026931197960240547 |  0.013165622801376729 |\n",
      "|   10   |  0.002595912513445668 |  0.014153858898971064 |\n",
      "+--------+-----------------------+-----------------------+\n",
      "[10 rows x 3 columns]\n",
      "\n",
      "\n",
      "Overall RMSE: 0.13408530253111237\n",
      "\n",
      "Per User RMSE (best)\n",
      "+------------+-----------------------+-------+\n",
      "| customerId |          rmse         | count |\n",
      "+------------+-----------------------+-------+\n",
      "|    4583    | 9.955920817372732e-06 |   1   |\n",
      "+------------+-----------------------+-------+\n",
      "[1 rows x 3 columns]\n",
      "\n",
      "\n",
      "Per User RMSE (worst)\n",
      "+------------+--------------------+-------+\n",
      "| customerId |        rmse        | count |\n",
      "+------------+--------------------+-------+\n",
      "|    693     | 0.9837064250117918 |   1   |\n",
      "+------------+--------------------+-------+\n",
      "[1 rows x 3 columns]\n",
      "\n",
      "\n",
      "Per Item RMSE (best)\n",
      "+-----------+---------------------+-------+\n",
      "| productId |         rmse        | count |\n",
      "+-----------+---------------------+-------+\n",
      "|    173    | 0.02080170690517312 |   39  |\n",
      "+-----------+---------------------+-------+\n",
      "[1 rows x 3 columns]\n",
      "\n",
      "\n",
      "Per Item RMSE (worst)\n",
      "+-----------+--------------------+-------+\n",
      "| productId |        rmse        | count |\n",
      "+-----------+--------------------+-------+\n",
      "|    257    | 0.2883591687850021 |   71  |\n",
      "+-----------+--------------------+-------+\n",
      "[1 rows x 3 columns]\n",
      "\n"
     ]
    }
   ],
   "source": [
    "# Model on Normalized purchase dummy\n",
    "eval_norm = tc.recommender.util.compare_models(test_data_norm, models_w_norm, model_names=names_w_norm)"
   ]
  },
  {
   "cell_type": "markdown",
   "metadata": {},
   "source": [
    "Popularity v. Collaborative Filtering: We can see that the collaborative filtering algorithms work better than popularity model for purchase counts. Indeed, popularity model doesn’t give any personalizations as it only gives the same list of recommended items to every user.\n",
    "\n",
    "Precision and recall: Looking at the summary above, we see that the precision and recall for Purchase Counts > Purchase Dummy > Normalized Purchase Counts. However, because the recommendation scores for the normalized purchase data is zero and constant, we choose the dummy. In fact, the RMSE isn’t much different between models on the dummy and those on the normalized data.\n",
    "\n",
    "RMSE: Since RMSE is higher using pearson distance than cosine, we would choose model the smaller mean squared errors, which in this case would be cosine."
   ]
  },
  {
   "cell_type": "markdown",
   "metadata": {},
   "source": [
    "#### Therefore, we select the Cosine similarity on Purchase Dummy approach as our final model."
   ]
  },
  {
   "cell_type": "markdown",
   "metadata": {},
   "source": [
    "### Recommend"
   ]
  },
  {
   "cell_type": "code",
   "execution_count": 108,
   "metadata": {},
   "outputs": [
    {
     "data": {
      "text/html": [
       "<pre>Warning: Ignoring columns purchase_count;</pre>"
      ],
      "text/plain": [
       "Warning: Ignoring columns purchase_count;"
      ]
     },
     "metadata": {},
     "output_type": "display_data"
    },
    {
     "data": {
      "text/html": [
       "<pre>    To use these columns in scoring predictions, use a model that allows the use of additional features.</pre>"
      ],
      "text/plain": [
       "    To use these columns in scoring predictions, use a model that allows the use of additional features."
      ]
     },
     "metadata": {},
     "output_type": "display_data"
    },
    {
     "data": {
      "text/html": [
       "<pre>Preparing data set.</pre>"
      ],
      "text/plain": [
       "Preparing data set."
      ]
     },
     "metadata": {},
     "output_type": "display_data"
    },
    {
     "data": {
      "text/html": [
       "<pre>    Data has 133585 observations with 24429 users and 300 items.</pre>"
      ],
      "text/plain": [
       "    Data has 133585 observations with 24429 users and 300 items."
      ]
     },
     "metadata": {},
     "output_type": "display_data"
    },
    {
     "data": {
      "text/html": [
       "<pre>    Data prepared in: 0.162951s</pre>"
      ],
      "text/plain": [
       "    Data prepared in: 0.162951s"
      ]
     },
     "metadata": {},
     "output_type": "display_data"
    },
    {
     "data": {
      "text/html": [
       "<pre>Training model from provided data.</pre>"
      ],
      "text/plain": [
       "Training model from provided data."
      ]
     },
     "metadata": {},
     "output_type": "display_data"
    },
    {
     "data": {
      "text/html": [
       "<pre>Gathering per-item and per-user statistics.</pre>"
      ],
      "text/plain": [
       "Gathering per-item and per-user statistics."
      ]
     },
     "metadata": {},
     "output_type": "display_data"
    },
    {
     "data": {
      "text/html": [
       "<pre>+--------------------------------+------------+</pre>"
      ],
      "text/plain": [
       "+--------------------------------+------------+"
      ]
     },
     "metadata": {},
     "output_type": "display_data"
    },
    {
     "data": {
      "text/html": [
       "<pre>| Elapsed Time (Item Statistics) | % Complete |</pre>"
      ],
      "text/plain": [
       "| Elapsed Time (Item Statistics) | % Complete |"
      ]
     },
     "metadata": {},
     "output_type": "display_data"
    },
    {
     "data": {
      "text/html": [
       "<pre>+--------------------------------+------------+</pre>"
      ],
      "text/plain": [
       "+--------------------------------+------------+"
      ]
     },
     "metadata": {},
     "output_type": "display_data"
    },
    {
     "data": {
      "text/html": [
       "<pre>| 2.209ms                        | 4          |</pre>"
      ],
      "text/plain": [
       "| 2.209ms                        | 4          |"
      ]
     },
     "metadata": {},
     "output_type": "display_data"
    },
    {
     "data": {
      "text/html": [
       "<pre>| 43.801ms                       | 100        |</pre>"
      ],
      "text/plain": [
       "| 43.801ms                       | 100        |"
      ]
     },
     "metadata": {},
     "output_type": "display_data"
    },
    {
     "data": {
      "text/html": [
       "<pre>+--------------------------------+------------+</pre>"
      ],
      "text/plain": [
       "+--------------------------------+------------+"
      ]
     },
     "metadata": {},
     "output_type": "display_data"
    },
    {
     "data": {
      "text/html": [
       "<pre>Setting up lookup tables.</pre>"
      ],
      "text/plain": [
       "Setting up lookup tables."
      ]
     },
     "metadata": {},
     "output_type": "display_data"
    },
    {
     "data": {
      "text/html": [
       "<pre>Processing data in one pass using dense lookup tables.</pre>"
      ],
      "text/plain": [
       "Processing data in one pass using dense lookup tables."
      ]
     },
     "metadata": {},
     "output_type": "display_data"
    },
    {
     "data": {
      "text/html": [
       "<pre>+-------------------------------------+------------------+-----------------+</pre>"
      ],
      "text/plain": [
       "+-------------------------------------+------------------+-----------------+"
      ]
     },
     "metadata": {},
     "output_type": "display_data"
    },
    {
     "data": {
      "text/html": [
       "<pre>| Elapsed Time (Constructing Lookups) | Total % Complete | Items Processed |</pre>"
      ],
      "text/plain": [
       "| Elapsed Time (Constructing Lookups) | Total % Complete | Items Processed |"
      ]
     },
     "metadata": {},
     "output_type": "display_data"
    },
    {
     "data": {
      "text/html": [
       "<pre>+-------------------------------------+------------------+-----------------+</pre>"
      ],
      "text/plain": [
       "+-------------------------------------+------------------+-----------------+"
      ]
     },
     "metadata": {},
     "output_type": "display_data"
    },
    {
     "data": {
      "text/html": [
       "<pre>| 44.761ms                            | 0                | 0               |</pre>"
      ],
      "text/plain": [
       "| 44.761ms                            | 0                | 0               |"
      ]
     },
     "metadata": {},
     "output_type": "display_data"
    },
    {
     "data": {
      "text/html": [
       "<pre>| 84.528ms                            | 100              | 300             |</pre>"
      ],
      "text/plain": [
       "| 84.528ms                            | 100              | 300             |"
      ]
     },
     "metadata": {},
     "output_type": "display_data"
    },
    {
     "data": {
      "text/html": [
       "<pre>+-------------------------------------+------------------+-----------------+</pre>"
      ],
      "text/plain": [
       "+-------------------------------------+------------------+-----------------+"
      ]
     },
     "metadata": {},
     "output_type": "display_data"
    },
    {
     "data": {
      "text/html": [
       "<pre>Finalizing lookup tables.</pre>"
      ],
      "text/plain": [
       "Finalizing lookup tables."
      ]
     },
     "metadata": {},
     "output_type": "display_data"
    },
    {
     "data": {
      "text/html": [
       "<pre>Generating candidate set for working with new users.</pre>"
      ],
      "text/plain": [
       "Generating candidate set for working with new users."
      ]
     },
     "metadata": {},
     "output_type": "display_data"
    },
    {
     "data": {
      "text/html": [
       "<pre>Finished training in 0.116019s</pre>"
      ],
      "text/plain": [
       "Finished training in 0.116019s"
      ]
     },
     "metadata": {},
     "output_type": "display_data"
    },
    {
     "data": {
      "text/html": [
       "<pre>recommendations finished on 1000/1000 queries. users per second: 34273.6</pre>"
      ],
      "text/plain": [
       "recommendations finished on 1000/1000 queries. users per second: 34273.6"
      ]
     },
     "metadata": {},
     "output_type": "display_data"
    },
    {
     "name": "stdout",
     "output_type": "stream",
     "text": [
      "+------------+-----------+----------------------+------+\n",
      "| customerId | productId |        score         | rank |\n",
      "+------------+-----------+----------------------+------+\n",
      "|    1553    |     2     | 0.12324784994125366  |  1   |\n",
      "|    1553    |     35    | 0.10447167158126831  |  2   |\n",
      "|    1553    |     1     | 0.10348175764083863  |  3   |\n",
      "|    1553    |     5     |  0.0906752586364746  |  4   |\n",
      "|    1553    |     17    | 0.07659814357757569  |  5   |\n",
      "|    1553    |     21    | 0.07491707801818848  |  6   |\n",
      "|    1553    |     33    |  0.0668614387512207  |  7   |\n",
      "|    1553    |     47    | 0.06058878898620605  |  8   |\n",
      "|    1553    |     61    | 0.060317397117614746 |  9   |\n",
      "|    1553    |     15    | 0.05949603319168091  |  10  |\n",
      "|   20400    |     26    | 0.05812269449234009  |  1   |\n",
      "|   20400    |     6     | 0.05361741781234741  |  2   |\n",
      "|   20400    |    113    | 0.05312788486480713  |  3   |\n",
      "|   20400    |     1     | 0.05210459232330322  |  4   |\n",
      "|   20400    |     15    | 0.047683894634246826 |  5   |\n",
      "|   20400    |     27    | 0.044673383235931396 |  6   |\n",
      "|   20400    |     13    | 0.04383981227874756  |  7   |\n",
      "|   20400    |    246    | 0.04373115301132202  |  8   |\n",
      "|   20400    |    160    | 0.04251152276992798  |  9   |\n",
      "|   20400    |     4     | 0.04242873191833496  |  10  |\n",
      "|   19750    |     36    | 0.12405195832252502  |  1   |\n",
      "|   19750    |     48    | 0.12394710381825765  |  2   |\n",
      "|   19750    |     38    | 0.11321703592936198  |  3   |\n",
      "|   19750    |     1     |  0.1038620372613271  |  4   |\n",
      "|   19750    |     79    | 0.09457860390345256  |  5   |\n",
      "|   19750    |     2     | 0.09022133549054463  |  6   |\n",
      "|   19750    |    112    | 0.06896927952766418  |  7   |\n",
      "|   19750    |     21    | 0.06544352571169536  |  8   |\n",
      "|   19750    |    194    | 0.061924477418263756 |  9   |\n",
      "|   19750    |     33    | 0.060228586196899414 |  10  |\n",
      "+------------+-----------+----------------------+------+\n",
      "[10000 rows x 4 columns]\n",
      "\n"
     ]
    }
   ],
   "source": [
    "final_model = tc.item_similarity_recommender.create(tc.SFrame(data_dummy), \n",
    "                                            user_id=user_id, \n",
    "                                            item_id=item_id, \n",
    "                                            target='purchase_dummy', similarity_type='cosine')\n",
    "recom = final_model.recommend(users=users_to_recommend, k=n_rec)\n",
    "recom.print_rows(n_display)"
   ]
  },
  {
   "cell_type": "code",
   "execution_count": 109,
   "metadata": {},
   "outputs": [
    {
     "name": "stdout",
     "output_type": "stream",
     "text": [
      "(10000, 4)\n"
     ]
    },
    {
     "data": {
      "text/html": [
       "<div>\n",
       "<style>\n",
       "    .dataframe thead tr:only-child th {\n",
       "        text-align: right;\n",
       "    }\n",
       "\n",
       "    .dataframe thead th {\n",
       "        text-align: left;\n",
       "    }\n",
       "\n",
       "    .dataframe tbody tr th {\n",
       "        vertical-align: top;\n",
       "    }\n",
       "</style>\n",
       "<table border=\"1\" class=\"dataframe\">\n",
       "  <thead>\n",
       "    <tr style=\"text-align: right;\">\n",
       "      <th></th>\n",
       "      <th>customerId</th>\n",
       "      <th>productId</th>\n",
       "      <th>score</th>\n",
       "      <th>rank</th>\n",
       "    </tr>\n",
       "  </thead>\n",
       "  <tbody>\n",
       "    <tr>\n",
       "      <th>0</th>\n",
       "      <td>1553</td>\n",
       "      <td>2</td>\n",
       "      <td>0.123248</td>\n",
       "      <td>1</td>\n",
       "    </tr>\n",
       "    <tr>\n",
       "      <th>1</th>\n",
       "      <td>1553</td>\n",
       "      <td>35</td>\n",
       "      <td>0.104472</td>\n",
       "      <td>2</td>\n",
       "    </tr>\n",
       "    <tr>\n",
       "      <th>2</th>\n",
       "      <td>1553</td>\n",
       "      <td>1</td>\n",
       "      <td>0.103482</td>\n",
       "      <td>3</td>\n",
       "    </tr>\n",
       "    <tr>\n",
       "      <th>3</th>\n",
       "      <td>1553</td>\n",
       "      <td>5</td>\n",
       "      <td>0.090675</td>\n",
       "      <td>4</td>\n",
       "    </tr>\n",
       "    <tr>\n",
       "      <th>4</th>\n",
       "      <td>1553</td>\n",
       "      <td>17</td>\n",
       "      <td>0.076598</td>\n",
       "      <td>5</td>\n",
       "    </tr>\n",
       "  </tbody>\n",
       "</table>\n",
       "</div>"
      ],
      "text/plain": [
       "   customerId  productId     score  rank\n",
       "0        1553          2  0.123248     1\n",
       "1        1553         35  0.104472     2\n",
       "2        1553          1  0.103482     3\n",
       "3        1553          5  0.090675     4\n",
       "4        1553         17  0.076598     5"
      ]
     },
     "execution_count": 109,
     "metadata": {},
     "output_type": "execute_result"
    }
   ],
   "source": [
    "df_rec = recom.to_dataframe()\n",
    "print(df_rec.shape)\n",
    "df_rec.head()"
   ]
  },
  {
   "cell_type": "code",
   "execution_count": 114,
   "metadata": {
    "collapsed": true
   },
   "outputs": [],
   "source": [
    "def create_output(model, users_to_recommend, n_rec, print_csv=True):\n",
    "    recomendation = model.recommend(users=users_to_recommend, k=n_rec)\n",
    "    df_rec = recomendation.to_dataframe()\n",
    "    df_rec['recommendedProducts'] = df_rec.groupby([user_id])[item_id] \\\n",
    "        .transform(lambda x: '|'.join(x.astype(str)))\n",
    "    df_output = df_rec[['customerId', 'recommendedProducts']].drop_duplicates() \\\n",
    "        .sort_values('customerId').set_index('customerId')\n",
    "    if print_csv:\n",
    "        df_output.to_csv('./data/output/option1_recommendation.csv')\n",
    "        print(\"An output file can be found in 'output' folder with name 'option1_recommendation.csv'\")\n",
    "    return df_output"
   ]
  },
  {
   "cell_type": "code",
   "execution_count": 115,
   "metadata": {},
   "outputs": [
    {
     "data": {
      "text/html": [
       "<pre>recommendations finished on 1000/1000 queries. users per second: 58802.8</pre>"
      ],
      "text/plain": [
       "recommendations finished on 1000/1000 queries. users per second: 58802.8"
      ]
     },
     "metadata": {},
     "output_type": "display_data"
    },
    {
     "name": "stdout",
     "output_type": "stream",
     "text": [
      "An output file can be found in 'output' folder with name 'option1_recommendation.csv'\n",
      "(1000, 1)\n"
     ]
    },
    {
     "data": {
      "text/html": [
       "<div>\n",
       "<style>\n",
       "    .dataframe thead tr:only-child th {\n",
       "        text-align: right;\n",
       "    }\n",
       "\n",
       "    .dataframe thead th {\n",
       "        text-align: left;\n",
       "    }\n",
       "\n",
       "    .dataframe tbody tr th {\n",
       "        vertical-align: top;\n",
       "    }\n",
       "</style>\n",
       "<table border=\"1\" class=\"dataframe\">\n",
       "  <thead>\n",
       "    <tr style=\"text-align: right;\">\n",
       "      <th></th>\n",
       "      <th>recommendedProducts</th>\n",
       "    </tr>\n",
       "    <tr>\n",
       "      <th>customerId</th>\n",
       "      <th></th>\n",
       "    </tr>\n",
       "  </thead>\n",
       "  <tbody>\n",
       "    <tr>\n",
       "      <th>4</th>\n",
       "      <td>226|247|230|125|248|276|294|83|72|204</td>\n",
       "    </tr>\n",
       "    <tr>\n",
       "      <th>11</th>\n",
       "      <td>226|247|230|125|248|276|294|83|72|204</td>\n",
       "    </tr>\n",
       "    <tr>\n",
       "      <th>12</th>\n",
       "      <td>226|247|230|125|248|276|294|83|72|204</td>\n",
       "    </tr>\n",
       "    <tr>\n",
       "      <th>16</th>\n",
       "      <td>226|247|230|125|248|276|294|83|72|204</td>\n",
       "    </tr>\n",
       "    <tr>\n",
       "      <th>21</th>\n",
       "      <td>226|247|230|125|248|276|294|83|72|204</td>\n",
       "    </tr>\n",
       "  </tbody>\n",
       "</table>\n",
       "</div>"
      ],
      "text/plain": [
       "                              recommendedProducts\n",
       "customerId                                       \n",
       "4           226|247|230|125|248|276|294|83|72|204\n",
       "11          226|247|230|125|248|276|294|83|72|204\n",
       "12          226|247|230|125|248|276|294|83|72|204\n",
       "16          226|247|230|125|248|276|294|83|72|204\n",
       "21          226|247|230|125|248|276|294|83|72|204"
      ]
     },
     "execution_count": 115,
     "metadata": {},
     "output_type": "execute_result"
    }
   ],
   "source": [
    "df_output = create_output(pear_norm, users_to_recommend, n_rec, print_csv=True)\n",
    "print(df_output.shape)\n",
    "df_output.head()"
   ]
  },
  {
   "cell_type": "markdown",
   "metadata": {},
   "source": [
    "### Customer recommendation function\n",
    "Given a customer Id return the list of recommended products"
   ]
  },
  {
   "cell_type": "code",
   "execution_count": 116,
   "metadata": {
    "collapsed": true
   },
   "outputs": [],
   "source": [
    "def customer_recomendation(customer_id):\n",
    "    if customer_id not in df_output.index:\n",
    "        print('Customer not found.')\n",
    "        return customer_id\n",
    "    return df_output.loc[customer_id]"
   ]
  },
  {
   "cell_type": "code",
   "execution_count": 118,
   "metadata": {},
   "outputs": [
    {
     "data": {
      "text/plain": [
       "recommendedProducts    226|247|230|125|248|276|294|83|72|204\n",
       "Name: 4, dtype: object"
      ]
     },
     "execution_count": 118,
     "metadata": {},
     "output_type": "execute_result"
    }
   ],
   "source": [
    "customer_recomendation(4)"
   ]
  },
  {
   "cell_type": "code",
   "execution_count": 119,
   "metadata": {},
   "outputs": [
    {
     "data": {
      "text/plain": [
       "recommendedProducts    226|247|230|125|248|276|294|83|72|204\n",
       "Name: 21, dtype: object"
      ]
     },
     "execution_count": 119,
     "metadata": {},
     "output_type": "execute_result"
    }
   ],
   "source": [
    "customer_recomendation(21)"
   ]
  },
  {
   "cell_type": "code",
   "execution_count": null,
   "metadata": {
    "collapsed": true
   },
   "outputs": [],
   "source": []
  }
 ],
 "metadata": {
  "kernelspec": {
   "display_name": "Python 3",
   "language": "python",
   "name": "python3"
  },
  "language_info": {
   "codemirror_mode": {
    "name": "ipython",
    "version": 3
   },
   "file_extension": ".py",
   "mimetype": "text/x-python",
   "name": "python",
   "nbconvert_exporter": "python",
   "pygments_lexer": "ipython3",
   "version": "3.6.1"
  }
 },
 "nbformat": 4,
 "nbformat_minor": 2
}
