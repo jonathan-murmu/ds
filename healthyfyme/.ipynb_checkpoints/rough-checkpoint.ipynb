{
 "cells": [
  {
   "cell_type": "code",
   "execution_count": 226,
   "metadata": {
    "collapsed": true
   },
   "outputs": [],
   "source": [
    "import datetime\n",
    "from datetime import timedelta\n",
    "import time"
   ]
  },
  {
   "cell_type": "code",
   "execution_count": 202,
   "metadata": {
    "collapsed": true
   },
   "outputs": [],
   "source": [
    "INP_3 = [\n",
    "    [  # Monday\n",
    "        {\"start_time\": \"06:00\", \"end_time\": \"06:30\"},\n",
    "        {\"start_time\": \"06:30\", \"end_time\": \"07:00\"},\n",
    "    ], [  # Tuesday\n",
    "        {\"start_time\": \"06:00\", \"end_time\": \"06:30\"},\n",
    "        {\"start_time\": \"07:00\", \"end_time\": \"07:30\"},\n",
    "        {\"start_time\": \"07:30\", \"end_time\": \"07:45\"}\n",
    "    ], [  # Wednesday\n",
    "    ], [  # Thursday\n",
    "        {\"start_time\": \"09:00\", \"end_time\": \"10:00\"}\n",
    "    ], [  # Friday\n",
    "    ], [  # Saturday\n",
    "    ], [  # Sunday\n",
    "    ]\n",
    "]\n",
    "INP_1 = [\n",
    "    [  # Monday\n",
    "        {\"start_time\": \"06:00\", \"end_time\": \"06:30\"},\n",
    "        {\"start_time\": \"06:30\", \"end_time\": \"07:00\"},\n",
    "        {\"start_time\": \"07:00\", \"end_time\": \"07:30\"},\n",
    "        {\"start_time\": \"07:30\", \"end_time\": \"08:00\"}\n",
    "    ], [  # Tuesday\n",
    "    ], [  # Wednesday\n",
    "        {\"start_time\": \"06:00\", \"end_time\": \"06:30\"},\n",
    "        {\"start_time\": \"06:30\", \"end_time\": \"07:00\"},\n",
    "        {\"start_time\": \"07:00\", \"end_time\": \"07:30\"},\n",
    "        {\"start_time\": \"07:30\", \"end_time\": \"08:00\"}\n",
    "    ], [  # Thursday\n",
    "        {\"start_time\": \"09:00\", \"end_time\": \"09:30\"},\n",
    "        {\"start_time\": \"09:30\", \"end_time\": \"10:00\"},\n",
    "        {\"start_time\": \"10:00\", \"end_time\": \"10:30\"},\n",
    "        {\"start_time\": \"10:30\", \"end_time\": \"11:00\"}\n",
    "    ], [  # Friday\n",
    "    ], [  # Saturday\n",
    "    ], [  # Sunday\n",
    "    ]\n",
    "]\n",
    "INP_2 = [\n",
    "    [],\n",
    "    [],\n",
    "    [],\n",
    "    [],\n",
    "    [],\n",
    "    [],\n",
    "    []\n",
    "]"
   ]
  },
  {
   "cell_type": "code",
   "execution_count": 276,
   "metadata": {},
   "outputs": [],
   "source": [
    "n = 10\n",
    "def input_reader(inp):\n",
    "    for index, daytime in enumerate(inp):\n",
    "        for time in daytime:\n",
    "#             if index == 7:\n",
    "#                 day = 0\n",
    "#             else:\n",
    "#                 day = index + 1\n",
    "                \n",
    "            yield (day, time)\n"
   ]
  },
  {
   "cell_type": "code",
   "execution_count": 277,
   "metadata": {},
   "outputs": [],
   "source": [
    "for i in input_reader(INP_2):\n",
    "    print(i)"
   ]
  },
  {
   "cell_type": "code",
   "execution_count": 278,
   "metadata": {
    "collapsed": true
   },
   "outputs": [],
   "source": [
    "def read_time(input_time, start_end):\n",
    "    try:\n",
    "        time_hr = input_time[1][start_end].split(':')[0]\n",
    "    except:\n",
    "        time_hr = None\n",
    "    try:\n",
    "        time_min = input_time[1][start_end].split(':')[1]\n",
    "    except:\n",
    "        time_min = None\n",
    "        \n",
    "    return time_hr, time_min\n",
    "        "
   ]
  },
  {
   "cell_type": "code",
   "execution_count": 279,
   "metadata": {},
   "outputs": [],
   "source": [
    "# class datetime.timedelta(days=0, seconds=0, microseconds=0, milliseconds=0, minutes=0, hours=0, weeks=0)\n",
    "def get_next_n_slots(week_config, current_time, n=10):\n",
    "    next_n_slots = []\n",
    "    # Write the function which would get the next `n` slots from the current time\n",
    "    print(current_time)\n",
    "    print(\n",
    "        \n",
    "    )\n",
    "    # initialize the current datetime to 00:00 hours, so that it can be added correclty later on.\n",
    "    # if current_time is 2017-01-01 20:30:00, after initialization 2017-01-01 00:00:00\n",
    "    c = datetime.datetime.strptime(\"{0:%Y}-{0:%m}-{0:%d} 00:00:00\".format(current_time), \"%Y-%d-%m %H:%M:%S\")\n",
    "    print(c.day)  # day date\n",
    "    \n",
    "    week_days = 0  # no. of days in week\n",
    "    count = 0\n",
    "    x = 0\n",
    "    start_point = True\n",
    "    while count < n and x < n:\n",
    "        # add 1 day  and s_time to the current time\n",
    "        for input_time in input_reader(week_config):\n",
    "#             print(input_time, count, n)\n",
    "            # finf the start point from the input time\n",
    "            if start_point:\n",
    "                current_day= int(\"{0:%w}\".format(current_time))\n",
    "                inp_day = input_time[0]\n",
    "                print(current_day, inp_day)\n",
    "                if current_day == inp_day:\n",
    "                    #same day, so now compare time\n",
    "                    s_time = input_time[1]['start_time']\n",
    "                    new_s_time = datetime.datetime.strptime(\"{0:%Y}-{0:%m}-{0:%d} {1}:00\".format(cur, s_time), \"%Y-%d-%m %H:%M:%S\")\n",
    "                    if current_time.time() > new_s_time.time():\n",
    "                        continue\n",
    "                    else:\n",
    "                        # this is the start point\n",
    "                        start_point = False\n",
    "                else:\n",
    "                    continue\n",
    "                    \n",
    "            \n",
    "            count += 1\n",
    "            day = input_time[0]  # 1 for Monday, 2 Tuesday and so on...\n",
    "            start_time_hr, start_time_min = read_time(input_time, 'start_time')\n",
    "            end_time_hr, end_time_min = read_time(input_time, 'end_time')\n",
    "            \n",
    "            print(input_time, count, n)\n",
    "            new_start_time=c + timedelta(days=day+week_days, hours=int(start_time_hr), minutes=int(start_time_min))\n",
    "            new_end_time=c + timedelta(days=day+week_days, hours=int(end_time_hr), minutes=int(end_time_min))\n",
    "            \n",
    "            next_n_slots.append({\n",
    "                'start_time':  new_start_time.strftime(\"%Y-%m-%d %H:%M:%S\"),\n",
    "                'end_time': new_end_time.strftime(\"%Y-%m-%d %H:%M:%S\"),\n",
    "            })\n",
    "    \n",
    "            if count == n:\n",
    "                break\n",
    "        x += 1\n",
    "        week_days += 7\n",
    "#     next_n_slots = []\n",
    "    return next_n_slots"
   ]
  },
  {
   "cell_type": "code",
   "execution_count": 280,
   "metadata": {},
   "outputs": [
    {
     "name": "stdout",
     "output_type": "stream",
     "text": [
      "2017-01-01 20:30:00\n",
      "\n",
      "1\n",
      "0 1\n",
      "0 1\n",
      "0 2\n",
      "0 2\n",
      "0 2\n",
      "0 4\n",
      "0 1\n",
      "0 1\n",
      "0 2\n",
      "0 2\n",
      "0 2\n",
      "0 4\n",
      "0 1\n",
      "0 1\n",
      "0 2\n",
      "0 2\n",
      "0 2\n",
      "0 4\n",
      "0 1\n",
      "0 1\n",
      "0 2\n",
      "0 2\n",
      "0 2\n",
      "0 4\n",
      "0 1\n",
      "0 1\n",
      "0 2\n",
      "0 2\n",
      "0 2\n",
      "0 4\n",
      "0 1\n",
      "0 1\n",
      "0 2\n",
      "0 2\n",
      "0 2\n",
      "0 4\n",
      "0 1\n",
      "0 1\n",
      "0 2\n",
      "0 2\n",
      "0 2\n",
      "0 4\n",
      "0 1\n",
      "0 1\n",
      "0 2\n",
      "0 2\n",
      "0 2\n",
      "0 4\n",
      "0 1\n",
      "0 1\n",
      "0 2\n",
      "0 2\n",
      "0 2\n",
      "0 4\n",
      "0 1\n",
      "0 1\n",
      "0 2\n",
      "0 2\n",
      "0 2\n",
      "0 4\n"
     ]
    },
    {
     "data": {
      "text/plain": [
       "[]"
      ]
     },
     "execution_count": 280,
     "metadata": {},
     "output_type": "execute_result"
    }
   ],
   "source": [
    "cur = datetime.datetime(2017, 1, 1, 20, 30)\n",
    "get_next_n_slots(INP_3, cur, n=10)"
   ]
  },
  {
   "cell_type": "code",
   "execution_count": 221,
   "metadata": {},
   "outputs": [
    {
     "data": {
      "text/plain": [
       "datetime.datetime(2017, 1, 1, 20, 30)"
      ]
     },
     "execution_count": 221,
     "metadata": {},
     "output_type": "execute_result"
    }
   ],
   "source": [
    "cur"
   ]
  },
  {
   "cell_type": "code",
   "execution_count": 222,
   "metadata": {},
   "outputs": [
    {
     "data": {
      "text/plain": [
       "datetime.time(20, 30)"
      ]
     },
     "execution_count": 222,
     "metadata": {},
     "output_type": "execute_result"
    }
   ],
   "source": [
    "cur.time()"
   ]
  },
  {
   "cell_type": "code",
   "execution_count": 237,
   "metadata": {},
   "outputs": [
    {
     "data": {
      "text/plain": [
       "(0, 1)"
      ]
     },
     "execution_count": 237,
     "metadata": {},
     "output_type": "execute_result"
    }
   ],
   "source": [
    "cur_day= int(\"{0:%w}\".format(cur))  # sunday\n",
    "cur_date = cur.day\n",
    "cur_day, cur_date"
   ]
  },
  {
   "cell_type": "code",
   "execution_count": 251,
   "metadata": {},
   "outputs": [
    {
     "data": {
      "text/plain": [
       "datetime.datetime(2017, 1, 1, 6, 0)"
      ]
     },
     "execution_count": 251,
     "metadata": {},
     "output_type": "execute_result"
    }
   ],
   "source": [
    "inp = (1, {'start_time': '06:00', 'end_time': '06:30'})\n",
    "inp_day = inp[0]\n",
    "s_time = inp[1]['start_time']\n",
    "x_time = datetime.datetime.strptime(\"{0:%Y}-{0:%m}-{0:%d} {1}:00\".format(cur, s_time), \"%Y-%d-%m %H:%M:%S\")\n",
    "x_time\n"
   ]
  },
  {
   "cell_type": "code",
   "execution_count": 239,
   "metadata": {},
   "outputs": [
    {
     "data": {
      "text/plain": [
       "datetime.datetime(2017, 1, 2, 2, 30)"
      ]
     },
     "execution_count": 239,
     "metadata": {},
     "output_type": "execute_result"
    }
   ],
   "source": [
    "new = cur + timedelta(hours=6, minutes=0)\n",
    "new"
   ]
  },
  {
   "cell_type": "code",
   "execution_count": 240,
   "metadata": {},
   "outputs": [
    {
     "name": "stdout",
     "output_type": "stream",
     "text": [
      "next day\n"
     ]
    }
   ],
   "source": [
    "if cur.day != new.day:\n",
    "    print('next day')\n",
    "else:\n",
    "    print('same day')"
   ]
  },
  {
   "cell_type": "code",
   "execution_count": 252,
   "metadata": {},
   "outputs": [
    {
     "data": {
      "text/plain": [
       "True"
      ]
     },
     "execution_count": 252,
     "metadata": {},
     "output_type": "execute_result"
    }
   ],
   "source": [
    "cur.time() > x_time.time()"
   ]
  },
  {
   "cell_type": "code",
   "execution_count": null,
   "metadata": {
    "collapsed": true
   },
   "outputs": [],
   "source": []
  }
 ],
 "metadata": {
  "kernelspec": {
   "display_name": "Python 3",
   "language": "python",
   "name": "python3"
  },
  "language_info": {
   "codemirror_mode": {
    "name": "ipython",
    "version": 3
   },
   "file_extension": ".py",
   "mimetype": "text/x-python",
   "name": "python",
   "nbconvert_exporter": "python",
   "pygments_lexer": "ipython3",
   "version": "3.6.1"
  }
 },
 "nbformat": 4,
 "nbformat_minor": 2
}
