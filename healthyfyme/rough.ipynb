{
 "cells": [
  {
   "cell_type": "code",
   "execution_count": 135,
   "metadata": {
    "collapsed": true
   },
   "outputs": [],
   "source": [
    "import datetime\n",
    "from datetime import timedelta\n",
    "import time"
   ]
  },
  {
   "cell_type": "code",
   "execution_count": 136,
   "metadata": {
    "collapsed": true
   },
   "outputs": [],
   "source": [
    "INP_3 = [\n",
    "    [  # Monday\n",
    "        {\"start_time\": \"06:00\", \"end_time\": \"06:30\"},\n",
    "        {\"start_time\": \"06:30\", \"end_time\": \"07:00\"},\n",
    "    ], [  # Tuesday\n",
    "        {\"start_time\": \"06:00\", \"end_time\": \"06:30\"},\n",
    "        {\"start_time\": \"07:00\", \"end_time\": \"07:30\"},\n",
    "        {\"start_time\": \"07:30\", \"end_time\": \"07:45\"}\n",
    "    ], [  # Wednesday\n",
    "    ], [  # Thursday\n",
    "        {\"start_time\": \"09:00\", \"end_time\": \"10:00\"}\n",
    "    ], [  # Friday\n",
    "    ], [  # Saturday\n",
    "    ], [  # Sunday\n",
    "    ]\n",
    "]\n",
    "INP_1 = [\n",
    "    [  # Monday\n",
    "        {\"start_time\": \"06:00\", \"end_time\": \"06:30\"},\n",
    "        {\"start_time\": \"06:30\", \"end_time\": \"07:00\"},\n",
    "        {\"start_time\": \"07:00\", \"end_time\": \"07:30\"},\n",
    "        {\"start_time\": \"07:30\", \"end_time\": \"08:00\"}\n",
    "    ], [  # Tuesday\n",
    "    ], [  # Wednesday\n",
    "        {\"start_time\": \"06:00\", \"end_time\": \"06:30\"},\n",
    "        {\"start_time\": \"06:30\", \"end_time\": \"07:00\"},\n",
    "        {\"start_time\": \"07:00\", \"end_time\": \"07:30\"},\n",
    "        {\"start_time\": \"07:30\", \"end_time\": \"08:00\"}\n",
    "    ], [  # Thursday\n",
    "        {\"start_time\": \"09:00\", \"end_time\": \"09:30\"},\n",
    "        {\"start_time\": \"09:30\", \"end_time\": \"10:00\"},\n",
    "        {\"start_time\": \"10:00\", \"end_time\": \"10:30\"},\n",
    "        {\"start_time\": \"10:30\", \"end_time\": \"11:00\"}\n",
    "    ], [  # Friday\n",
    "    ], [  # Saturday\n",
    "    ], [  # Sunday\n",
    "    ]\n",
    "]\n",
    "INP_2 = [\n",
    "    [],\n",
    "    [],\n",
    "    [],\n",
    "    [],\n",
    "    [],\n",
    "    [],\n",
    "    []\n",
    "]"
   ]
  },
  {
   "cell_type": "code",
   "execution_count": 156,
   "metadata": {
    "collapsed": true
   },
   "outputs": [],
   "source": [
    "n = 10\n",
    "def input_reader(inp):\n",
    "    for index, daytime in enumerate(inp):\n",
    "        for time in daytime:\n",
    "            if index == 7:\n",
    "                day = 0\n",
    "            else:\n",
    "                day = index + 1\n",
    "            # yeilds 0 for Sunday, 1 Monday, 7 Saturday\n",
    "            yield (day, time)\n"
   ]
  },
  {
   "cell_type": "code",
   "execution_count": 157,
   "metadata": {},
   "outputs": [
    {
     "name": "stdout",
     "output_type": "stream",
     "text": [
      "[(1, {'start_time': '06:00', 'end_time': '06:30'}), (1, {'start_time': '06:30', 'end_time': '07:00'}), (2, {'start_time': '06:00', 'end_time': '06:30'}), (2, {'start_time': '07:00', 'end_time': '07:30'}), (2, {'start_time': '07:30', 'end_time': '07:45'}), (4, {'start_time': '09:00', 'end_time': '10:00'})]\n"
     ]
    }
   ],
   "source": [
    "a = [i for i in input_reader(INP_3)]\n",
    "print(a)"
   ]
  },
  {
   "cell_type": "code",
   "execution_count": 158,
   "metadata": {
    "collapsed": true
   },
   "outputs": [],
   "source": [
    "def read_time(input_time, start_end):\n",
    "    try:\n",
    "        return input_time[1][start_end]\n",
    "    except:\n",
    "        return None\n",
    "#     try:\n",
    "#         time_hr = input_time[1][start_end].split(':')[0]\n",
    "#     except:\n",
    "#         time_hr = None\n",
    "#     try:\n",
    "#         time_min = input_time[1][start_end].split(':')[1]\n",
    "#     except:\n",
    "#         time_min = None\n",
    "        \n",
    "#     return time_hr, time_min\n",
    "        "
   ]
  },
  {
   "cell_type": "code",
   "execution_count": null,
   "metadata": {
    "collapsed": true
   },
   "outputs": [],
   "source": []
  },
  {
   "cell_type": "code",
   "execution_count": 159,
   "metadata": {
    "collapsed": true
   },
   "outputs": [],
   "source": [
    "# class datetime.timedelta(days=0, seconds=0, microseconds=0, milliseconds=0, minutes=0, hours=0, weeks=0)\n",
    "def get_next_n_slots(week_config, current_time, n=10):\n",
    "    next_n_slots = []\n",
    "    # Write the function which would get the next `n` slots from the current time\n",
    "    \n",
    "    week_days = 0  # no. of days in week\n",
    "    count = 0\n",
    "    x = 0\n",
    "    start_point = True\n",
    "    while count < n and x < n:\n",
    "        for input_time in input_reader(week_config):\n",
    "\n",
    "            current_day= int(\"{0:%w}\".format(current_time))  # 0 for Sunday, 1-Monday, 7-Saturday\n",
    "            inp_day = input_time[0]  # 0 for Sunday, 1-Monday, 7-Saturday\n",
    "\n",
    "            # finf the start point from the input time\n",
    "            if start_point:\n",
    "                if current_day == inp_day:\n",
    "                    #same day, so now compare time\n",
    "                    s_time = input_time[1]['start_time']\n",
    "                    new_s_time = datetime.datetime.strptime(\"{0:%Y}-{0:%m}-{0:%d} {1}:00\".format(current_time, s_time), \"%Y-%m-%d %H:%M:%S\")\n",
    "                    # NOTE start time is inclusive\n",
    "                    if current_time.time() > new_s_time.time():\n",
    "                        # go to next time in the input\n",
    "                        continue\n",
    "                    else:\n",
    "                        # found the start point in the same day\n",
    "                        start_point = False\n",
    "                elif current_day < inp_day:\n",
    "                    # found the start point in the next day\n",
    "                    start_point = False\n",
    "                else:\n",
    "                    # previous or older day\n",
    "                    continue\n",
    "            # Now iterate over the inputs from the start point and populate the output\n",
    "            count += 1\n",
    "            # Read time from the input\n",
    "            start_time = read_time(input_time, 'start_time')\n",
    "            end_time = read_time(input_time, 'end_time')\n",
    "            \n",
    "            new_start_time = datetime.datetime.strptime(\"{0:%Y}-{0:%m}-{0:%d} {1}:00\".format(current_time, start_time), \"%Y-%m-%d %H:%M:%S\")\n",
    "            new_end_time = datetime.datetime.strptime(\"{0:%Y}-{0:%m}-{0:%d} {1}:00\".format(current_time, end_time), \"%Y-%m-%d %H:%M:%S\")\n",
    "            \n",
    "            new_start_time = (new_start_time - timedelta(days=current_day)) + timedelta(days=inp_day+week_days)\n",
    "            new_end_time = (new_end_time - timedelta(days=current_day)) + timedelta(days=inp_day+week_days)\n",
    "            \n",
    "#             print(input_time, count, n, start_time_hr, start_time_min,new_s_time)\n",
    "\n",
    "            next_n_slots.append({\n",
    "                'start_time':  new_start_time.strftime(\"%Y-%m-%d %H:%M:%S\"),\n",
    "                'end_time': new_end_time.strftime(\"%Y-%m-%d %H:%M:%S\"),\n",
    "            })\n",
    "    \n",
    "            if count == n:\n",
    "                break\n",
    "        x += 1\n",
    "        week_days += 7\n",
    "#     next_n_slots = []\n",
    "    return next_n_slots"
   ]
  },
  {
   "cell_type": "code",
   "execution_count": 160,
   "metadata": {},
   "outputs": [
    {
     "data": {
      "text/plain": [
       "[{'start_time': '2017-01-04 06:00:00', 'end_time': '2017-01-04 06:30:00'},\n",
       " {'start_time': '2017-01-04 06:30:00', 'end_time': '2017-01-04 07:00:00'},\n",
       " {'start_time': '2017-01-04 07:00:00', 'end_time': '2017-01-04 07:30:00'},\n",
       " {'start_time': '2017-01-04 07:30:00', 'end_time': '2017-01-04 08:00:00'},\n",
       " {'start_time': '2017-01-05 09:00:00', 'end_time': '2017-01-05 09:30:00'},\n",
       " {'start_time': '2017-01-05 09:30:00', 'end_time': '2017-01-05 10:00:00'},\n",
       " {'start_time': '2017-01-05 10:00:00', 'end_time': '2017-01-05 10:30:00'},\n",
       " {'start_time': '2017-01-05 10:30:00', 'end_time': '2017-01-05 11:00:00'},\n",
       " {'start_time': '2017-01-09 06:00:00', 'end_time': '2017-01-09 06:30:00'},\n",
       " {'start_time': '2017-01-09 06:30:00', 'end_time': '2017-01-09 07:00:00'}]"
      ]
     },
     "execution_count": 160,
     "metadata": {},
     "output_type": "execute_result"
    }
   ],
   "source": [
    "cur = datetime.datetime(2017, 1, 3, 6, 15)  # year month day hr min\n",
    "get_next_n_slots(INP_1, cur, n=10)\n",
    "# \"{0:%w} {0:%A} {0:%Y} {0:%m} {0:%d}\".format(cur)"
   ]
  },
  {
   "cell_type": "code",
   "execution_count": 121,
   "metadata": {},
   "outputs": [
    {
     "data": {
      "text/plain": [
       "datetime.datetime(2017, 1, 1, 20, 30)"
      ]
     },
     "execution_count": 121,
     "metadata": {},
     "output_type": "execute_result"
    }
   ],
   "source": [
    "cur"
   ]
  },
  {
   "cell_type": "code",
   "execution_count": 10,
   "metadata": {},
   "outputs": [
    {
     "data": {
      "text/plain": [
       "datetime.time(20, 30)"
      ]
     },
     "execution_count": 10,
     "metadata": {},
     "output_type": "execute_result"
    }
   ],
   "source": [
    "cur.time()"
   ]
  },
  {
   "cell_type": "code",
   "execution_count": 11,
   "metadata": {},
   "outputs": [
    {
     "data": {
      "text/plain": [
       "(1, 2)"
      ]
     },
     "execution_count": 11,
     "metadata": {},
     "output_type": "execute_result"
    }
   ],
   "source": [
    "cur_day= int(\"{0:%w}\".format(cur))  # sunday\n",
    "cur_date = cur.day\n",
    "cur_day, cur_date"
   ]
  },
  {
   "cell_type": "code",
   "execution_count": 12,
   "metadata": {},
   "outputs": [
    {
     "data": {
      "text/plain": [
       "datetime.datetime(2017, 2, 1, 6, 0)"
      ]
     },
     "execution_count": 12,
     "metadata": {},
     "output_type": "execute_result"
    }
   ],
   "source": [
    "inp = (1, {'start_time': '06:00', 'end_time': '06:30'})\n",
    "inp_day = inp[0]\n",
    "s_time = inp[1]['start_time']\n",
    "x_time = datetime.datetime.strptime(\"{0:%Y}-{0:%m}-{0:%d} {1}:00\".format(cur, s_time), \"%Y-%d-%m %H:%M:%S\")\n",
    "x_time\n"
   ]
  },
  {
   "cell_type": "code",
   "execution_count": 13,
   "metadata": {},
   "outputs": [
    {
     "data": {
      "text/plain": [
       "datetime.datetime(2017, 1, 3, 2, 30)"
      ]
     },
     "execution_count": 13,
     "metadata": {},
     "output_type": "execute_result"
    }
   ],
   "source": [
    "new = cur + timedelta(hours=6, minutes=0)\n",
    "new"
   ]
  },
  {
   "cell_type": "code",
   "execution_count": 14,
   "metadata": {},
   "outputs": [
    {
     "name": "stdout",
     "output_type": "stream",
     "text": [
      "next day\n"
     ]
    }
   ],
   "source": [
    "if cur.day != new.day:\n",
    "    print('next day')\n",
    "else:\n",
    "    print('same day')"
   ]
  },
  {
   "cell_type": "code",
   "execution_count": 15,
   "metadata": {},
   "outputs": [
    {
     "data": {
      "text/plain": [
       "True"
      ]
     },
     "execution_count": 15,
     "metadata": {},
     "output_type": "execute_result"
    }
   ],
   "source": [
    "cur.time() > x_time.time()"
   ]
  },
  {
   "cell_type": "code",
   "execution_count": 21,
   "metadata": {},
   "outputs": [
    {
     "data": {
      "text/plain": [
       "'2 Tuesday 2017 02 14'"
      ]
     },
     "execution_count": 21,
     "metadata": {},
     "output_type": "execute_result"
    }
   ],
   "source": [
    "cur = datetime.datetime(2017, 2, 14, 20, 30)\n",
    "\"{0:%w} {0:%A} {0:%Y} {0:%m} {0:%d}\".format(cur)"
   ]
  },
  {
   "cell_type": "code",
   "execution_count": null,
   "metadata": {
    "collapsed": true
   },
   "outputs": [],
   "source": []
  },
  {
   "cell_type": "code",
   "execution_count": null,
   "metadata": {
    "collapsed": true
   },
   "outputs": [],
   "source": []
  }
 ],
 "metadata": {
  "kernelspec": {
   "display_name": "Python 3",
   "language": "python",
   "name": "python3"
  },
  "language_info": {
   "codemirror_mode": {
    "name": "ipython",
    "version": 3
   },
   "file_extension": ".py",
   "mimetype": "text/x-python",
   "name": "python",
   "nbconvert_exporter": "python",
   "pygments_lexer": "ipython3",
   "version": "3.6.1"
  }
 },
 "nbformat": 4,
 "nbformat_minor": 2
}
