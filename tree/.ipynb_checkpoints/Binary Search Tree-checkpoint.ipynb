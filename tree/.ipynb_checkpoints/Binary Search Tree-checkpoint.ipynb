{
 "cells": [
  {
   "cell_type": "code",
   "execution_count": 35,
   "metadata": {},
   "outputs": [],
   "source": [
    "class TreeNode(object):\n",
    "    def __init__(self, key, value, parent=None, left_child=None, right_child=None):\n",
    "        self.key = key\n",
    "        self.payload = value\n",
    "        self.parent = parent\n",
    "        self.left_child = left_child\n",
    "        self.right_child = right_child\n",
    "\n",
    "    def has_left_child(self):\n",
    "        return self.left_child\n",
    "    def has_right_child(self):\n",
    "        return self.right_child\n",
    "    def has_parent(self):\n",
    "        return self.parent\n",
    "    def is_left_child(self):\n",
    "        return self.parent and self.parent.left_child == self\n",
    "    def is_right_child(self):\n",
    "        return self.parent and self.parent.right_child == self\n",
    "    def is_root(self):\n",
    "        return not self.parent\n",
    "    def is_leaf(self):\n",
    "        return not (self.left_child or self.right_child)\n",
    "\n",
    "class BinarySearchTree(object):\n",
    "    def __init__(self):\n",
    "        self.root = None\n",
    "        self.size = 0\n",
    "    def length(self):\n",
    "        return self.size\n",
    "    def __len__(self):\n",
    "        return self.size\n",
    "    def __setitem__(self,k,v):\n",
    "        self.put(k,v)\n",
    "    def __getitem__(self,key):\n",
    "        return self.get(key)\n",
    "    def __contains__(self,key):\n",
    "        if self.get(key):\n",
    "            return True\n",
    "        else:\n",
    "            return False\n",
    "    \n",
    "    def put(self, key, value):\n",
    "        if self.root == None:\n",
    "            self.root = TreeNode(key, value)\n",
    "            self.size += 1\n",
    "        else:\n",
    "            self._put(self.root, key, value)\n",
    "        self.size += 1\n",
    "        \n",
    "    def _put(self, current_node, key, value):\n",
    "        # if the new node is smaller than the current node, then goes to its left side\n",
    "        if key < current_node.key:\n",
    "            # check is the current has left child\n",
    "            if current_node.has_left_child():\n",
    "                self._put(current_node.left_child, key, value)\n",
    "            else:\n",
    "                current_node.left_child = TreeNode(key, value, parent=current_node)\n",
    "        # if the new node is larger than the current node, then goes to its right side\n",
    "        else:\n",
    "            if current_node.has_right_child():\n",
    "                self._put(current_node.right_child, key, value)\n",
    "            else:\n",
    "                current_node.right_child = TreeNode(key, value, parent=current_node)\n",
    "        \n",
    "    def get(self, key):\n",
    "        \"\"\"Given the key, return the payload\"\"\"  \n",
    "        if self.root == None:\n",
    "            return None\n",
    "        else:\n",
    "            return self._get(self.root, key)\n",
    "    \n",
    "    def _get(self, current_node, key):\n",
    "        # go left\n",
    "        if key < current_node.key:\n",
    "            return self._get(current_node.left_child, key)\n",
    "        # go right\n",
    "        elif key > current_node.key:\n",
    "            return self._get(current_node.right_child, key)\n",
    "        elif key == current_node.key:\n",
    "            return current_node.payload\n",
    "        else:\n",
    "            return None\n",
    "        \n",
    "        "
   ]
  },
  {
   "cell_type": "code",
   "execution_count": 36,
   "metadata": {},
   "outputs": [],
   "source": [
    "bst = BinarySearchTree()\n",
    "bst[4] = 'four'\n",
    "bst[3] = 'three'\n",
    "bst[1] = 'one'\n",
    "bst[7] = 'seven'\n",
    "bst[10] = 'ten'"
   ]
  },
  {
   "cell_type": "code",
   "execution_count": 37,
   "metadata": {},
   "outputs": [
    {
     "name": "stdout",
     "output_type": "stream",
     "text": [
      "one\n"
     ]
    }
   ],
   "source": [
    "print(bst[1])"
   ]
  },
  {
   "cell_type": "code",
   "execution_count": 20,
   "metadata": {},
   "outputs": [
    {
     "data": {
      "text/plain": [
       "1"
      ]
     },
     "execution_count": 20,
     "metadata": {},
     "output_type": "execute_result"
    }
   ],
   "source": [
    "bst.root.left_child.left_child.key"
   ]
  },
  {
   "cell_type": "code",
   "execution_count": null,
   "metadata": {
    "collapsed": true
   },
   "outputs": [],
   "source": []
  }
 ],
 "metadata": {
  "kernelspec": {
   "display_name": "Python 3",
   "language": "python",
   "name": "python3"
  },
  "language_info": {
   "codemirror_mode": {
    "name": "ipython",
    "version": 3
   },
   "file_extension": ".py",
   "mimetype": "text/x-python",
   "name": "python",
   "nbconvert_exporter": "python",
   "pygments_lexer": "ipython3",
   "version": "3.6.1"
  }
 },
 "nbformat": 4,
 "nbformat_minor": 2
}
