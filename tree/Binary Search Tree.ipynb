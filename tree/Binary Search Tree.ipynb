{
 "cells": [
  {
   "cell_type": "code",
   "execution_count": 106,
   "metadata": {
    "collapsed": true
   },
   "outputs": [],
   "source": [
    "class TreeNode(object):\n",
    "    def __init__(self, key, value, parent=None, left_child=None, right_child=None):\n",
    "        self.key = key\n",
    "        self.payload = value\n",
    "        self.parent = parent\n",
    "        self.left_child = left_child\n",
    "        self.right_child = right_child\n",
    "\n",
    "    def has_left_child(self):\n",
    "        return self.left_child\n",
    "    def has_right_child(self):\n",
    "        return self.right_child\n",
    "    def has_parent(self):\n",
    "        return self.parent\n",
    "    def is_left_child(self):\n",
    "        return self.parent and self.parent.left_child == self\n",
    "    def is_right_child(self):\n",
    "        return self.parent and self.parent.right_child == self\n",
    "    def has_both_children(self):\n",
    "        return self.left_child and self.right_child\n",
    "    def is_root(self):\n",
    "        return not self.parent\n",
    "    def is_leaf(self):\n",
    "        return not (self.left_child or self.right_child)\n",
    "\n",
    "class BinarySearchTree(object):\n",
    "    def __init__(self):\n",
    "        self.root = None\n",
    "        self.size = 0\n",
    "    def length(self):\n",
    "        return self.size\n",
    "    def __len__(self):\n",
    "        return self.size\n",
    "    def __setitem__(self,k,v):\n",
    "        self.put(k,v)\n",
    "    def __getitem__(self,key):\n",
    "        return self.get(key)\n",
    "    def __contains__(self,key):\n",
    "        if self.get(key):\n",
    "            return True\n",
    "        else:\n",
    "            return False\n",
    "    def __delitem__(self, key):\n",
    "        self.delete(key)\n",
    "        \n",
    "    def put(self, key, value):\n",
    "        if self.root == None:\n",
    "            self.root = TreeNode(key, value)\n",
    "            self.size += 1\n",
    "        else:\n",
    "            self._put(self.root, key, value)\n",
    "        self.size += 1\n",
    "        \n",
    "    def _put(self, current_node, key, value):\n",
    "        # if the new node is smaller than the current node, then goes to its left side\n",
    "        if key < current_node.key:\n",
    "            # check is the current has left child\n",
    "            if current_node.has_left_child():\n",
    "                self._put(current_node.left_child, key, value)\n",
    "            else:\n",
    "                current_node.left_child = TreeNode(key, value, parent=current_node)\n",
    "        # if the new node is larger than the current node, then goes to its right side\n",
    "        else:\n",
    "            if current_node.has_right_child():\n",
    "                self._put(current_node.right_child, key, value)\n",
    "            else:\n",
    "                current_node.right_child = TreeNode(key, value, parent=current_node)\n",
    "        \n",
    "    def get(self, key):\n",
    "        \"\"\"Given the key, return the payload\"\"\"  \n",
    "        if self.root == None:\n",
    "            return None\n",
    "        else:\n",
    "            res = self._get(self.root, key)\n",
    "        if res:\n",
    "            return res.payload\n",
    "        else:\n",
    "            return None\n",
    "    \n",
    "    def _get(self, current_node, key):\n",
    "        if not current_node:\n",
    "            return None\n",
    "        elif key == current_node.key:\n",
    "            return current_node\n",
    "        # go left\n",
    "        elif key < current_node.key:\n",
    "            return self._get(current_node.left_child, key)\n",
    "        # go right\n",
    "        else:\n",
    "            return self._get(current_node.right_child, key)\n",
    "\n",
    "    \n",
    "#     def __iter__(self):\n",
    "#         if self:\n",
    "#             if self.has_left_child():\n",
    "#                 for element in self.left_child:\n",
    "#                     yield element\n",
    "#             yield self.key\n",
    "#             if self.has_right_child():\n",
    "#                 for elemen in self.right_child:\n",
    "#                     yield element\n",
    "    def delete(self, key):\n",
    "        if self.root == None:\n",
    "            raise KeyError('Key not in tree')\n",
    "        if self.size == 1 and self.key == key:\n",
    "            self.root = None\n",
    "            self.size -= 1\n",
    "            return\n",
    "        node_to_remove = self._get(self.root, key)\n",
    "        if not node_to_remove:\n",
    "            raise KeyError('Key not in tree')\n",
    "        \n",
    "        self.remove(node_to_remove)\n",
    "        self.size -= 1\n",
    "        print('deleted', key)\n",
    "        \n",
    "    def remove(self, node_to_remove):\n",
    "        # if the node is leaf node, set its parent's left/right to none and remove it.\n",
    "        if node_to_remove.is_leaf():\n",
    "            print('leaf node')\n",
    "            if node_to_remove.is_left_child():\n",
    "                node_to_remove.parent.left_child = None\n",
    "            if node_to_remove.is_right_child():\n",
    "                node_to_remove.parent.right_child = None\n",
    "        # if the node has both child\n",
    "        elif node_to_remove.has_both_children():\n",
    "            print('both child')\n",
    "            print(node_to_remove.right_child)\n",
    "            # find the successor from the right child node \n",
    "            successor = self.find_min(node_to_remove.right_child)\n",
    "            # copy the successor data into the node to delete\n",
    "            node_to_remove.key = successor.key\n",
    "            node_to_remove.payload = successor.payload\n",
    "            # remove the successor\n",
    "            self.remove(successor)\n",
    "        # if only one child, then simply promote the child by \n",
    "        else:\n",
    "            print('only on child')\n",
    "            if node_to_remove.is_left_child():\n",
    "                if node_to_remove.has_left_child():\n",
    "                    node_to_remove.parent.left_child = node_to_remove.left_child\n",
    "                    node_to_remove.left_child.parent = node_to_remove.parent\n",
    "                if node_to_remove.has_right_child():\n",
    "                    node_to_remove.parent.left_child = node_to_remove.right_child\n",
    "                    node_to_remove.right_child.parent = node_to_remove.parent\n",
    "            if node_to_remove.is_right_child():\n",
    "                if node_to_remove.has_left_child():\n",
    "                    node_to_remove.parent.right_child = node_to_remove.left_child\n",
    "                    node_to_remove.left_child.parent = node_to_remove.parent\n",
    "                if node_to_remove.has_right_child():\n",
    "                    node_to_remove.parent.right_child = node_to_remove.right_child\n",
    "                    node_to_remove.right_child.parent = node_to_remove.parent\n",
    "            \n",
    "    def find_min(self, current_node):\n",
    "        #  current_node = self\n",
    "        while current_node.left_child:\n",
    "            current_node = current_node.left_child\n",
    "        return current_node\n",
    "    "
   ]
  },
  {
   "cell_type": "code",
   "execution_count": 107,
   "metadata": {
    "collapsed": true
   },
   "outputs": [],
   "source": [
    "bst = BinarySearchTree()\n",
    "bst[17] = 'seventeen'\n",
    "bst[12] = 'twelve'\n",
    "bst[10] = 'ten'\n",
    "bst[15] = 'fifteen'\n",
    "bst[9] = 'nine'\n",
    "bst[11] = 'eleven'\n",
    "bst[13] = 'thirteen'\n",
    "bst[16] = 'sixteen'\n",
    "bst[14] = 'forteen'\n"
   ]
  },
  {
   "cell_type": "code",
   "execution_count": 108,
   "metadata": {},
   "outputs": [
    {
     "name": "stdout",
     "output_type": "stream",
     "text": [
      "None\n"
     ]
    }
   ],
   "source": [
    "print(bst[1])"
   ]
  },
  {
   "cell_type": "code",
   "execution_count": 109,
   "metadata": {},
   "outputs": [
    {
     "data": {
      "text/plain": [
       "10"
      ]
     },
     "execution_count": 109,
     "metadata": {},
     "output_type": "execute_result"
    }
   ],
   "source": [
    "bst.root.left_child.left_child.key"
   ]
  },
  {
   "cell_type": "code",
   "execution_count": 110,
   "metadata": {},
   "outputs": [
    {
     "name": "stdout",
     "output_type": "stream",
     "text": [
      "both child\n",
      "<__main__.TreeNode object at 0x10bc10cf8>\n",
      "leaf node\n",
      "deleted 10\n"
     ]
    }
   ],
   "source": [
    "del bst[10]"
   ]
  },
  {
   "cell_type": "code",
   "execution_count": 111,
   "metadata": {},
   "outputs": [],
   "source": [
    "bst[10]"
   ]
  },
  {
   "cell_type": "code",
   "execution_count": null,
   "metadata": {
    "collapsed": true
   },
   "outputs": [],
   "source": []
  }
 ],
 "metadata": {
  "kernelspec": {
   "display_name": "Python 3",
   "language": "python",
   "name": "python3"
  },
  "language_info": {
   "codemirror_mode": {
    "name": "ipython",
    "version": 3
   },
   "file_extension": ".py",
   "mimetype": "text/x-python",
   "name": "python",
   "nbconvert_exporter": "python",
   "pygments_lexer": "ipython3",
   "version": "3.6.1"
  }
 },
 "nbformat": 4,
 "nbformat_minor": 2
}
