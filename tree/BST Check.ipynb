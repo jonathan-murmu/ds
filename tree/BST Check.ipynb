{
 "cells": [
  {
   "cell_type": "code",
   "execution_count": 33,
   "metadata": {
    "collapsed": true
   },
   "outputs": [],
   "source": [
    "class Node:\n",
    "    def __init__(self, k, val):\n",
    "        self.key = k\n",
    "        self.value = val\n",
    "        self.left = None\n",
    "        self.right = None"
   ]
  },
  {
   "cell_type": "code",
   "execution_count": 105,
   "metadata": {
    "collapsed": true
   },
   "outputs": [],
   "source": [
    "def inorder(node):\n",
    "    if node == None:\n",
    "        return\n",
    "    inorder(node.left)\n",
    "    print(node.key)\n",
    "    inorder(node.right)\n",
    "    \n",
    "    "
   ]
  },
  {
   "cell_type": "code",
   "execution_count": 120,
   "metadata": {
    "collapsed": true
   },
   "outputs": [],
   "source": [
    "def verify(node):\n",
    "#     print(node.key, node.left.key, node.right.key)\n",
    "    if node == None:\n",
    "        return False\n",
    "    if node.right == None:\n",
    "        return True\n",
    "    if node.left == None:\n",
    "        return True\n",
    "    print(node.key, node.left.key, node.right.key)\n",
    "    if node.left.key <= node.key <= node.right.key:\n",
    "        return verify(node.left)\n",
    "        return verify(node.right)\n",
    "    else:\n",
    "        return False\n",
    "    return True"
   ]
  },
  {
   "cell_type": "code",
   "execution_count": 126,
   "metadata": {
    "collapsed": true
   },
   "outputs": [],
   "source": [
    "one = Node(1, 'one')\n",
    "two = Node(2, 'two')\n",
    "three = Node(3, 'three')\n",
    "five = Node(5, 'five')\n",
    "four = Node(4, 'four')\n",
    "six = Node(6, 'six')\n",
    "seven = Node(7, 'seven')\n",
    "eight = Node(8, 'eight')\n",
    "nine = Node(9, 'nine')\n",
    "\n"
   ]
  },
  {
   "cell_type": "code",
   "execution_count": 127,
   "metadata": {
    "collapsed": true
   },
   "outputs": [],
   "source": [
    "six.left = four\n",
    "six.right = eight\n",
    "four.left = two\n",
    "four.right = seven\n",
    "two.left = one\n",
    "two.right = three\n",
    "# eight.left = seven\n",
    "eight.right = nine\n"
   ]
  },
  {
   "cell_type": "code",
   "execution_count": 128,
   "metadata": {},
   "outputs": [
    {
     "name": "stdout",
     "output_type": "stream",
     "text": [
      "1\n",
      "2\n",
      "3\n",
      "4\n",
      "7\n",
      "6\n",
      "8\n",
      "9\n"
     ]
    }
   ],
   "source": [
    "inorder(six)"
   ]
  },
  {
   "cell_type": "code",
   "execution_count": 129,
   "metadata": {},
   "outputs": [
    {
     "name": "stdout",
     "output_type": "stream",
     "text": [
      "6 4 8\n",
      "4 2 7\n",
      "2 1 3\n"
     ]
    },
    {
     "data": {
      "text/plain": [
       "True"
      ]
     },
     "execution_count": 129,
     "metadata": {},
     "output_type": "execute_result"
    }
   ],
   "source": [
    "verify(six)"
   ]
  },
  {
   "cell_type": "code",
   "execution_count": null,
   "metadata": {
    "collapsed": true
   },
   "outputs": [],
   "source": []
  },
  {
   "cell_type": "code",
   "execution_count": null,
   "metadata": {
    "collapsed": true
   },
   "outputs": [],
   "source": []
  }
 ],
 "metadata": {
  "kernelspec": {
   "display_name": "Python 3",
   "language": "python",
   "name": "python3"
  },
  "language_info": {
   "codemirror_mode": {
    "name": "ipython",
    "version": 3
   },
   "file_extension": ".py",
   "mimetype": "text/x-python",
   "name": "python",
   "nbconvert_exporter": "python",
   "pygments_lexer": "ipython3",
   "version": "3.6.1"
  }
 },
 "nbformat": 4,
 "nbformat_minor": 2
}
