{
 "cells": [
  {
   "cell_type": "markdown",
   "metadata": {},
   "source": [
    "# Observer\n",
    "Define a one-to-many dependency between objects so that when one object changes state, all its dependents are notified and updated automatically.\n",
    "It is a Behavioral Design Patterns"
   ]
  },
  {
   "cell_type": "markdown",
   "metadata": {},
   "source": [
    "### Applicability & Examples\n",
    "The observer pattern is used when:\n",
    "the change of a state in one object must be reflected in another object without keeping the objects tight coupled.\n",
    "the framework we are writing needs to be enhanced in future with new observers with minimal changes.\n",
    "\n",
    "Some Classical Examples:\n",
    "#### Model View Controller Pattern - \n",
    "In MVC the this pattern is used to decouple the model from the view. View represents the Observer and the model is the Observable object.\n",
    "#### Event management - \n",
    "This is one of the domains where the Observer patterns is extensively used. Swing and .Net are extensively using the Observer pattern for implementing the events mechanism."
   ]
  },
  {
   "cell_type": "markdown",
   "metadata": {},
   "source": [
    "How it works:\n",
    "* The subject is the keeper of the data model/buisness logic\n",
    "\n",
    "* Delegate all view functionality to decoupled and distinct Observer objects, which register themselves with the subject.\n",
    "\n",
    "* When subject changes is broadcast to all registered observers."
   ]
  },
  {
   "cell_type": "markdown",
   "metadata": {},
   "source": [
    "![observer_pattern.jpg](attachment:observer_pattern.jpg)"
   ]
  },
  {
   "cell_type": "code",
   "execution_count": 2,
   "metadata": {
    "collapsed": true
   },
   "outputs": [],
   "source": [
    "class Observable:\n",
    "    \"\"\"The Subject.\"\"\"\n",
    "    def __init__(self):\n",
    "        self.observers = []\n",
    "    \n",
    "    def register(self, observer):\n",
    "        \"\"\"Register or attach.\"\"\"\n",
    "        if observer not in self.observers:\n",
    "            self.observers.append(observer)\n",
    "    \n",
    "    def unregister(self, observer):\n",
    "        \"\"\"Unregister or detach.\"\"\"\n",
    "        if observer in self.observers:\n",
    "            self.observers.remove(observer)\n",
    "    \n",
    "    def unregister_all(self):\n",
    "        del self.observers[:]\n",
    "    \n",
    "    def update_observers(self, *args, **kwargs):\n",
    "        \"\"\"Notify its observers\"\"\"\n",
    "        for observer in self.observers:\n",
    "            observer.update(*args, **kwargs)"
   ]
  },
  {
   "cell_type": "code",
   "execution_count": 3,
   "metadata": {
    "collapsed": true
   },
   "outputs": [],
   "source": [
    "class Observer:\n",
    "    \"\"\"Abstract Observer class.\"\"\"\n",
    "    def update(self, *args, **kwargs):\n",
    "        pass"
   ]
  },
  {
   "cell_type": "code",
   "execution_count": 4,
   "metadata": {
    "collapsed": true
   },
   "outputs": [],
   "source": [
    "class AmericanStockMarket(Observer):\n",
    "    def update(self, *args, **kwargs):\n",
    "        print('American stock market: {0}\\n{1}'.format(args, kwargs))\n",
    "\n",
    "class EuropeanStockMarket(Observer):\n",
    "    def update(self, *args, **kwargs):\n",
    "        print('European stock market: {0}\\n{1}'.format(args, kwargs))"
   ]
  },
  {
   "cell_type": "code",
   "execution_count": 5,
   "metadata": {},
   "outputs": [],
   "source": [
    "really_big_company = Observable()  # subject"
   ]
  },
  {
   "cell_type": "code",
   "execution_count": 6,
   "metadata": {
    "collapsed": true
   },
   "outputs": [],
   "source": [
    "american_observer = AmericanStockMarket()\n",
    "really_big_company.register(american_observer)\n",
    "\n",
    "european_observer = EuropeanStockMarket()\n",
    "really_big_company.register(european_observer)"
   ]
  },
  {
   "cell_type": "code",
   "execution_count": 7,
   "metadata": {},
   "outputs": [
    {
     "name": "stdout",
     "output_type": "stream",
     "text": [
      "American stock market: ('important update',)\n",
      "{'msg': 'CEO resigned'}\n",
      "European stock market: ('important update',)\n",
      "{'msg': 'CEO resigned'}\n"
     ]
    }
   ],
   "source": [
    "#now notify the observer\n",
    "really_big_company.update_observers('important update', msg='CEO resigned')"
   ]
  },
  {
   "cell_type": "code",
   "execution_count": null,
   "metadata": {
    "collapsed": true
   },
   "outputs": [],
   "source": []
  }
 ],
 "metadata": {
  "kernelspec": {
   "display_name": "Python 3",
   "language": "python",
   "name": "python3"
  },
  "language_info": {
   "codemirror_mode": {
    "name": "ipython",
    "version": 3
   },
   "file_extension": ".py",
   "mimetype": "text/x-python",
   "name": "python",
   "nbconvert_exporter": "python",
   "pygments_lexer": "ipython3",
   "version": "3.6.1"
  }
 },
 "nbformat": 4,
 "nbformat_minor": 2
}
